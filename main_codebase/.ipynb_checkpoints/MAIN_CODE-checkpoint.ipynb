{
 "cells": [
  {
   "cell_type": "markdown",
   "id": "e4bc96e3",
   "metadata": {},
   "source": [
    "### Imports"
   ]
  },
  {
   "cell_type": "code",
   "execution_count": 1,
   "id": "77e371e1",
   "metadata": {},
   "outputs": [
    {
     "name": "stdout",
     "output_type": "stream",
     "text": [
      "IMPORT : main_var \n",
      "IMPORT : utils_art\n",
      "IMPORT : text_analysis\n",
      "WARNING:tensorflow:From C:\\Users\\User\\anaconda3\\Lib\\site-packages\\tf_keras\\src\\losses.py:2976: The name tf.losses.sparse_softmax_cross_entropy is deprecated. Please use tf.compat.v1.losses.sparse_softmax_cross_entropy instead.\n",
      "\n"
     ]
    },
    {
     "name": "stderr",
     "output_type": "stream",
     "text": [
      "Some weights of the model checkpoint at cardiffnlp/twitter-roberta-base-sentiment-latest were not used when initializing RobertaForSequenceClassification: ['roberta.pooler.dense.bias', 'roberta.pooler.dense.weight']\n",
      "- This IS expected if you are initializing RobertaForSequenceClassification from the checkpoint of a model trained on another task or with another architecture (e.g. initializing a BertForSequenceClassification model from a BertForPreTraining model).\n",
      "- This IS NOT expected if you are initializing RobertaForSequenceClassification from the checkpoint of a model that you expect to be exactly identical (initializing a BertForSequenceClassification model from a BertForSequenceClassification model).\n"
     ]
    },
    {
     "name": "stdout",
     "output_type": "stream",
     "text": [
      "IMPORT : article_scraping_lib\n"
     ]
    },
    {
     "name": "stderr",
     "output_type": "stream",
     "text": [
      "Some weights of the model checkpoint at cardiffnlp/twitter-roberta-base-sentiment-latest were not used when initializing RobertaForSequenceClassification: ['roberta.pooler.dense.bias', 'roberta.pooler.dense.weight']\n",
      "- This IS expected if you are initializing RobertaForSequenceClassification from the checkpoint of a model trained on another task or with another architecture (e.g. initializing a BertForSequenceClassification model from a BertForPreTraining model).\n",
      "- This IS NOT expected if you are initializing RobertaForSequenceClassification from the checkpoint of a model that you expect to be exactly identical (initializing a BertForSequenceClassification model from a BertForSequenceClassification model).\n"
     ]
    },
    {
     "name": "stdout",
     "output_type": "stream",
     "text": [
      "IMPORT : article_parsing_lib \n",
      "IMPORT : openai_module_lib\n"
     ]
    }
   ],
   "source": [
    "import main_var\n",
    "env = \"test_new/\"\n",
    "mv = main_var.main_var(env=env)\n",
    "\n",
    "from article_scraping_lib import *\n",
    "from article_parsing_lib import *\n",
    "from openai_module_lib import *\n",
    "from embedding_keyword_module_lib import *\n",
    "from utils_art import *"
   ]
  },
  {
   "cell_type": "markdown",
   "id": "8fdf7c17",
   "metadata": {},
   "source": [
    "## Querring and saving artilce list"
   ]
  },
  {
   "cell_type": "code",
   "execution_count": null,
   "id": "1c6ff60d",
   "metadata": {},
   "outputs": [],
   "source": [
    "df = loop_scraping(8,'2010-01-01','2024-01-01',sampling_1=12,sampling_2=3,save_steps=True,save_final=True,display=True)"
   ]
  },
  {
   "cell_type": "markdown",
   "id": "35572c10",
   "metadata": {},
   "source": [
    "#### Display Statistics"
   ]
  },
  {
   "cell_type": "code",
   "execution_count": null,
   "id": "e6bce882",
   "metadata": {
    "scrolled": true
   },
   "outputs": [],
   "source": [
    "df = openDFcsv(mv.query_path,\"query_fileF\")\n",
    "plotDFstatisticsQuerry(df,70,True)\n",
    "displayStats(df) "
   ]
  },
  {
   "cell_type": "markdown",
   "id": "311179fc",
   "metadata": {},
   "source": [
    "#### Filter articles with a source that is too/not enought scrapped and source/category/date"
   ]
  },
  {
   "cell_type": "code",
   "execution_count": null,
   "id": "e4cafd68",
   "metadata": {},
   "outputs": [],
   "source": [
    "df2 = filterQuerryDataset(df,400,30,True,False,True)\n",
    "plotDFstatisticsQuerry(df2)\n",
    "displayStats(df2)"
   ]
  },
  {
   "cell_type": "code",
   "execution_count": null,
   "id": "f3499a7c",
   "metadata": {},
   "outputs": [],
   "source": [
    "categroy_l = [\"WORLD\",\"NATION\",\"BUSINESS\",\"TECHNOLOGY\"]\n",
    "categroy_l = []\n",
    "# source_l = [\"The New York Times\",\"The Nation\",\"Business Insider\",\"Business Insider\"]\n",
    "source_l = [\"Newsweek\",\"Yahoo Finance\",\"ESPN\",\"Fox News\"]\n",
    "source_l = [\"World Health Organization (WHO)\",\"Pew Research Center\",\"The New York Times\",\"Nature.com\",\"Tax Foundation\",\"Union of Concerned Scientists\"]\n",
    "df3 = selectOnDf(df2,date_start=\"2010-01-01\", date_end=\"2024-01-01\", categroy_list=categroy_l, source_list=source_l)\n",
    "displayStats(df3)\n",
    "saveDFcsv(df3,mv.query_path,\"query_fileG_cap\")"
   ]
  },
  {
   "cell_type": "code",
   "execution_count": null,
   "id": "1ce570e4",
   "metadata": {},
   "outputs": [],
   "source": [
    "df = readArticleFileTable(index_from=0,index_to=11064,save_articles=True,save_final=True,save_steps=True,display_df=True,step_pct=0.01,add_nlp=2,filtered_input_df=True)"
   ]
  },
  {
   "cell_type": "code",
   "execution_count": null,
   "id": "930f8309",
   "metadata": {
    "scrolled": true
   },
   "outputs": [],
   "source": [
    "df = joinQuerryAndParse(save=True,remove_invalid=True,display=True,filtered_input_df=True)"
   ]
  },
  {
   "cell_type": "code",
   "execution_count": null,
   "id": "9359d500",
   "metadata": {},
   "outputs": [],
   "source": [
    "df2 = mainGeneration(True,False,10,9642,7500,9999,True,True,True,0.1)"
   ]
  },
  {
   "cell_type": "code",
   "execution_count": null,
   "id": "b73e0f01",
   "metadata": {},
   "outputs": [],
   "source": [
    "emb_mat = extractEmbeddingFromFile(999999999)"
   ]
  },
  {
   "cell_type": "code",
   "execution_count": null,
   "id": "4bd497e8",
   "metadata": {},
   "outputs": [],
   "source": [
    "# df = openDFcsv(mv.join1_path,mv.join1_filename)\n",
    "# genrateKeywordExtract(df, 9641,500,\"keywords_list\")\n",
    "df = mainKeywordWF(9641,1000)"
   ]
  },
  {
   "cell_type": "code",
   "execution_count": null,
   "id": "f60ef3b8",
   "metadata": {},
   "outputs": [],
   "source": []
  },
  {
   "cell_type": "code",
   "execution_count": null,
   "id": "61741c29",
   "metadata": {},
   "outputs": [],
   "source": [
    "mainJoin()"
   ]
  },
  {
   "cell_type": "code",
   "execution_count": null,
   "id": "9db8524a",
   "metadata": {},
   "outputs": [],
   "source": [
    "col_list = [\"category\",\"source_title\",\"year_month\",\"url_TLD\",\"year\"]\n",
    "df_list_len = calculateStatsColList(df,col_list,\"len\",display_df=True)\n",
    "df_list_npl = calculateStatsColList(df,col_list,\"nlp\",display_df=True,display_stats=False) "
   ]
  },
  {
   "cell_type": "code",
   "execution_count": null,
   "id": "3d81540d",
   "metadata": {},
   "outputs": [],
   "source": [
    "print(df2.dtypes)"
   ]
  },
  {
   "cell_type": "code",
   "execution_count": null,
   "id": "3fb78803",
   "metadata": {},
   "outputs": [],
   "source": [
    "mainJoin()\n",
    " "
   ]
  },
  {
   "cell_type": "code",
   "execution_count": null,
   "id": "a3b404e4",
   "metadata": {
    "scrolled": true
   },
   "outputs": [],
   "source": [
    "# df = openDFcsv(mv.query_path,mv.query_filename)\n",
    "# df3 = selectOnDf(df2,\"\",\"\")\n",
    "# plotDFstatisticsQuerry(df,70)\n",
    "# displayStats(df)\n",
    "# saveDFcsv(df3,mv.query_path,mv.query_filename)\n",
    "\n",
    "\n",
    "\n",
    "# df = loop_scraping(9,'2020-01-01','2024-01-01',sampling_1=4,sampling_2=1,save_steps=True,save_final=True,display=True)\n",
    "# df = openDFcsv(mv.query_path,mv.query_filename)\n",
    "# df2 =  filterQuerryDataset(df,50,10,True,True,False)\n",
    "\n",
    "# df = openDFcsv(mv.query_path,mv.query_filename)\n",
    "df_querry = readArticleFileTable(index_from=0,index_to=100,save_articles=True,save_final=True,save_steps=True,step_pct=0.1,add_nlp=2,filtered_input_df=True)\n",
    "# df_join = joinQuerryAndParse(save=True,remove_invalid=True,display=True,filtered_input_df=True)\n",
    "# df_embd = mainGeneration(True,False,10,99999999,7500,9999,True,True,True,0.1)\n",
    "# emb_mat = extractEmbeddingFromFile(999999999)\n",
    "# df_key = mainKeywordWF(99999999999,100)\n",
    "# df_final = mainJoinOut()"
   ]
  },
  {
   "cell_type": "code",
   "execution_count": null,
   "id": "17793f7b",
   "metadata": {},
   "outputs": [],
   "source": [
    "# df = loop_scraping(9,'2020-01-01','2024-01-01',sampling_1=4,sampling_2=1,save_steps=True,save_final=True,display=True)\n",
    "# df2 =  filterQuerryDataset(df,50,10,True,True,True)\n",
    "# df_querry = readArticleFileTable(index_from=0,index_to=9999999999999,save_articles=True,save_final=True,save_steps=True,step_pct=0.1,add_nlp=0,filtered_input_df=True)\n",
    "# df_join = joinQuerryAndParse(save=True,remove_invalid=True,display=True,filtered_input_df=True)\n",
    "# df_embd = mainGeneration(True,False,10,99999999,7500,9999,True,True,True,0.1)\n",
    "# emb_mat = extractEmbeddingFromFile(999999999)\n",
    "# df_key = mainKeywordWF(99999999999,10)\n",
    "# df_final = mainJoinOut()"
   ]
  },
  {
   "cell_type": "code",
   "execution_count": null,
   "id": "4706f103",
   "metadata": {},
   "outputs": [],
   "source": []
  }
 ],
 "metadata": {
  "kernelspec": {
   "display_name": "Python 3 (ipykernel)",
   "language": "python",
   "name": "python3"
  },
  "language_info": {
   "codemirror_mode": {
    "name": "ipython",
    "version": 3
   },
   "file_extension": ".py",
   "mimetype": "text/x-python",
   "name": "python",
   "nbconvert_exporter": "python",
   "pygments_lexer": "ipython3",
   "version": "3.11.5"
  }
 },
 "nbformat": 4,
 "nbformat_minor": 5
}
