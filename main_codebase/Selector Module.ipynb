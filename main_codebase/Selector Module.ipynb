{
 "cells": [
  {
   "cell_type": "code",
   "execution_count": 138,
   "id": "66ed0bea",
   "metadata": {},
   "outputs": [
    {
     "name": "stdout",
     "output_type": "stream",
     "text": [
      "dataset size :  (4537, 82)\n"
     ]
    },
    {
     "data": {
      "text/html": [
       "\n",
       "        <iframe\n",
       "            width=\"100%\"\n",
       "            height=\"650\"\n",
       "            src=\"http://127.0.0.1:8050/\"\n",
       "            frameborder=\"0\"\n",
       "            allowfullscreen\n",
       "            \n",
       "        ></iframe>\n",
       "        "
      ],
      "text/plain": [
       "<IPython.lib.display.IFrame at 0x1a88e28f690>"
      ]
     },
     "metadata": {},
     "output_type": "display_data"
    }
   ],
   "source": [
    "# Run this app with `python app.py` and\n",
    "# visit http://127.0.0.1:8050/ in your web browser.\n",
    "\n",
    "\n",
    "from dash import Dash, html, dcc, dash_table, callback, Input, Output\n",
    "import pandas as pd\n",
    "import dash_bootstrap_components as dbc\n",
    "\n",
    "app = Dash(__name__)\n",
    "df = pd.read_csv(\"C:/Users/User/OneDrive/Desktop/Article_LLM/main_files/3_1_join_main/.main/join2_file_small.csv\")\n",
    "col_list = [\"category\",\"year_month\",\"title_quer\",\"source_title\"]#,\"pk\",\"url\",\"keywords_list\",\"published\",\"text_len\"\n",
    "print(\"dataset size : \",df.shape)\n",
    "app = Dash(external_stylesheets=[dbc.themes.BOOTSTRAP])\n",
    "app.layout = html.Div([\n",
    "    html.Div([\n",
    "    html.Div(children=[\n",
    "        html.Label('Publish date range :',style={'textAlign': 'center'}),\n",
    "        html.Br(),\n",
    "        dcc.DatePickerRange(id='my-date-picker-range',\n",
    "            min_date_allowed=date(1995, 8, 5),\n",
    "            max_date_allowed=date(2017, 9, 19),\n",
    "            end_date=date(2000, 1, 1),\n",
    "            start_date=date(2005, 1, 1)\n",
    "        )], style={'padding': 10, 'flex': 1}),\n",
    "    html.Div(children=[\n",
    "        html.Label('Category :',style={'textAlign': 'left'}),#, style={'textAlign': 'left'}\n",
    "        html.Br(),\n",
    "        dcc.Dropdown([\"TOP\",\"WORLD\",\"NATION\",\"BUSINESS\",\"TECHNOLOGY\",\"ENTERTAINMENT\",\"SCIENCE\",\"SPORTS\",\"HEALTH\"],multi=True),\n",
    "    ], style={'padding': 10, 'flex': 1})\n",
    "    ], style={'display': 'flex', 'flexDirection': 'row'}),\n",
    "    html.Br(),\n",
    "    html.Div(children=[\n",
    "        html.Label('Keyword reearch :',style={'textAlign': 'center'}),\n",
    "        html.Br(),\n",
    "        dcc.Input(id=\"input_search\",type=\"search\",placeholder=\"input type search\", size=\"100\"),\n",
    "#         html.Div(children=[\n",
    "#             dcc.RangeSlider(0, 20, 1, value=[5, 15], id='my-range-slider1'),\n",
    "#             dcc.RangeSlider(0, 20, 1, value=[5, 15], id='my-range-slider2'),\n",
    "#             dcc.RangeSlider(0, 20, 1, value=[5, 15], id='my-range-slider3'),\n",
    "#         ], style={'display': 'flex', 'flexDirection': 'column'}),\n",
    "        html.Div([dbc.Row([\n",
    "            dbc.Col(dcc.RangeSlider(0, 1, value=[0, 1],marks={0: \"0\",0.5:\"0.5\",1:\"1\"},tooltip={\"placement\": \"bottom\", \"always_visible\": True}, id='my-range-slider1')),\n",
    "            dbc.Col(dcc.RangeSlider(0, 1, value=[0, 1],marks={0: \"0\",0.5:\"0.5\",1:\"1\"},tooltip={\"placement\": \"bottom\", \"always_visible\": True}, id='my-range-slider1')),\n",
    "            dbc.Col(dcc.RangeSlider(0, 1, value=[0, 1],marks={0: \"0\",0.5:\"0.5\",1:\"1\"},tooltip={\"placement\": \"bottom\", \"always_visible\": True}, id='my-range-slider1')),\n",
    "        ], style={'padding': 0, 'flex': 1})]),\n",
    "        dash_table.DataTable(df.to_dict('records'),[{\"name\": i, \"id\": i} for i in col_list], id='tbl',style_table={'overflowX': 'auto'},style_cell={'textAlign': 'left'},style_as_list_view=True, page_size=50,style_header={'backgroundColor': 'black',\"color\":\"white\",'fontWeight': 'bold'}),#df.columns\n",
    "        #html.Div(id='output-container-range-slider')\n",
    "#         \n",
    "#         dbc.Alert(id='tbl_out'),\n",
    "        html.Div(id=\"out-article-info\")\n",
    "    ], style={'padding': 10, 'flex': 1})])\n",
    "    \n",
    "#, style={'padding': 10, 'flex': 1, 'flexDirection': 'column'}\n",
    "#], style={'display': 'flex', 'flexDirection': 'row'})\n",
    "\n",
    "# @callback(Output('tbl_out', 'children'), Input('tbl', 'active_cell'))\n",
    "# def update_graphs(active_cell):\n",
    "#     return str(active_cell) if active_cell else \"Click the table\"\n",
    "\n",
    "@callback(Output('out-article-info', 'children'), Input('input_search', 'value'))\n",
    "def update_graphs(input_search):\n",
    "    df_sel = df[df['hash_key']==input_search]\n",
    "    fig = dcc.Markdown(\"# ERROR nothing found !\")\n",
    "    if df_sel.shape[0]!=0:\n",
    "        df_sel_dict = df_sel.to_dict(orient='records')[0]\n",
    "        \n",
    "        fig = dcc.Markdown(\" * \"+\" * \".join((str(\"\"+str(col)+\" : \"+str(df_sel_dict[col])+\"\\n\\n\") for col in col_list)))\n",
    "        \n",
    "    return fig\n",
    "if __name__ == '__main__':\n",
    "    app.run(debug=True)"
   ]
  },
  {
   "cell_type": "code",
   "execution_count": null,
   "id": "c23011a5",
   "metadata": {},
   "outputs": [],
   "source": [
    "#initial_visible_month=date(2017, 8, 5),\n",
    "#df = pd.read_csv('https://git.io/Juf1t')\n",
    "#style={\"width\": \"30%\", \"padding\": \"0px\"}\n",
    "#, style={'padding': 10, 'flex': 1, 'flexDirection': 'column'}\n",
    "#html.Br(),\n",
    "#html.Br(),\n",
    "#style={\"width\": \"30%\", \"padding\": \"10px\"}\n",
    "        #fig = dcc.Markdown(f'### Title of the article: {str(df_sel_dict[\"title_quer\"])} \\n### Date of the article : {str(df_sel_dict[\"published\"])}')"
   ]
  },
  {
   "cell_type": "code",
   "execution_count": 127,
   "id": "ae960158",
   "metadata": {},
   "outputs": [],
   "source": [
    "import dash_bootstrap_components as dbc\n",
    "from dash import html\n",
    "\n",
    "row = html.Div([dbc.Row([\n",
    "                dbc.Col(dcc.RangeSlider(0, 20, 1, value=[5, 15], id='my-range-slider1'), width=3),\n",
    "                dbc.Col(dcc.RangeSlider(0, 20, 1, value=[5, 15], id='my-range-slider2')),\n",
    "                dbc.Col(dcc.RangeSlider(0, 20, 1, value=[5, 15], id='my-range-slider3'), width=3),\n",
    "        ])])"
   ]
  },
  {
   "cell_type": "code",
   "execution_count": null,
   "id": "c2bbfaf7",
   "metadata": {},
   "outputs": [],
   "source": []
  },
  {
   "cell_type": "code",
   "execution_count": 6,
   "id": "8ea04feb",
   "metadata": {},
   "outputs": [],
   "source": [
    "# Run this app with `python app.py` and \n",
    "# visit http://127.0.0.1:8050/ in your web browser.\n",
    "\n",
    "\n",
    "from dash import Dash, html, dcc, html, Input, Output, callback\n",
    "import plotly.express as px\n",
    "import pandas as pd\n",
    "\n",
    "import main_var\n",
    "mv = main_var.main_var()\n",
    "from utils_art import *\n",
    "\n"
   ]
  },
  {
   "cell_type": "code",
   "execution_count": 7,
   "id": "baf8d68b",
   "metadata": {},
   "outputs": [
    {
     "ename": "FileNotFoundError",
     "evalue": "[Errno 2] No such file or directory: 'C:/Users/User/OneDrive/Desktop/Article_LLM/main_files/3_1_join_main/.main/join2_file_agg_y.csv'",
     "output_type": "error",
     "traceback": [
      "\u001b[1;31m---------------------------------------------------------------------------\u001b[0m",
      "\u001b[1;31mFileNotFoundError\u001b[0m                         Traceback (most recent call last)",
      "Cell \u001b[1;32mIn[7], line 2\u001b[0m\n\u001b[0;32m      1\u001b[0m app \u001b[38;5;241m=\u001b[39m Dash(\u001b[38;5;18m__name__\u001b[39m)\n\u001b[1;32m----> 2\u001b[0m df \u001b[38;5;241m=\u001b[39m openDFcsv(mv\u001b[38;5;241m.\u001b[39mjoin2_path,mv\u001b[38;5;241m.\u001b[39mjoin2_filename\u001b[38;5;241m+\u001b[39m\u001b[38;5;124m\"\u001b[39m\u001b[38;5;124m_agg_y\u001b[39m\u001b[38;5;124m\"\u001b[39m)\n\u001b[0;32m      3\u001b[0m col\u001b[38;5;241m=\u001b[39m\u001b[38;5;124m\"\u001b[39m\u001b[38;5;124myear\u001b[39m\u001b[38;5;124m\"\u001b[39m\n\u001b[0;32m      4\u001b[0m display(df\u001b[38;5;241m.\u001b[39mhead())\n",
      "File \u001b[1;32m~\\OneDrive\\Desktop\\Article_LLM\\main_codebase\\utils_art.py:18\u001b[0m, in \u001b[0;36mopenDFcsv\u001b[1;34m(path, filename)\u001b[0m\n\u001b[0;32m     17\u001b[0m \u001b[38;5;28;01mdef\u001b[39;00m \u001b[38;5;21mopenDFcsv\u001b[39m(path, filename) :\n\u001b[1;32m---> 18\u001b[0m     \u001b[38;5;28;01mreturn\u001b[39;00m pd\u001b[38;5;241m.\u001b[39mread_csv(path\u001b[38;5;241m+\u001b[39mfilename\u001b[38;5;241m+\u001b[39m\u001b[38;5;124m\"\u001b[39m\u001b[38;5;124m.csv\u001b[39m\u001b[38;5;124m\"\u001b[39m)\n",
      "File \u001b[1;32m~\\anaconda3\\Lib\\site-packages\\pandas\\io\\parsers\\readers.py:912\u001b[0m, in \u001b[0;36mread_csv\u001b[1;34m(filepath_or_buffer, sep, delimiter, header, names, index_col, usecols, dtype, engine, converters, true_values, false_values, skipinitialspace, skiprows, skipfooter, nrows, na_values, keep_default_na, na_filter, verbose, skip_blank_lines, parse_dates, infer_datetime_format, keep_date_col, date_parser, date_format, dayfirst, cache_dates, iterator, chunksize, compression, thousands, decimal, lineterminator, quotechar, quoting, doublequote, escapechar, comment, encoding, encoding_errors, dialect, on_bad_lines, delim_whitespace, low_memory, memory_map, float_precision, storage_options, dtype_backend)\u001b[0m\n\u001b[0;32m    899\u001b[0m kwds_defaults \u001b[38;5;241m=\u001b[39m _refine_defaults_read(\n\u001b[0;32m    900\u001b[0m     dialect,\n\u001b[0;32m    901\u001b[0m     delimiter,\n\u001b[1;32m   (...)\u001b[0m\n\u001b[0;32m    908\u001b[0m     dtype_backend\u001b[38;5;241m=\u001b[39mdtype_backend,\n\u001b[0;32m    909\u001b[0m )\n\u001b[0;32m    910\u001b[0m kwds\u001b[38;5;241m.\u001b[39mupdate(kwds_defaults)\n\u001b[1;32m--> 912\u001b[0m \u001b[38;5;28;01mreturn\u001b[39;00m _read(filepath_or_buffer, kwds)\n",
      "File \u001b[1;32m~\\anaconda3\\Lib\\site-packages\\pandas\\io\\parsers\\readers.py:577\u001b[0m, in \u001b[0;36m_read\u001b[1;34m(filepath_or_buffer, kwds)\u001b[0m\n\u001b[0;32m    574\u001b[0m _validate_names(kwds\u001b[38;5;241m.\u001b[39mget(\u001b[38;5;124m\"\u001b[39m\u001b[38;5;124mnames\u001b[39m\u001b[38;5;124m\"\u001b[39m, \u001b[38;5;28;01mNone\u001b[39;00m))\n\u001b[0;32m    576\u001b[0m \u001b[38;5;66;03m# Create the parser.\u001b[39;00m\n\u001b[1;32m--> 577\u001b[0m parser \u001b[38;5;241m=\u001b[39m TextFileReader(filepath_or_buffer, \u001b[38;5;241m*\u001b[39m\u001b[38;5;241m*\u001b[39mkwds)\n\u001b[0;32m    579\u001b[0m \u001b[38;5;28;01mif\u001b[39;00m chunksize \u001b[38;5;129;01mor\u001b[39;00m iterator:\n\u001b[0;32m    580\u001b[0m     \u001b[38;5;28;01mreturn\u001b[39;00m parser\n",
      "File \u001b[1;32m~\\anaconda3\\Lib\\site-packages\\pandas\\io\\parsers\\readers.py:1407\u001b[0m, in \u001b[0;36mTextFileReader.__init__\u001b[1;34m(self, f, engine, **kwds)\u001b[0m\n\u001b[0;32m   1404\u001b[0m     \u001b[38;5;28mself\u001b[39m\u001b[38;5;241m.\u001b[39moptions[\u001b[38;5;124m\"\u001b[39m\u001b[38;5;124mhas_index_names\u001b[39m\u001b[38;5;124m\"\u001b[39m] \u001b[38;5;241m=\u001b[39m kwds[\u001b[38;5;124m\"\u001b[39m\u001b[38;5;124mhas_index_names\u001b[39m\u001b[38;5;124m\"\u001b[39m]\n\u001b[0;32m   1406\u001b[0m \u001b[38;5;28mself\u001b[39m\u001b[38;5;241m.\u001b[39mhandles: IOHandles \u001b[38;5;241m|\u001b[39m \u001b[38;5;28;01mNone\u001b[39;00m \u001b[38;5;241m=\u001b[39m \u001b[38;5;28;01mNone\u001b[39;00m\n\u001b[1;32m-> 1407\u001b[0m \u001b[38;5;28mself\u001b[39m\u001b[38;5;241m.\u001b[39m_engine \u001b[38;5;241m=\u001b[39m \u001b[38;5;28mself\u001b[39m\u001b[38;5;241m.\u001b[39m_make_engine(f, \u001b[38;5;28mself\u001b[39m\u001b[38;5;241m.\u001b[39mengine)\n",
      "File \u001b[1;32m~\\anaconda3\\Lib\\site-packages\\pandas\\io\\parsers\\readers.py:1661\u001b[0m, in \u001b[0;36mTextFileReader._make_engine\u001b[1;34m(self, f, engine)\u001b[0m\n\u001b[0;32m   1659\u001b[0m     \u001b[38;5;28;01mif\u001b[39;00m \u001b[38;5;124m\"\u001b[39m\u001b[38;5;124mb\u001b[39m\u001b[38;5;124m\"\u001b[39m \u001b[38;5;129;01mnot\u001b[39;00m \u001b[38;5;129;01min\u001b[39;00m mode:\n\u001b[0;32m   1660\u001b[0m         mode \u001b[38;5;241m+\u001b[39m\u001b[38;5;241m=\u001b[39m \u001b[38;5;124m\"\u001b[39m\u001b[38;5;124mb\u001b[39m\u001b[38;5;124m\"\u001b[39m\n\u001b[1;32m-> 1661\u001b[0m \u001b[38;5;28mself\u001b[39m\u001b[38;5;241m.\u001b[39mhandles \u001b[38;5;241m=\u001b[39m get_handle(\n\u001b[0;32m   1662\u001b[0m     f,\n\u001b[0;32m   1663\u001b[0m     mode,\n\u001b[0;32m   1664\u001b[0m     encoding\u001b[38;5;241m=\u001b[39m\u001b[38;5;28mself\u001b[39m\u001b[38;5;241m.\u001b[39moptions\u001b[38;5;241m.\u001b[39mget(\u001b[38;5;124m\"\u001b[39m\u001b[38;5;124mencoding\u001b[39m\u001b[38;5;124m\"\u001b[39m, \u001b[38;5;28;01mNone\u001b[39;00m),\n\u001b[0;32m   1665\u001b[0m     compression\u001b[38;5;241m=\u001b[39m\u001b[38;5;28mself\u001b[39m\u001b[38;5;241m.\u001b[39moptions\u001b[38;5;241m.\u001b[39mget(\u001b[38;5;124m\"\u001b[39m\u001b[38;5;124mcompression\u001b[39m\u001b[38;5;124m\"\u001b[39m, \u001b[38;5;28;01mNone\u001b[39;00m),\n\u001b[0;32m   1666\u001b[0m     memory_map\u001b[38;5;241m=\u001b[39m\u001b[38;5;28mself\u001b[39m\u001b[38;5;241m.\u001b[39moptions\u001b[38;5;241m.\u001b[39mget(\u001b[38;5;124m\"\u001b[39m\u001b[38;5;124mmemory_map\u001b[39m\u001b[38;5;124m\"\u001b[39m, \u001b[38;5;28;01mFalse\u001b[39;00m),\n\u001b[0;32m   1667\u001b[0m     is_text\u001b[38;5;241m=\u001b[39mis_text,\n\u001b[0;32m   1668\u001b[0m     errors\u001b[38;5;241m=\u001b[39m\u001b[38;5;28mself\u001b[39m\u001b[38;5;241m.\u001b[39moptions\u001b[38;5;241m.\u001b[39mget(\u001b[38;5;124m\"\u001b[39m\u001b[38;5;124mencoding_errors\u001b[39m\u001b[38;5;124m\"\u001b[39m, \u001b[38;5;124m\"\u001b[39m\u001b[38;5;124mstrict\u001b[39m\u001b[38;5;124m\"\u001b[39m),\n\u001b[0;32m   1669\u001b[0m     storage_options\u001b[38;5;241m=\u001b[39m\u001b[38;5;28mself\u001b[39m\u001b[38;5;241m.\u001b[39moptions\u001b[38;5;241m.\u001b[39mget(\u001b[38;5;124m\"\u001b[39m\u001b[38;5;124mstorage_options\u001b[39m\u001b[38;5;124m\"\u001b[39m, \u001b[38;5;28;01mNone\u001b[39;00m),\n\u001b[0;32m   1670\u001b[0m )\n\u001b[0;32m   1671\u001b[0m \u001b[38;5;28;01massert\u001b[39;00m \u001b[38;5;28mself\u001b[39m\u001b[38;5;241m.\u001b[39mhandles \u001b[38;5;129;01mis\u001b[39;00m \u001b[38;5;129;01mnot\u001b[39;00m \u001b[38;5;28;01mNone\u001b[39;00m\n\u001b[0;32m   1672\u001b[0m f \u001b[38;5;241m=\u001b[39m \u001b[38;5;28mself\u001b[39m\u001b[38;5;241m.\u001b[39mhandles\u001b[38;5;241m.\u001b[39mhandle\n",
      "File \u001b[1;32m~\\anaconda3\\Lib\\site-packages\\pandas\\io\\common.py:859\u001b[0m, in \u001b[0;36mget_handle\u001b[1;34m(path_or_buf, mode, encoding, compression, memory_map, is_text, errors, storage_options)\u001b[0m\n\u001b[0;32m    854\u001b[0m \u001b[38;5;28;01melif\u001b[39;00m \u001b[38;5;28misinstance\u001b[39m(handle, \u001b[38;5;28mstr\u001b[39m):\n\u001b[0;32m    855\u001b[0m     \u001b[38;5;66;03m# Check whether the filename is to be opened in binary mode.\u001b[39;00m\n\u001b[0;32m    856\u001b[0m     \u001b[38;5;66;03m# Binary mode does not support 'encoding' and 'newline'.\u001b[39;00m\n\u001b[0;32m    857\u001b[0m     \u001b[38;5;28;01mif\u001b[39;00m ioargs\u001b[38;5;241m.\u001b[39mencoding \u001b[38;5;129;01mand\u001b[39;00m \u001b[38;5;124m\"\u001b[39m\u001b[38;5;124mb\u001b[39m\u001b[38;5;124m\"\u001b[39m \u001b[38;5;129;01mnot\u001b[39;00m \u001b[38;5;129;01min\u001b[39;00m ioargs\u001b[38;5;241m.\u001b[39mmode:\n\u001b[0;32m    858\u001b[0m         \u001b[38;5;66;03m# Encoding\u001b[39;00m\n\u001b[1;32m--> 859\u001b[0m         handle \u001b[38;5;241m=\u001b[39m \u001b[38;5;28mopen\u001b[39m(\n\u001b[0;32m    860\u001b[0m             handle,\n\u001b[0;32m    861\u001b[0m             ioargs\u001b[38;5;241m.\u001b[39mmode,\n\u001b[0;32m    862\u001b[0m             encoding\u001b[38;5;241m=\u001b[39mioargs\u001b[38;5;241m.\u001b[39mencoding,\n\u001b[0;32m    863\u001b[0m             errors\u001b[38;5;241m=\u001b[39merrors,\n\u001b[0;32m    864\u001b[0m             newline\u001b[38;5;241m=\u001b[39m\u001b[38;5;124m\"\u001b[39m\u001b[38;5;124m\"\u001b[39m,\n\u001b[0;32m    865\u001b[0m         )\n\u001b[0;32m    866\u001b[0m     \u001b[38;5;28;01melse\u001b[39;00m:\n\u001b[0;32m    867\u001b[0m         \u001b[38;5;66;03m# Binary mode\u001b[39;00m\n\u001b[0;32m    868\u001b[0m         handle \u001b[38;5;241m=\u001b[39m \u001b[38;5;28mopen\u001b[39m(handle, ioargs\u001b[38;5;241m.\u001b[39mmode)\n",
      "\u001b[1;31mFileNotFoundError\u001b[0m: [Errno 2] No such file or directory: 'C:/Users/User/OneDrive/Desktop/Article_LLM/main_files/3_1_join_main/.main/join2_file_agg_y.csv'"
     ]
    }
   ],
   "source": [
    "app = Dash(__name__)\n",
    "df = openDFcsv(mv.join2_path,mv.join2_filename+\"_agg_y\")\n",
    "col=\"year\"\n",
    "display(df.head())\n",
    "#df['year_month'] = pd.to_numeric(df['year_month'].str.replace('-',''))\n",
    "#\n",
    "# fig = px.scatter(df, x=\"year_month\", y=\"al.pos\",\n",
    "#                  size=\"tb.sent\", color=\"category\", hover_name=\"title_quer\",\n",
    "#                  log_x=False, size_max=60)\n",
    "colors = {\n",
    "    'background': '#FFCCCC',\n",
    "    'text': '#7FDBFF'\n",
    "}\n",
    "\n",
    "app.layout = html.Div(style={'backgroundColor': colors['background']}, children=[\n",
    "    html.H3(\n",
    "        children='Text H3 style',\n",
    "        style={\n",
    "            'textAlign': 'center',\n",
    "            'color': colors['text']\n",
    "        }\n",
    "    ),\n",
    "    html.H6(\"Text H6 alone\"),\n",
    "    html.Br(),\n",
    "    \n",
    "    dcc.Slider(\n",
    "        df[col].min(),\n",
    "        df[col].max(),\n",
    "        step=None,\n",
    "        value=df[col].min(),\n",
    "        marks={str(val): str(val) for val in df[col].unique()},\n",
    "        id='time_slider'\n",
    "    ),\n",
    "    dcc.Graph(\n",
    "        id='graph_test'#,\n",
    "#         figure=fig\n",
    "    ),\n",
    "    html.Div([\n",
    "        html.Div(children=[\n",
    "            html.Label('Dropdown'),\n",
    "            dcc.Dropdown(['New York City', 'Montréal', 'San Francisco'], 'Montréal'),\n",
    "\n",
    "            html.Br(),\n",
    "            html.Label('Multi-Select Dropdown'),\n",
    "            dcc.Dropdown(['New York City', 'Montréal', 'San Francisco'],\n",
    "                         ['Montréal', 'San Francisco'],\n",
    "                         multi=True),\n",
    "\n",
    "            html.Br(),\n",
    "            html.Label('Radio Items'),\n",
    "            dcc.RadioItems(['New York City', 'Montréal', 'San Francisco'], 'Montréal'),\n",
    "        ], style={'padding': 10, 'flex': 1}),\n",
    "\n",
    "        html.Div(children=[\n",
    "            html.Label('Checkboxes'),\n",
    "            dcc.Checklist(['New York City', 'Montréal', 'San Francisco'],\n",
    "                          ['Montréal', 'San Francisco']\n",
    "            ),\n",
    "\n",
    "            html.Br(),\n",
    "            html.Label('Text Input'),\n",
    "            dcc.Input(value='MTL', type='text'),\n",
    "\n",
    "            html.Br(),\n",
    "            html.Label('Slider'),\n",
    "            dcc.Slider(\n",
    "                min=0,\n",
    "                max=9,\n",
    "                marks={i: f'Label {i}' if i == 1 else str(i) for i in range(1, 6)},\n",
    "                value=5,\n",
    "            ),\n",
    "        ], style={'padding': 10, 'flex': 1})\n",
    "    ], style={'display': 'flex', 'flexDirection': 'row'})\n",
    "])\n",
    "\n",
    "@callback(\n",
    "    Output('graph_test', 'figure'),\n",
    "    Input('time_slider', 'value'))\n",
    "\n",
    "def update_figure(selected_year_month):\n",
    "    \n",
    "    #filtered_df = df[df[col] == selected_year_month]\n",
    "    filtered_df = df\n",
    "#     fig = px.scatter(filtered_df, x=\"vs.comp\", y=\"al.pos\",\n",
    "#                  size=\"tb.sent\", color=\"category\", hover_name=\"title_quer\",\n",
    "#                  log_x=False, size_max=10,opacity=0.7)\n",
    "    fig = px.scatter(filtered_df, x=\"tb.pol_aj\", y=\"tb.sub_aj\",\n",
    "                 size=\"count_nlp\", color=\"category\",\n",
    "                 log_x=False, size_max=10,opacity=0.7,animation_group=\"category\",animation_frame=\"year\")\n",
    "#     fig = px.scatter(filtered_df, x=\"gdpPercap\", y=\"lifeExp\",\n",
    "#                      size=\"pop\", color=\"continent\", hover_name=\"country\",\n",
    "#                      log_x=True, size_max=55)\n",
    "\n",
    "    fig.update_layout(transition_duration=700)\n",
    "\n",
    "    return fig\n",
    "if __name__ == '__main__':\n",
    "    app.run(debug=True)"
   ]
  },
  {
   "cell_type": "code",
   "execution_count": null,
   "id": "cd22569c",
   "metadata": {},
   "outputs": [],
   "source": [
    "\n",
    "app = Dash(__name__)\n",
    "\n",
    "app.layout = html.Div([\n",
    "    html.Div(children=[\n",
    "        html.Label('Dropdown'),\n",
    "        dcc.Dropdown(['New York City', 'Montréal', 'San Francisco'], 'Montréal'),\n",
    "\n",
    "        html.Br(),\n",
    "        html.Label('Multi-Select Dropdown'),\n",
    "        dcc.Dropdown(['New York City', 'Montréal', 'San Francisco'],\n",
    "                     ['Montréal', 'San Francisco'],\n",
    "                     multi=True),\n",
    "\n",
    "        html.Br(),\n",
    "        html.Label('Radio Items'),\n",
    "        dcc.RadioItems(['New York City', 'Montréal', 'San Francisco'], 'Montréal'),\n",
    "    ], style={'padding': 10, 'flex': 1}),\n",
    "\n",
    "    html.Div(children=[\n",
    "        html.Label('Checkboxes'),\n",
    "        dcc.Checklist(['New York City', 'Montréal', 'San Francisco'],\n",
    "                      ['Montréal', 'San Francisco']\n",
    "        ),\n",
    "\n",
    "        html.Br(),\n",
    "        html.Label('Text Input'),\n",
    "        dcc.Input(value='MTL', type='text'),\n",
    "\n",
    "        html.Br(),\n",
    "        html.Label('Slider'),\n",
    "        dcc.Slider(\n",
    "            min=0,\n",
    "            max=9,\n",
    "            marks={i: f'Label {i}' if i == 1 else str(i) for i in range(1, 6)},\n",
    "            value=5,\n",
    "        ),\n",
    "    ], style={'padding': 10, 'flex': 1})\n",
    "], style={'display': 'flex', 'flexDirection': 'row'})\n",
    "\n",
    "if __name__ == '__main__':\n",
    "    app.run(debug=True)"
   ]
  },
  {
   "cell_type": "code",
   "execution_count": null,
   "id": "a6bc33d4",
   "metadata": {},
   "outputs": [],
   "source": []
  },
  {
   "cell_type": "code",
   "execution_count": 19,
   "id": "112783b5",
   "metadata": {
    "scrolled": false
   },
   "outputs": [
    {
     "name": "stdout",
     "output_type": "stream",
     "text": [
      "dataset size :  (4537, 82)\n"
     ]
    },
    {
     "data": {
      "text/html": [
       "\n",
       "        <iframe\n",
       "            width=\"100%\"\n",
       "            height=\"650\"\n",
       "            src=\"http://127.0.0.1:8050/\"\n",
       "            frameborder=\"0\"\n",
       "            allowfullscreen\n",
       "            \n",
       "        ></iframe>\n",
       "        "
      ],
      "text/plain": [
       "<IPython.lib.display.IFrame at 0x1a8bb6644d0>"
      ]
     },
     "metadata": {},
     "output_type": "display_data"
    }
   ],
   "source": []
  },
  {
   "cell_type": "code",
   "execution_count": 4,
   "id": "b3e8d70b",
   "metadata": {},
   "outputs": [
    {
     "ename": "SyntaxError",
     "evalue": "illegal target for annotation (3337257523.py, line 1)",
     "output_type": "error",
     "traceback": [
      "\u001b[1;36m  Cell \u001b[1;32mIn[4], line 1\u001b[1;36m\u001b[0m\n\u001b[1;33m    Title/keyword : research\u001b[0m\n\u001b[1;37m    ^\u001b[0m\n\u001b[1;31mSyntaxError\u001b[0m\u001b[1;31m:\u001b[0m illegal target for annotation\n"
     ]
    }
   ],
   "source": [
    "Title/keyword : research\n",
    "Category : dropdown multi\n",
    "Slider Pol/Sub/Pos \n",
    "\n",
    "            # This is an <h1> tag\n",
    "            ## This is an <h2> tag\n",
    "            ###### This is an <h6> tag'''),"
   ]
  },
  {
   "cell_type": "code",
   "execution_count": 9,
   "id": "5fb44ec2",
   "metadata": {},
   "outputs": [
    {
     "data": {
      "text/html": [
       "\n",
       "        <iframe\n",
       "            width=\"100%\"\n",
       "            height=\"650\"\n",
       "            src=\"http://127.0.0.1:8050/\"\n",
       "            frameborder=\"0\"\n",
       "            allowfullscreen\n",
       "            \n",
       "        ></iframe>\n",
       "        "
      ],
      "text/plain": [
       "<IPython.lib.display.IFrame at 0x1a8b8a1f850>"
      ]
     },
     "metadata": {},
     "output_type": "display_data"
    }
   ],
   "source": [
    "from datetime import date\n",
    "from dash import Dash, dcc, html, Input, Output, callback\n",
    "\n",
    "app = Dash(__name__)\n",
    "app.layout = html.Div([\n",
    "    dcc.DatePickerRange(\n",
    "        id='my-date-picker-range',\n",
    "        min_date_allowed=date(1995, 8, 5),\n",
    "        max_date_allowed=date(2017, 9, 19),\n",
    "        initial_visible_month=date(2017, 8, 5),\n",
    "        end_date=date(2017, 8, 25)\n",
    "    ),\n",
    "    html.Div(id='output-container-date-picker-range')\n",
    "])\n",
    "\n",
    "\n",
    "@callback(\n",
    "    Output('output-container-date-picker-range', 'children'),\n",
    "    Input('my-date-picker-range', 'start_date'),\n",
    "    Input('my-date-picker-range', 'end_date'))\n",
    "def update_output(start_date, end_date):\n",
    "    string_prefix = 'You have selected: '\n",
    "    if start_date is not None:\n",
    "        start_date_object = date.fromisoformat(start_date)\n",
    "        start_date_string = start_date_object.strftime('%B %d, %Y')\n",
    "        string_prefix = string_prefix + 'Start Date: ' + start_date_string + ' | '\n",
    "    if end_date is not None:\n",
    "        end_date_object = date.fromisoformat(end_date)\n",
    "        end_date_string = end_date_object.strftime('%B %d, %Y')\n",
    "        string_prefix = string_prefix + 'End Date: ' + end_date_string\n",
    "    if len(string_prefix) == len('You have selected: '):\n",
    "        return 'Select a date to see it displayed here'\n",
    "    else:\n",
    "        return string_prefix\n",
    "\n",
    "\n",
    "if __name__ == '__main__':\n",
    "    app.run(debug=True)"
   ]
  },
  {
   "cell_type": "code",
   "execution_count": 23,
   "id": "b9c421eb",
   "metadata": {},
   "outputs": [],
   "source": [
    "from tkinter import *\n",
    "\n",
    "# create root window\n",
    "root = Tk()\n",
    "\n",
    "# frame inside root window\n",
    "frame = Frame(root)\n",
    "\n",
    "# geometry method\n",
    "frame.pack()\n",
    "\n",
    "# button inside frame which is\n",
    "# inside root\n",
    "button = Button(frame, text='Geek')\n",
    "button.pack()\n",
    "\n",
    "# Tkinter event loop\n",
    "root.mainloop()"
   ]
  },
  {
   "cell_type": "code",
   "execution_count": 21,
   "id": "728558e9",
   "metadata": {},
   "outputs": [
    {
     "data": {
      "application/vnd.jupyter.widget-view+json": {
       "model_id": "1eb0e381f5054af28cbf5e81a5fe48cb",
       "version_major": 2,
       "version_minor": 0
      },
      "text/plain": [
       "IntSlider(value=0)"
      ]
     },
     "metadata": {},
     "output_type": "display_data"
    }
   ],
   "source": [
    "import ipywidgets as widgets\n",
    "w = widgets.IntSlider()\n",
    "display(w)"
   ]
  },
  {
   "cell_type": "code",
   "execution_count": 13,
   "id": "daff142e",
   "metadata": {},
   "outputs": [
    {
     "data": {
      "application/vnd.jupyter.widget-view+json": {
       "model_id": "36a1c2ade4d64bb7b72a2f18f4c3757a",
       "version_major": 2,
       "version_minor": 0
      },
      "text/plain": [
       "IntSlider(value=0)"
      ]
     },
     "execution_count": 13,
     "metadata": {},
     "output_type": "execute_result"
    }
   ],
   "source": []
  },
  {
   "cell_type": "code",
   "execution_count": 17,
   "id": "300812e5",
   "metadata": {},
   "outputs": [
    {
     "data": {
      "text/plain": [
       "60"
      ]
     },
     "execution_count": 17,
     "metadata": {},
     "output_type": "execute_result"
    }
   ],
   "source": [
    "w.value"
   ]
  },
  {
   "cell_type": "code",
   "execution_count": 24,
   "id": "7521295d",
   "metadata": {},
   "outputs": [],
   "source": [
    "import tkinter as tk\n",
    "\n",
    "def button_clicked():\n",
    "    print(\"Button clicked!\")\n",
    "\n",
    "root = tk.Tk()\n",
    "\n",
    "# Creating a button with specified options\n",
    "button = tk.Button(root, \n",
    "                   text=\"Click Me\", \n",
    "                   command=button_clicked,\n",
    "                   activebackground=\"blue\", \n",
    "                   activeforeground=\"white\",\n",
    "                   anchor=\"center\",\n",
    "                   bd=3,\n",
    "                   bg=\"lightgray\",\n",
    "                   cursor=\"hand2\",\n",
    "                   disabledforeground=\"gray\",\n",
    "                   fg=\"black\",\n",
    "                   font=(\"Arial\", 12),\n",
    "                   height=2,\n",
    "                   highlightbackground=\"black\",\n",
    "                   highlightcolor=\"green\",\n",
    "                   highlightthickness=2,\n",
    "                   justify=\"center\",\n",
    "                   overrelief=\"raised\",\n",
    "                   padx=10,\n",
    "                   pady=5,\n",
    "                   width=15,\n",
    "                   wraplength=100)\n",
    "\n",
    "button.pack(padx=20, pady=20)"
   ]
  },
  {
   "cell_type": "code",
   "execution_count": 27,
   "id": "44cd3d7e",
   "metadata": {},
   "outputs": [],
   "source": [
    "# import tkinter module \n",
    "from tkinter import *        \n",
    "\n",
    "# Following will import tkinter.ttk module and \n",
    "# automatically override all the widgets \n",
    "# which are present in tkinter module. \n",
    "from tkinter.ttk import *\n",
    "\n",
    "# Create Object\n",
    "root = Tk() \n",
    "\n",
    "# Initialize tkinter window with dimensions 100x100             \n",
    "root.geometry('100x100')     \n",
    "\n",
    "btn = Button(root, text = 'Click me !', \n",
    "                command = root.destroy) \n",
    "\n",
    "# Set the position of button on the top of window \n",
    "btn.pack(side = 'top')     \n",
    "\n",
    "root.mainloop() "
   ]
  },
  {
   "cell_type": "code",
   "execution_count": 40,
   "id": "dbffd64f",
   "metadata": {},
   "outputs": [
    {
     "data": {
      "text/plain": [
       "'https://observer.com/2015/01/top-chef-boston-episode-11-recap-sous-your-daddy/'"
      ]
     },
     "execution_count": 40,
     "metadata": {},
     "output_type": "execute_result"
    }
   ],
   "source": [
    "from newspaper import Article\n",
    "url = 'https://news.google.com/rss/articles/CBMiTmh0dHBzOi8vb2JzZXJ2ZXIuY29tLzIwMTUvMDEvdG9wLWNoZWYtYm9zdG9uLWVwaXNvZGUtMTEtcmVjYXAtc291cy15b3VyLWRhZGR5L9IBUmh0dHBzOi8vb2JzZXJ2ZXIuY29tLzIwMTUvMDEvdG9wLWNoZWYtYm9zdG9uLWVwaXNvZGUtMTEtcmVjYXAtc291cy15b3VyLWRhZGR5L2FtcC8?oc=5'\n",
    "article = Article(url)\n",
    "article.download()\n",
    "article.parse()\n",
    "dict(article.meta_data)[\"og\"][\"url\"]\n",
    "#print(article)"
   ]
  },
  {
   "cell_type": "code",
   "execution_count": 43,
   "id": "eab3fbe5",
   "metadata": {},
   "outputs": [],
   "source": [
    "art_dir_list=[\"https://observer.com/2015/01/top-chef-boston-episode-11-recap-sous-your-daddy/\",\"https://eu.freep.com/story/news/local/michigan/2015/01/11/minutes-guy-top/21557093/\",\"https://www.eater.com/2015/1/8/7512809/top-chef-boston-episode-10\",\"https://ew.com/recap/top-chef-season-12-episode-12/\",\"https://www.boston.com/food/food/2015/01/08/top-chef-boston-episode-10-recap-for-julia-jacques/\"]\n",
    "art_list=[\"https://news.google.com/rss/articles/CBMiTmh0dHBzOi8vb2JzZXJ2ZXIuY29tLzIwMTUvMDEvdG9wLWNoZWYtYm9zdG9uLWVwaXNvZGUtMTEtcmVjYXAtc291cy15b3VyLWRhZGR5L9IBUmh0dHBzOi8vb2JzZXJ2ZXIuY29tLzIwMTUvMDEvdG9wLWNoZWYtYm9zdG9uLWVwaXNvZGUtMTEtcmVjYXAtc291cy15b3VyLWRhZGR5L2FtcC8?oc=5\",\"https://news.google.com/rss/articles/CBMiVGh0dHBzOi8vd3d3LmZyZWVwLmNvbS9zdG9yeS9uZXdzL2xvY2FsL21pY2hpZ2FuLzIwMTUvMDEvMTEvbWludXRlcy1ndXktdG9wLzIxNTU3MDkzL9IBAA?oc=5\",\"https://news.google.com/rss/articles/CBMiQWh0dHBzOi8vd3d3LmVhdGVyLmNvbS8yMDE1LzEvOC83NTEyODA5L3RvcC1jaGVmLWJvc3Rvbi1lcGlzb2RlLTEw0gEA?oc=5\",\"https://news.google.com/rss/articles/CBMiM2h0dHBzOi8vZXcuY29tL3JlY2FwL3RvcC1jaGVmLXNlYXNvbi0xMi1lcGlzb2RlLTEyL9IBAA?oc=5\",\"https://news.google.com/rss/articles/CBMiX2h0dHBzOi8vd3d3LmJvc3Rvbi5jb20vZm9vZC9mb29kLzIwMTUvMDEvMDgvdG9wLWNoZWYtYm9zdG9uLWVwaXNvZGUtMTAtcmVjYXAtZm9yLWp1bGlhLWphY3F1ZXMv0gFlaHR0cHM6Ly93d3cuYm9zdG9uLmNvbS9mb29kL2Zvb2QvMjAxNS8wMS8wOC90b3AtY2hlZi1ib3N0b24tZXBpc29kZS0xMC1yZWNhcC1mb3ItanVsaWEtamFjcXVlcy8_YW1wPTE?oc=5\"]"
   ]
  },
  {
   "cell_type": "code",
   "execution_count": 47,
   "id": "c1080577",
   "metadata": {},
   "outputs": [
    {
     "name": "stdout",
     "output_type": "stream",
     "text": [
      "<newspaper.article.Article object at 0x000001A8BC897410>\n",
      "<newspaper.article.Article object at 0x000001A8BC725E50>\n",
      "<newspaper.article.Article object at 0x000001A8BB352990>\n",
      "<newspaper.article.Article object at 0x000001A8BCEC9510>\n",
      "<newspaper.article.Article object at 0x000001A8BD1DEB90>\n",
      "DONE\n"
     ]
    }
   ],
   "source": [
    "for art in art_list:\n",
    "    article = Article(art)\n",
    "    article.download()\n",
    "    article.parse()\n",
    "    \n",
    "    #print(dict(article.meta_data)[\"og\"][\"url\"])\n",
    "    print(article)\n",
    "print(\"DONE\")"
   ]
  },
  {
   "cell_type": "code",
   "execution_count": 113,
   "id": "8173c48c",
   "metadata": {},
   "outputs": [
    {
     "data": {
      "text/html": [
       "\n",
       "        <iframe\n",
       "            width=\"100%\"\n",
       "            height=\"650\"\n",
       "            src=\"http://127.0.0.1:8050/\"\n",
       "            frameborder=\"0\"\n",
       "            allowfullscreen\n",
       "            \n",
       "        ></iframe>\n",
       "        "
      ],
      "text/plain": [
       "<IPython.lib.display.IFrame at 0x1a8ee3d0cd0>"
      ]
     },
     "metadata": {},
     "output_type": "display_data"
    }
   ],
   "source": [
    "# Run this app with `python app.py` and\n",
    "# visit http://127.0.0.1:8050/ in your web browser.\n",
    "\n",
    "\n",
    "from dash import Dash, html, dcc\n",
    "\n",
    "app = Dash(__name__)\n",
    "\n",
    "app.layout = html.Div([\n",
    "    html.Div(children=[\n",
    "        html.Label('Dropdown'),\n",
    "        dcc.Dropdown(['New York City', 'Montréal', 'San Francisco'], 'Montréal'),\n",
    "\n",
    "        html.Br(),\n",
    "        html.Label('Multi-Select Dropdown'),\n",
    "        dcc.Dropdown(['New York City', 'Montréal', 'San Francisco'],\n",
    "                     ['Montréal', 'San Francisco'],\n",
    "                     multi=True),\n",
    "\n",
    "        html.Br(),\n",
    "        html.Label('Radio Items'),\n",
    "        dcc.RadioItems(['New York City', 'Montréal', 'San Francisco'], 'Montréal'),\n",
    "    ], style={'padding': 10, 'flex': 1}),\n",
    "\n",
    "    html.Div(children=[\n",
    "        html.Label('Checkboxes'),\n",
    "        dcc.Checklist(['New York City', 'Montréal', 'San Francisco'],\n",
    "                      ['Montréal', 'San Francisco']\n",
    "        ),\n",
    "\n",
    "        html.Br(),\n",
    "        html.Label('Text Input'),\n",
    "        dcc.Input(value='MTL', type='text'),\n",
    "\n",
    "        html.Br(),\n",
    "        html.Label('Slider'),\n",
    "        dcc.Slider(\n",
    "            min=0,\n",
    "            max=9,\n",
    "            marks={i: f'Label {i}' if i == 1 else str(i) for i in range(1, 6)},\n",
    "            value=5,\n",
    "        ),\n",
    "    ], style={'padding': 10, 'flex': 1})\n",
    "], style={'display': 'flex', 'flexDirection': 'row'})\n",
    "\n",
    "if __name__ == '__main__':\n",
    "    app.run(debug=True)"
   ]
  },
  {
   "cell_type": "code",
   "execution_count": null,
   "id": "b104ddfa",
   "metadata": {},
   "outputs": [],
   "source": []
  },
  {
   "cell_type": "code",
   "execution_count": null,
   "id": "a697605e",
   "metadata": {},
   "outputs": [],
   "source": []
  },
  {
   "cell_type": "code",
   "execution_count": null,
   "id": "f4938644",
   "metadata": {},
   "outputs": [],
   "source": []
  },
  {
   "cell_type": "code",
   "execution_count": 171,
   "id": "1416dabb",
   "metadata": {},
   "outputs": [
    {
     "name": "stdout",
     "output_type": "stream",
     "text": [
      "dataset size :  (4537, 82)\n"
     ]
    },
    {
     "data": {
      "text/html": [
       "\n",
       "        <iframe\n",
       "            width=\"100%\"\n",
       "            height=\"650\"\n",
       "            src=\"http://127.0.0.1:8050/\"\n",
       "            frameborder=\"0\"\n",
       "            allowfullscreen\n",
       "            \n",
       "        ></iframe>\n",
       "        "
      ],
      "text/plain": [
       "<IPython.lib.display.IFrame at 0x1a88b7e1c10>"
      ]
     },
     "metadata": {},
     "output_type": "display_data"
    }
   ],
   "source": [
    "# Run this app with `python app.py` and\n",
    "# visit http://127.0.0.1:8050/ in your web browser.\n",
    "\n",
    "\n",
    "from dash import Dash, html, dcc, dash_table, callback, Input, Output\n",
    "import pandas as pd\n",
    "import dash_bootstrap_components as dbc\n",
    "\n",
    "app = Dash(__name__)\n",
    "df = pd.read_csv(\"C:/Users/User/OneDrive/Desktop/Article_LLM/main_files/3_1_join_main/.main/join2_file_small.csv\")\n",
    "col_list = [\"category\",\"year_month\",\"title_quer\",\"source_title\"]#,\"pk\",\"url\",\"keywords_list\",\"published\",\"text_len\"\n",
    "print(\"dataset size : \",df.shape)\n",
    "w_label=3\n",
    "w_widget=9\n",
    "app = Dash(external_stylesheets=[dbc.themes.BOOTSTRAP])\n",
    "app.layout =  html.Div([dbc.Row([\n",
    "        dbc.Col(html.Label('Publish date range :',style={'textAlign': 'left'}), width=w_label),\n",
    "        dbc.Col(dcc.DatePickerRange(id='my-date-picker-range',\n",
    "                min_date_allowed=date(1995, 8, 5),\n",
    "                max_date_allowed=date(2017, 9, 19),\n",
    "                end_date=date(2000, 1, 1),\n",
    "                start_date=date(2005, 1, 1)\n",
    "            ), width=w_widget)\n",
    "    ],align=\"stretch\"),\n",
    "    dbc.Row([ \n",
    "        dbc.Col(html.Label('Category :',style={'textAlign': 'left'}), width=w_label),\n",
    "        dbc.Col(dcc.Dropdown([\"TOP\",\"WORLD\",\"NATION\",\"BUSINESS\",\"TECHNOLOGY\",\"ENTERTAINMENT\",\"SCIENCE\",\"SPORTS\",\"HEALTH\"]\n",
    "                             ,multi=True), width=w_widget),\n",
    "    ],align=\"stretch\"),#,style={'padding': 0, 'flex': 1}                 \n",
    "    dbc.Row([ \n",
    "        dbc.Col(html.Label('Source :',style={'textAlign': 'left'}), width=w_label),\n",
    "        dbc.Col(dcc.Dropdown([\"SOURCE1\",\"SOURCE2\"],multi=True), width=w_widget)\n",
    "    ],align=\"center\"),\n",
    "    dbc.Row([ \n",
    "        dbc.Col(html.Label('Keyword reearch :',style={'textAlign': 'left'}), width=w_label),\n",
    "        dbc.Col(dcc.Input(id=\"input_search\",type=\"search\",placeholder=\"input type search\", size=\"100\"), width=w_widget)\n",
    "    ],align=\"center\"),\n",
    "#     dbc.Row([\n",
    "#         dbc.Col(dcc.RangeSlider(0, 1, value=[0, 1],marks={0: \"0\",0.5:\"0.5\",1:\"1\"},tooltip={\"placement\": \"bottom\", \"always_visible\": True}, id='my-range-slider1')),\n",
    "#         dbc.Col(dcc.RangeSlider(0, 1, value=[0, 1],marks={0: \"0\",0.5:\"0.5\",1:\"1\"},tooltip={\"placement\": \"bottom\", \"always_visible\": True}, id='my-range-slider2')),\n",
    "#         dbc.Col(dcc.RangeSlider(0, 1, value=[0, 1],marks={0: \"0\",0.5:\"0.5\",1:\"1\"},tooltip={\"placement\": \"bottom\", \"always_visible\": True}, id='my-range-slider3')),\n",
    "#     ],align=\"center\"),\n",
    "                       \n",
    "    html.Div([html.Div([\n",
    "        html.Label('Label 1',style={'textAlign': 'center'}),\n",
    "        dbc.Col(dcc.RangeSlider(0, 1, value=[0, 1],marks={0: \"0\",0.5:\"0.5\",1:\"1\"},tooltip={\"placement\": \"bottom\", \"always_visible\": True}, id='my-range-slider1'))\n",
    "    ], style={'padding': 10, 'flex': 1}),\n",
    "    html.Div([\n",
    "        html.Label('Label 2',style={'textAlign': 'center'}),\n",
    "        dbc.Col(dcc.RangeSlider(0, 1, value=[0, 1],marks={0: \"0\",0.5:\"0.5\",1:\"1\"},tooltip={\"placement\": \"bottom\", \"always_visible\": True}, id='my-range-slider2'))\n",
    "    ], style={'padding': 10, 'flex': 1})], style={'display': 'flex', 'flexDirection': 'row'})\n",
    "    ],style={'padding': 1, 'flex': 1})\n",
    "    #dash_table.DataTable(df.to_dict('records'),[{\"name\": i, \"id\": i} for i in col_list], id='tbl',style_table={'overflowX': 'auto'},style_cell={'textAlign': 'left'},style_as_list_view=True, page_size=50,style_header={'backgroundColor': 'black',\"color\":\"white\",'fontWeight': 'bold'}),#df.columns\n",
    "    #html.Div(id='output-container-range-slider')\n",
    "    #dbc.Alert(id='tbl_out'),\n",
    "    #html.Div(id=\"out-article-info\")\n",
    "    #], style={'padding': 10, 'flex': 1})])\n",
    "    \n",
    "#, style={'padding': 10, 'flex': 1, 'flexDirection': 'column'}\n",
    "#], style={'display': 'flex', 'flexDirection': 'row'})\n",
    "\n",
    "# @callback(Output('tbl_out', 'children'), Input('tbl', 'active_cell'))\n",
    "# def update_graphs(active_cell):\n",
    "#     return str(active_cell) if active_cell else \"Click the table\"\n",
    "\n",
    "# @callback(Output('out-article-info', 'children'), Input('input_search', 'value'))\n",
    "# def update_graphs(input_search):\n",
    "#     df_sel = df[df['hash_key']==input_search]\n",
    "#     fig = dcc.Markdown(\"# ERROR nothing found !\")\n",
    "#     if df_sel.shape[0]!=0:\n",
    "#         df_sel_dict = df_sel.to_dict(orient='records')[0]\n",
    "        \n",
    "#         fig = dcc.Markdown(\" * \"+\" * \".join((str(\"\"+str(col)+\" : \"+str(df_sel_dict[col])+\"\\n\\n\") for col in col_list)))\n",
    "        \n",
    "#     return fig\n",
    "if __name__ == '__main__':\n",
    "    app.run(debug=True)"
   ]
  },
  {
   "cell_type": "code",
   "execution_count": null,
   "id": "b5593fde",
   "metadata": {},
   "outputs": [],
   "source": []
  }
 ],
 "metadata": {
  "kernelspec": {
   "display_name": "Python 3 (ipykernel)",
   "language": "python",
   "name": "python3"
  },
  "language_info": {
   "codemirror_mode": {
    "name": "ipython",
    "version": 3
   },
   "file_extension": ".py",
   "mimetype": "text/x-python",
   "name": "python",
   "nbconvert_exporter": "python",
   "pygments_lexer": "ipython3",
   "version": "3.11.5"
  }
 },
 "nbformat": 4,
 "nbformat_minor": 5
}
