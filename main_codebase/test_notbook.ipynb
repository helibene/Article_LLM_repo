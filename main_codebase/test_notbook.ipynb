{
 "cells": [
  {
   "cell_type": "code",
   "execution_count": null,
   "id": "935ce3b8",
   "metadata": {
    "scrolled": true
   },
   "outputs": [],
   "source": [
    "import main_var\n",
    "mv = main_var.main_var()\n",
    "from dimension_reduc_lib import calculateStatsColList\n",
    "from visualization_module_lib import *\n",
    "from utils_art import *\n",
    "\n",
    "# from scrap_lib import *\n",
    "# from pars_lib import *\n",
    "# from openai_module_lib import *\n",
    "# from embedding_keyword_module_lib import *\n",
    "# from dimension_reduc_lib import *\n",
    "# from agg_lib import *\n",
    "\n",
    "\n",
    "_ENTRY_NUMBER = 1000000\n",
    "_STEP_PCT = 0.01\n",
    "graph_folder = \"graphs/\"\n",
    "\n",
    "# # ============= PX plots\n",
    "# df_main = openDFcsv(mv.visu_path,\"visu_file_['year', 'category']\")\n",
    "# df_main.head()\n",
    "# # df_main = openDFcsv(mv.join2_path,mv.join2_filename)\n",
    "# _2dList_out, _3dList_out = getRenderLists()\n",
    "# print(_2dList_out)\n",
    "# plt_2dList = renderAllOptions(df_main,_2dList_out)\n",
    "# plt_3dList = renderAllOptions(df_main,_3dList_out)\n",
    "# savePlotList(plt_2dList,mv.visu_path,\"2D_xxx\")\n",
    "# savePlotList(plt_3dList,mv.visu_path,\"3D_xxx\")\n",
    "\n",
    "# ============= Keywords\n",
    "# df_main = openDFcsv(mv.join2_path,mv.join2_filename)\n",
    "# display(df_main.head(3))\n",
    "# print(df_main.shape)\n",
    "# #df_main[\"word_combined_all\"].str.split(expand=True)\n",
    "# df_group = df_main[[\"category\",\"word_combined_all\"]].groupby(\"category\").sum()\n",
    "# df_group[\"wca_save\"]=df_group[\"word_combined_all\"]\n",
    "# df_group[\"len\"] = df_group[\"word_combined_all\"].str.len()\n",
    "# print(df_group.shape)\n",
    "# display(df_group)\n",
    "# out = df_group[\"word_combined_all\"].str.split(expand=True)\n",
    "# out = out.reset_index()\n",
    "# print(out.shape)\n",
    "# display(out)\n",
    "# out2 = out.pivot()#index='foo',, values='baz' columns='category'\n",
    "# print(out2.shape)\n",
    "# display(out2)\n",
    "\n",
    "# ============= MAT Plots\n",
    "df_main = openDFcsv(mv.join2_path,mv.join2_filename)\n",
    "#agg_list = [\"category\",\"year\",\"source_title\",[\"year\",\"category\"],[\"year\",\"source_title\"]]#,[\"year\",\"category\"],[\"year\",\"source_title\"]]\n",
    "agg_list = [\"year_month\",[\"year_month\",\"category\"],[\"year_month\",\"source_title\"],\"tb.class\",\"vs.class\",\"ts.class\"]#[\"year\",\"category\"],[\"year\",\"source_title\"]]#,[\"year\",\"category\"],[\"year\",\"source_title\"]]\n",
    "#field_list = [False,True,False,True,True]#,[\"year\",\"category\"],[\"year\",\"source_title\"]\n",
    "df_list=calculateStatsColList(df_main,agg_list,display_df=True,display_stats=True,out_raw=False,save=True)\n",
    "# count = 0\n",
    "# for agg in agg_list :\n",
    "#     df_main = openDFcsv(mv.visu_path,mv.visu_filename+\"_\"+str(agg))\n",
    "#     if type(agg)!=type([]) :\n",
    "#         fig = displayCatStats(df_main,agg,display_col_bar=field_list[count])##\n",
    "#         fig.savefig(mv.visu_path+graph_folder+mv.visu_filename+\"_\"+agg+\".png\")\n",
    "#     else :\n",
    "#         filter_list = list(set(df_main[agg[1]].tolist()))\n",
    "#         print(filter_list)\n",
    "#         for filter_val in filter_list :\n",
    "#             fig = displayCatStats(df_main,agg,agg[1],filter_val,display_col_bar=field_list[count])##\n",
    "#             fig.savefig(mv.visu_path+graph_folder+mv.visu_filename+\"_\"+str(agg)+\"_\"+str(filter_val)+\".png\")\n",
    "#     count = count +1"
   ]
  },
  {
   "cell_type": "code",
   "execution_count": null,
   "id": "60db8a24",
   "metadata": {},
   "outputs": [],
   "source": [
    "import main_var\n",
    "mv = main_var.main_var()\n",
    "\n",
    "# from scrap_lib import *\n",
    "# from pars_lib import *\n",
    "# from openai_module_lib import *\n",
    "# from embedding_keyword_module_lib import *\n",
    "from visualization_module_lib import *\n",
    "# from dimension_reduc_lib import *\n",
    "# from agg_lib import *\n",
    "from utils_art import *\n",
    "\n",
    "_ENTRY_NUMBER = 1000000\n",
    "_STEP_PCT = 0.01\n",
    "\n",
    "df_main = openDFcsv(mv.join2_path,mv.join2_filename)\n",
    "_2dList_out, _3dList_out = getRenderLists()\n",
    "plt_2dList = renderAllOptions(df_main,_2dList_out)\n",
    "plt_3dList = renderAllOptions(df_main,_3dList_out)"
   ]
  },
  {
   "cell_type": "code",
   "execution_count": null,
   "id": "2a25bc7c",
   "metadata": {},
   "outputs": [],
   "source": [
    "df_main = openDFcsv(mv.join2_path,mv.join2_filename)\n",
    "#out_list, out_list_label = selectAlgoDfList(df_main,3, norm_output=True, active_sel=[True,True,True,False])\n",
    "_2dList_out, _3dList_out = getRenderLists()\n",
    "#for i in range(len(_2dList_out)):\n",
    "plt_2dList = renderAllOptions(df_main,True,_2dList_out,\"\")\n",
    "savePlotList(plt_2dList,mv.visu_path,\"2D_\"+\"\")\n",
    "plt_3dList = renderAllOptions(df_main,False,_3dList_out,\"\")\n",
    "savePlotList(plt_3dList,mv.visu_path,\"3D_\"+\"\")\n",
    "# _2dList_out, _3dList_out = getRenderLists(False,False,True,True)\n",
    "# plt_2dList = renderAllOptions(df_main,True,_2dList_out,\"\")\n",
    "# savePlotList(plt_2dList,mv.visu_path,\"2D_xxx\")\n",
    "# plt_3dList = renderAllOptions(df_main,False,_2dList_out,\"\")\n",
    "# savePlotList(plt_3dList,mv.visu_path,\"3D_xxx\")"
   ]
  },
  {
   "cell_type": "code",
   "execution_count": null,
   "id": "415aa9e0",
   "metadata": {
    "scrolled": true
   },
   "outputs": [],
   "source": [
    "df_embdedding = openDFxlsx(\"C:/Users/User/OneDrive/Desktop/Article_LLM/main_files/0_1_bin/\",\"code_conf_excel.xlsx\",\"prompts\",\"\")\n",
    "df_embdedding = mainGeneration(articleTRUEquestionFALSE=False,\n",
    "                     completionTRUEembeddingFALSE=True,\n",
    "                     dimension=100,\n",
    "                     max_prompt=_ENTRY_NUMBER,\n",
    "                     token_max_emb=7500,\n",
    "                     cara_max_emb=10000,\n",
    "                     save_final=True,\n",
    "                     display_df_var=True,\n",
    "                     save_steps=True,\n",
    "                     step_pct=_STEP_PCT)"
   ]
  },
  {
   "cell_type": "code",
   "execution_count": null,
   "id": "d0534226",
   "metadata": {},
   "outputs": [],
   "source": [
    "# df_embdedding = openDFcsv(mv.embdedding_path,mv.embdedding_filename)\n",
    "df_embdedding = mainGeneration(articleTRUEquestionFALSE=True,\n",
    "                     completionTRUEembeddingFALSE=False,\n",
    "                     dimension=100,\n",
    "                     max_prompt=_ENTRY_NUMBER,\n",
    "                     token_max_emb=7500,\n",
    "                     cara_max_emb=10000,\n",
    "                     save_final=True,\n",
    "                     display_df_var=True,\n",
    "                     save_steps=True,\n",
    "                     step_pct=_STEP_PCT)"
   ]
  },
  {
   "cell_type": "code",
   "execution_count": null,
   "id": "b1cd63c1",
   "metadata": {},
   "outputs": [],
   "source": [
    "emb_mat = extractEmbeddingFromFile(_ENTRY_NUMBER,True)"
   ]
  },
  {
   "cell_type": "code",
   "execution_count": null,
   "id": "24230340",
   "metadata": {},
   "outputs": [],
   "source": [
    "df_embdedding2 = generateDimReducedDF(n_components=3,\n",
    "                                          norm_output=True,\n",
    "                                      active_sel=[True,True,True,False])"
   ]
  },
  {
   "cell_type": "markdown",
   "id": "82ea887b",
   "metadata": {},
   "source": [
    "### Keyword extraction and NLP analysis `(2_2_keyword)`"
   ]
  },
  {
   "cell_type": "markdown",
   "id": "a40df786",
   "metadata": {},
   "source": [
    "<div class=\"alert alert-block alert-info\">\n",
    "### Keyword extraction and NLP analysis `(2_2_keyword)`\n",
    "</div>"
   ]
  },
  {
   "cell_type": "markdown",
   "id": "d7592088",
   "metadata": {},
   "source": [
    "***\n",
    "hello"
   ]
  },
  {
   "cell_type": "markdown",
   "id": "e50bff76",
   "metadata": {},
   "source": [
    "# Final join and visualization\n",
    "### Joining Quering/Scraping/Embedding/Keywords `(3_1_join)`"
   ]
  },
  {
   "cell_type": "code",
   "execution_count": null,
   "id": "5d103788",
   "metadata": {},
   "outputs": [],
   "source": [
    "val = [{\"test\":\"lol\"}]*False+[{\"test2\":\"lol2\"}]*True\n",
    "print(val)"
   ]
  },
  {
   "cell_type": "code",
   "execution_count": null,
   "id": "6b9d3805",
   "metadata": {},
   "outputs": [],
   "source": [
    "import main_var\n",
    "mv = main_var.main_var()\n",
    "from dimension_reduc_lib import calculateStatsNLP\n",
    "from utils_art import *\n",
    "df_main = openDFcsv(mv.join2_path,mv.join2_filename)\n",
    "print(df_main.shape)\n",
    "df=calculateStatsNLP(df_main,\"category\")\n",
    "# calculateStatsNLP(df_main,\"year_month\")\n",
    "# calculateStatsNLP(df_main,\"year\")\n",
    "# df=calculateStatsNLP(df_main,\"source_title\",sort_by_groupping=False)\n",
    "print(list(df.columns))"
   ]
  },
  {
   "cell_type": "code",
   "execution_count": null,
   "id": "fa743cf3",
   "metadata": {},
   "outputs": [],
   "source": []
  },
  {
   "cell_type": "code",
   "execution_count": null,
   "id": "f0000697",
   "metadata": {},
   "outputs": [],
   "source": []
  },
  {
   "cell_type": "code",
   "execution_count": null,
   "id": "b27c3bb4",
   "metadata": {},
   "outputs": [],
   "source": []
  },
  {
   "cell_type": "code",
   "execution_count": null,
   "id": "0eb1c8ec",
   "metadata": {},
   "outputs": [],
   "source": [
    "# Run this app with `python app.py` and\n",
    "# visit http://127.0.0.1:8050/ in your web browser.\n",
    "\n",
    "\n",
    "from dash import Dash, html, dcc\n",
    "\n",
    "app = Dash(__name__)\n",
    "\n",
    "app.layout = html.Div([\n",
    "    html.Div(children=[\n",
    "        html.Label('Dropdown'),\n",
    "        dcc.Dropdown(['New York City', 'Montréal', 'San Francisco'], 'Montréal'),\n",
    "\n",
    "        html.Br(),\n",
    "        html.Label('Multi-Select Dropdown'),\n",
    "        dcc.Dropdown(['New York City', 'Montréal', 'San Francisco'],\n",
    "                     ['Montréal', 'San Francisco'],\n",
    "                     multi=True),\n",
    "\n",
    "        html.Br(),\n",
    "        html.Label('Radio Items'),\n",
    "        dcc.RadioItems(['New York City', 'Montréal', 'San Francisco'], 'Montréal'),\n",
    "    ], style={'padding': 10, 'flex': 1}),\n",
    "\n",
    "    html.Div(children=[\n",
    "        html.Label('Checkboxes'),\n",
    "        dcc.Checklist(['New York City', 'Montréal', 'San Francisco'],\n",
    "                      ['Montréal', 'San Francisco']\n",
    "        ),\n",
    "\n",
    "        html.Br(),\n",
    "        html.Label('Text Input'),\n",
    "        dcc.Input(value='MTL', type='text'),\n",
    "\n",
    "        html.Br(),\n",
    "        html.Label('Slider'),\n",
    "        dcc.Slider(\n",
    "            min=0,\n",
    "            max=9,\n",
    "            marks={i: f'Label {i}' if i == 1 else str(i) for i in range(1, 6)},\n",
    "            value=5,\n",
    "        ),\n",
    "    ], style={'padding': 10, 'flex': 1})\n",
    "], style={'display': 'flex', 'flexDirection': 'row'})\n",
    "\n",
    "if __name__ == '__main__':\n",
    "    app.run(debug=True)"
   ]
  },
  {
   "cell_type": "code",
   "execution_count": null,
   "id": "f0261d0c",
   "metadata": {},
   "outputs": [],
   "source": []
  }
 ],
 "metadata": {
  "kernelspec": {
   "display_name": "Python 3 (ipykernel)",
   "language": "python",
   "name": "python3"
  },
  "language_info": {
   "codemirror_mode": {
    "name": "ipython",
    "version": 3
   },
   "file_extension": ".py",
   "mimetype": "text/x-python",
   "name": "python",
   "nbconvert_exporter": "python",
   "pygments_lexer": "ipython3",
   "version": "3.11.5"
  }
 },
 "nbformat": 4,
 "nbformat_minor": 5
}
