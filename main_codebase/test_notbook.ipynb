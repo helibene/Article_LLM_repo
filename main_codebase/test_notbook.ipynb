{
 "cells": [
  {
   "cell_type": "code",
   "execution_count": null,
   "id": "935ce3b8",
   "metadata": {},
   "outputs": [],
   "source": [
    "import main_var\n",
    "mv = main_var.main_var()\n",
    "\n",
    "# from article_scraping_lib import *\n",
    "# from article_parsing_lib import *\n",
    "# from openai_module_lib import *\n",
    "# from embedding_keyword_module_lib import *\n",
    "from visualization_module_lib import *\n",
    "# from dimension_reduc_lib import *\n",
    "# from aggregation_module_lib import *\n",
    "from utils_art import *\n",
    "\n",
    "_ENTRY_NUMBER = 1000000\n",
    "_STEP_PCT = 0.01\n",
    "\n",
    "df_main = openDFcsv(mv.join2_path,mv.join2_filename)\n",
    "_2dList_out, _3dList_out = getRenderLists()\n",
    "plt_2dList = renderAllOptions(df_main,_2dList_out)\n",
    "plt_3dList = renderAllOptions(df_main,_3dList_out)"
   ]
  },
  {
   "cell_type": "code",
   "execution_count": null,
   "id": "60db8a24",
   "metadata": {},
   "outputs": [],
   "source": [
    "import main_var\n",
    "mv = main_var.main_var()\n",
    "\n",
    "# from article_scraping_lib import *\n",
    "# from article_parsing_lib import *\n",
    "# from openai_module_lib import *\n",
    "# from embedding_keyword_module_lib import *\n",
    "from visualization_module_lib import *\n",
    "# from dimension_reduc_lib import *\n",
    "# from aggregation_module_lib import *\n",
    "from utils_art import *\n",
    "\n",
    "_ENTRY_NUMBER = 1000000\n",
    "_STEP_PCT = 0.01\n",
    "\n",
    "df_main = openDFcsv(mv.join2_path,mv.join2_filename)\n",
    "_2dList_out, _3dList_out = getRenderLists()\n",
    "plt_2dList = renderAllOptions(df_main,_2dList_out)\n",
    "plt_3dList = renderAllOptions(df_main,_3dList_out)"
   ]
  },
  {
   "cell_type": "code",
   "execution_count": null,
   "id": "2a25bc7c",
   "metadata": {},
   "outputs": [],
   "source": [
    "df_main = openDFcsv(mv.join2_path,mv.join2_filename)\n",
    "#out_list, out_list_label = selectAlgoDfList(df_main,3, norm_output=True, active_sel=[True,True,True,False])\n",
    "_2dList_out, _3dList_out = getRenderLists()\n",
    "#for i in range(len(_2dList_out)):\n",
    "plt_2dList = renderAllOptions(df_main,True,_2dList_out,\"\")\n",
    "savePlotList(plt_2dList,mv.visu_path,\"2D_\"+\"\")\n",
    "plt_3dList = renderAllOptions(df_main,False,_3dList_out,\"\")\n",
    "savePlotList(plt_3dList,mv.visu_path,\"3D_\"+\"\")\n",
    "# _2dList_out, _3dList_out = getRenderLists(False,False,True,True)\n",
    "# plt_2dList = renderAllOptions(df_main,True,_2dList_out,\"\")\n",
    "# savePlotList(plt_2dList,mv.visu_path,\"2D_xxx\")\n",
    "# plt_3dList = renderAllOptions(df_main,False,_2dList_out,\"\")\n",
    "# savePlotList(plt_3dList,mv.visu_path,\"3D_xxx\")"
   ]
  },
  {
   "cell_type": "code",
   "execution_count": null,
   "id": "415aa9e0",
   "metadata": {
    "scrolled": true
   },
   "outputs": [],
   "source": [
    "df_embdedding = openDFxlsx(\"C:/Users/User/OneDrive/Desktop/Article_LLM/main_files/0_1_bin/\",\"code_conf_excel.xlsx\",\"prompts\",\"\")\n",
    "df_embdedding = mainGeneration(articleTRUEquestionFALSE=False,\n",
    "                     completionTRUEembeddingFALSE=True,\n",
    "                     dimension=100,\n",
    "                     max_prompt=_ENTRY_NUMBER,\n",
    "                     token_max_emb=7500,\n",
    "                     cara_max_emb=10000,\n",
    "                     save_final=True,\n",
    "                     display_df_var=True,\n",
    "                     save_steps=True,\n",
    "                     step_pct=_STEP_PCT)"
   ]
  },
  {
   "cell_type": "code",
   "execution_count": null,
   "id": "d0534226",
   "metadata": {},
   "outputs": [],
   "source": [
    "# df_embdedding = openDFcsv(mv.embdedding_path,mv.embdedding_filename)\n",
    "df_embdedding = mainGeneration(articleTRUEquestionFALSE=True,\n",
    "                     completionTRUEembeddingFALSE=False,\n",
    "                     dimension=100,\n",
    "                     max_prompt=_ENTRY_NUMBER,\n",
    "                     token_max_emb=7500,\n",
    "                     cara_max_emb=10000,\n",
    "                     save_final=True,\n",
    "                     display_df_var=True,\n",
    "                     save_steps=True,\n",
    "                     step_pct=_STEP_PCT)"
   ]
  },
  {
   "cell_type": "code",
   "execution_count": null,
   "id": "b1cd63c1",
   "metadata": {},
   "outputs": [],
   "source": [
    "emb_mat = extractEmbeddingFromFile(_ENTRY_NUMBER,True)"
   ]
  },
  {
   "cell_type": "code",
   "execution_count": null,
   "id": "24230340",
   "metadata": {},
   "outputs": [],
   "source": [
    "df_embdedding2 = generateDimReducedDF(n_components=3,\n",
    "                                          norm_output=True,\n",
    "                                      active_sel=[True,True,True,False])"
   ]
  },
  {
   "cell_type": "markdown",
   "id": "82ea887b",
   "metadata": {},
   "source": [
    "### Keyword extraction and NLP analysis `(2_2_keyword)`"
   ]
  },
  {
   "cell_type": "markdown",
   "id": "a40df786",
   "metadata": {},
   "source": [
    "<div class=\"alert alert-block alert-info\">\n",
    "### Keyword extraction and NLP analysis `(2_2_keyword)`\n",
    "</div>"
   ]
  },
  {
   "cell_type": "markdown",
   "id": "d7592088",
   "metadata": {},
   "source": [
    "***\n",
    "hello"
   ]
  },
  {
   "cell_type": "markdown",
   "id": "e50bff76",
   "metadata": {},
   "source": [
    "# Final join and visualization\n",
    "### Joining Quering/Scraping/Embedding/Keywords `(3_1_join)`"
   ]
  },
  {
   "cell_type": "code",
   "execution_count": null,
   "id": "5d103788",
   "metadata": {},
   "outputs": [],
   "source": [
    "val = [{\"test\":\"lol\"}]*False+[{\"test2\":\"lol2\"}]*True\n",
    "print(val)"
   ]
  },
  {
   "cell_type": "code",
   "execution_count": null,
   "id": "6b9d3805",
   "metadata": {},
   "outputs": [],
   "source": [
    "import main_var\n",
    "mv = main_var.main_var()\n",
    "from dimension_reduc_lib import calculateStatsNLP\n",
    "from utils_art import *\n",
    "df_main = openDFcsv(mv.join2_path,mv.join2_filename)\n",
    "print(df_main.shape)\n",
    "df=calculateStatsNLP(df_main,\"category\")\n",
    "# calculateStatsNLP(df_main,\"year_month\")\n",
    "# calculateStatsNLP(df_main,\"year\")\n",
    "# df=calculateStatsNLP(df_main,\"source_title\",sort_by_groupping=False)\n",
    "print(list(df.columns))"
   ]
  },
  {
   "cell_type": "code",
   "execution_count": null,
   "id": "fa743cf3",
   "metadata": {},
   "outputs": [],
   "source": []
  }
 ],
 "metadata": {
  "kernelspec": {
   "display_name": "Python 3 (ipykernel)",
   "language": "python",
   "name": "python3"
  },
  "language_info": {
   "codemirror_mode": {
    "name": "ipython",
    "version": 3
   },
   "file_extension": ".py",
   "mimetype": "text/x-python",
   "name": "python",
   "nbconvert_exporter": "python",
   "pygments_lexer": "ipython3",
   "version": "3.11.5"
  }
 },
 "nbformat": 4,
 "nbformat_minor": 5
}
