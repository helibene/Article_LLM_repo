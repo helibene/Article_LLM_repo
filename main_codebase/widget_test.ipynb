{
 "cells": [
  {
   "cell_type": "code",
   "execution_count": 1,
   "id": "df68330d",
   "metadata": {},
   "outputs": [
    {
     "name": "stdout",
     "output_type": "stream",
     "text": [
      "IMPORT : main_var \n",
      "IMPORT : utils_art\n"
     ]
    }
   ],
   "source": [
    "import main_var\n",
    "env = \"test_new/\"\n",
    "mv = main_var.main_var(env=env)\n",
    "\n",
    "from visualization_module_lib import *\n",
    "from utils_art import *\n",
    "\n",
    "\n",
    "join2_path=mv.join2_path\n",
    "embdedding_path_raw=mv.embdedding_path_raw\n",
    "visu_path = mv.visu_path\n",
    "\n",
    "join2_filename=\"join2_file\"#mv.join2_filename\n",
    "embdedding_filename_raw=\"embdedding_file_raw\"#mv.embdedding_filename_raw\n",
    "visu_filename = mv.visu_filename"
   ]
  },
  {
   "cell_type": "code",
   "execution_count": 2,
   "id": "5ff0acff",
   "metadata": {},
   "outputs": [
    {
     "name": "stdout",
     "output_type": "stream",
     "text": [
      "10125\n",
      "1\n"
     ]
    },
    {
     "ename": "ValueError",
     "evalue": "Value of 'size' is not the name of a column in 'data_frame'. Expected one of ['hash_key', 'title_quer', 'link', 'published', 'source_url', 'source_title', 'category', 'year', 'year_month', 'pk', 'url_list', 'url_TLD', 'url', 'pk_p', 'title_par', 'authors', 'publish_date', 'keywords_list', 'text_len', 'valid', 'tb.sent', 'tb.noun', 'tb.word', 'tb.char', 'tb.pol', 'tb.sub', 'tb.polaj', 'tb.pos', 'tb.neg', 'pos1', 'neu1', 'neg1', 'vs.comp', 'ts.pos', 'ts.neg', 'nlp_error', 'al.pos', 'al.neg', 'word_count_f_t', 'word_combined_f_t', 'word_count_f_k', 'word_combined_f_k', 'word_count_s_t', 'word_combined_s_t', 'word_count_s_k', 'word_combined_s_k', 'word_combined_all', 'word_count_all', 'word_combined_all_sel', 'word_count_all_sel', 'tb.pol_k', 'tb.sub_k', 'tb.polaj_k', 'tb.pos_k', 'tb.neg_k', 'vs.pos', 'vs.neu', 'vs.neg', 'vs.comp_k', 'ts.neg_k', 'ts.pos_k', 'tb.class', 'vs.class', 'ts.class', 'al.pos_k', 'al.neg_k', 0, 1, 2] but received: words",
     "output_type": "error",
     "traceback": [
      "\u001b[1;31m---------------------------------------------------------------------------\u001b[0m",
      "\u001b[1;31mValueError\u001b[0m                                Traceback (most recent call last)",
      "Cell \u001b[1;32mIn[2], line 10\u001b[0m\n\u001b[0;32m      8\u001b[0m _2dList_out, _3dList_out \u001b[38;5;241m=\u001b[39m getRenderLists()\n\u001b[0;32m      9\u001b[0m \u001b[38;5;28;01mfor\u001b[39;00m i \u001b[38;5;129;01min\u001b[39;00m \u001b[38;5;28mrange\u001b[39m(\u001b[38;5;28mlen\u001b[39m(out_list)):\n\u001b[1;32m---> 10\u001b[0m     plt_2dList \u001b[38;5;241m=\u001b[39m renderAllOptions(out_list[i],\u001b[38;5;28;01mTrue\u001b[39;00m,_2dList_out,out_list_label[i])\n\u001b[0;32m     11\u001b[0m     \u001b[38;5;66;03m# savePlotList(plt_2dList,visu_path,\"2D_\"+out_list_label[i])\u001b[39;00m\n\u001b[0;32m     12\u001b[0m     plt_3dList \u001b[38;5;241m=\u001b[39m renderAllOptions(out_list[i],\u001b[38;5;28;01mFalse\u001b[39;00m,_3dList_out,out_list_label[i])\n",
      "File \u001b[1;32m~\\OneDrive\\Desktop\\Article_LLM\\main_codebase\\visualization_module_lib.py:144\u001b[0m, in \u001b[0;36mrenderAllOptions\u001b[1;34m(df, BD, confList, label)\u001b[0m\n\u001b[0;32m    142\u001b[0m     main_conf[\u001b[38;5;124m'\u001b[39m\u001b[38;5;124mtitle\u001b[39m\u001b[38;5;124m'\u001b[39m] \u001b[38;5;241m=\u001b[39m main_conf[\u001b[38;5;124m'\u001b[39m\u001b[38;5;124mtitle\u001b[39m\u001b[38;5;124m'\u001b[39m] \u001b[38;5;241m+\u001b[39m \u001b[38;5;124m\"\u001b[39m\u001b[38;5;124m  -  \u001b[39m\u001b[38;5;124m\"\u001b[39m \u001b[38;5;241m+\u001b[39m label\n\u001b[0;32m    143\u001b[0m \u001b[38;5;28;01mif\u001b[39;00m (BD) :\n\u001b[1;32m--> 144\u001b[0m     plt \u001b[38;5;241m=\u001b[39m plot2D(df,main_conf)\n\u001b[0;32m    145\u001b[0m \u001b[38;5;28;01melse\u001b[39;00m :\n\u001b[0;32m    146\u001b[0m     plt \u001b[38;5;241m=\u001b[39m plot3D(df,main_conf)\n",
      "File \u001b[1;32m~\\OneDrive\\Desktop\\Article_LLM\\main_codebase\\visualization_module_lib.py:153\u001b[0m, in \u001b[0;36mplot2D\u001b[1;34m(df, conf_dict)\u001b[0m\n\u001b[0;32m    152\u001b[0m \u001b[38;5;28;01mdef\u001b[39;00m \u001b[38;5;21mplot2D\u001b[39m(df,conf_dict\u001b[38;5;241m=\u001b[39m{}) : \u001b[38;5;66;03m# Scatter\u001b[39;00m\n\u001b[1;32m--> 153\u001b[0m     fig \u001b[38;5;241m=\u001b[39m px\u001b[38;5;241m.\u001b[39mscatter(df, x\u001b[38;5;241m=\u001b[39mconf_dict[\u001b[38;5;124m\"\u001b[39m\u001b[38;5;124mx\u001b[39m\u001b[38;5;124m\"\u001b[39m], y\u001b[38;5;241m=\u001b[39mconf_dict[\u001b[38;5;124m\"\u001b[39m\u001b[38;5;124my\u001b[39m\u001b[38;5;124m\"\u001b[39m], color\u001b[38;5;241m=\u001b[39mconf_dict[\u001b[38;5;124m\"\u001b[39m\u001b[38;5;124mc\u001b[39m\u001b[38;5;124m\"\u001b[39m],size\u001b[38;5;241m=\u001b[39mconf_dict[\u001b[38;5;124m\"\u001b[39m\u001b[38;5;124msize\u001b[39m\u001b[38;5;124m\"\u001b[39m],\n\u001b[0;32m    154\u001b[0m         symbol\u001b[38;5;241m=\u001b[39mconf_dict[\u001b[38;5;124m\"\u001b[39m\u001b[38;5;124msymbol\u001b[39m\u001b[38;5;124m\"\u001b[39m],text\u001b[38;5;241m=\u001b[39mconf_dict[\u001b[38;5;124m\"\u001b[39m\u001b[38;5;124mtext\u001b[39m\u001b[38;5;124m\"\u001b[39m], \n\u001b[0;32m    155\u001b[0m         hover_name\u001b[38;5;241m=\u001b[39mconf_dict[\u001b[38;5;124m\"\u001b[39m\u001b[38;5;124mh_name\u001b[39m\u001b[38;5;124m\"\u001b[39m], hover_data\u001b[38;5;241m=\u001b[39mconf_dict[\u001b[38;5;124m\"\u001b[39m\u001b[38;5;124mh_data\u001b[39m\u001b[38;5;124m\"\u001b[39m], custom_data\u001b[38;5;241m=\u001b[39mconf_dict[\u001b[38;5;124m\"\u001b[39m\u001b[38;5;124mc_data\u001b[39m\u001b[38;5;124m\"\u001b[39m], \n\u001b[0;32m    156\u001b[0m         facet_row\u001b[38;5;241m=\u001b[39mconf_dict[\u001b[38;5;124m\"\u001b[39m\u001b[38;5;124mfacet_r\u001b[39m\u001b[38;5;124m\"\u001b[39m], facet_col\u001b[38;5;241m=\u001b[39mconf_dict[\u001b[38;5;124m\"\u001b[39m\u001b[38;5;124mfacet_c\u001b[39m\u001b[38;5;124m\"\u001b[39m],facet_col_wrap\u001b[38;5;241m=\u001b[39mconf_dict[\u001b[38;5;124m\"\u001b[39m\u001b[38;5;124mfacet_cw\u001b[39m\u001b[38;5;124m\"\u001b[39m],\n\u001b[0;32m    157\u001b[0m         facet_row_spacing\u001b[38;5;241m=\u001b[39mconf_dict[\u001b[38;5;124m\"\u001b[39m\u001b[38;5;124mfacet_rs\u001b[39m\u001b[38;5;124m\"\u001b[39m], facet_col_spacing\u001b[38;5;241m=\u001b[39mconf_dict[\u001b[38;5;124m\"\u001b[39m\u001b[38;5;124mfacet_cs\u001b[39m\u001b[38;5;124m\"\u001b[39m],\n\u001b[0;32m    158\u001b[0m         animation_frame\u001b[38;5;241m=\u001b[39mconf_dict[\u001b[38;5;124m\"\u001b[39m\u001b[38;5;124manimation_frame\u001b[39m\u001b[38;5;124m\"\u001b[39m], animation_group\u001b[38;5;241m=\u001b[39mconf_dict[\u001b[38;5;124m\"\u001b[39m\u001b[38;5;124manimation_group\u001b[39m\u001b[38;5;124m\"\u001b[39m],\n\u001b[0;32m    159\u001b[0m         marginal_x\u001b[38;5;241m=\u001b[39mconf_dict[\u001b[38;5;124m\"\u001b[39m\u001b[38;5;124mmarginal_x\u001b[39m\u001b[38;5;124m\"\u001b[39m], marginal_y\u001b[38;5;241m=\u001b[39mconf_dict[\u001b[38;5;124m\"\u001b[39m\u001b[38;5;124mmarginal_y\u001b[39m\u001b[38;5;124m\"\u001b[39m],\n\u001b[0;32m    160\u001b[0m         trendline\u001b[38;5;241m=\u001b[39mconf_dict[\u001b[38;5;124m\"\u001b[39m\u001b[38;5;124mtrendline\u001b[39m\u001b[38;5;124m\"\u001b[39m], log_x\u001b[38;5;241m=\u001b[39mconf_dict[\u001b[38;5;124m\"\u001b[39m\u001b[38;5;124mlog_x\u001b[39m\u001b[38;5;124m\"\u001b[39m],log_y\u001b[38;5;241m=\u001b[39mconf_dict[\u001b[38;5;124m\"\u001b[39m\u001b[38;5;124mlog_y\u001b[39m\u001b[38;5;124m\"\u001b[39m], render_mode\u001b[38;5;241m=\u001b[39mconf_dict[\u001b[38;5;124m\"\u001b[39m\u001b[38;5;124mrender_mode\u001b[39m\u001b[38;5;124m\"\u001b[39m],\n\u001b[0;32m    161\u001b[0m         size_max\u001b[38;5;241m=\u001b[39mconf_dict[\u001b[38;5;124m\"\u001b[39m\u001b[38;5;124msize_max\u001b[39m\u001b[38;5;124m\"\u001b[39m], opacity\u001b[38;5;241m=\u001b[39mconf_dict[\u001b[38;5;124m\"\u001b[39m\u001b[38;5;124mopacity\u001b[39m\u001b[38;5;124m\"\u001b[39m]) \n\u001b[0;32m    162\u001b[0m     \u001b[38;5;66;03m# fig.update_annotations(\"bgcolor\":rgba(13,57,F2,0),captureevents:test_val)\u001b[39;00m\n\u001b[0;32m    163\u001b[0m     fig\u001b[38;5;241m.\u001b[39mupdate_layout(title\u001b[38;5;241m=\u001b[39mconf_dict[\u001b[38;5;124m\"\u001b[39m\u001b[38;5;124mtitle\u001b[39m\u001b[38;5;124m\"\u001b[39m], xaxis_title\u001b[38;5;241m=\u001b[39mconf_dict[\u001b[38;5;124m\"\u001b[39m\u001b[38;5;124mxtitle\u001b[39m\u001b[38;5;124m\"\u001b[39m], yaxis_title\u001b[38;5;241m=\u001b[39mconf_dict[\u001b[38;5;124m\"\u001b[39m\u001b[38;5;124mytitle\u001b[39m\u001b[38;5;124m\"\u001b[39m],width\u001b[38;5;241m=\u001b[39mPLOT_WIDTH,height\u001b[38;5;241m=\u001b[39mPLOT_HEIGHT,autosize\u001b[38;5;241m=\u001b[39mPLOT_AUTOSIZE)\n",
      "File \u001b[1;32m~\\anaconda3\\Lib\\site-packages\\plotly\\express\\_chart_types.py:66\u001b[0m, in \u001b[0;36mscatter\u001b[1;34m(data_frame, x, y, color, symbol, size, hover_name, hover_data, custom_data, text, facet_row, facet_col, facet_col_wrap, facet_row_spacing, facet_col_spacing, error_x, error_x_minus, error_y, error_y_minus, animation_frame, animation_group, category_orders, labels, orientation, color_discrete_sequence, color_discrete_map, color_continuous_scale, range_color, color_continuous_midpoint, symbol_sequence, symbol_map, opacity, size_max, marginal_x, marginal_y, trendline, trendline_options, trendline_color_override, trendline_scope, log_x, log_y, range_x, range_y, render_mode, title, template, width, height)\u001b[0m\n\u001b[0;32m     12\u001b[0m \u001b[38;5;28;01mdef\u001b[39;00m \u001b[38;5;21mscatter\u001b[39m(\n\u001b[0;32m     13\u001b[0m     data_frame\u001b[38;5;241m=\u001b[39m\u001b[38;5;28;01mNone\u001b[39;00m,\n\u001b[0;32m     14\u001b[0m     x\u001b[38;5;241m=\u001b[39m\u001b[38;5;28;01mNone\u001b[39;00m,\n\u001b[1;32m   (...)\u001b[0m\n\u001b[0;32m     60\u001b[0m     height\u001b[38;5;241m=\u001b[39m\u001b[38;5;28;01mNone\u001b[39;00m,\n\u001b[0;32m     61\u001b[0m ) \u001b[38;5;241m-\u001b[39m\u001b[38;5;241m>\u001b[39m go\u001b[38;5;241m.\u001b[39mFigure:\n\u001b[0;32m     62\u001b[0m \u001b[38;5;250m    \u001b[39m\u001b[38;5;124;03m\"\"\"\u001b[39;00m\n\u001b[0;32m     63\u001b[0m \u001b[38;5;124;03m    In a scatter plot, each row of `data_frame` is represented by a symbol\u001b[39;00m\n\u001b[0;32m     64\u001b[0m \u001b[38;5;124;03m    mark in 2D space.\u001b[39;00m\n\u001b[0;32m     65\u001b[0m \u001b[38;5;124;03m    \"\"\"\u001b[39;00m\n\u001b[1;32m---> 66\u001b[0m     \u001b[38;5;28;01mreturn\u001b[39;00m make_figure(args\u001b[38;5;241m=\u001b[39m\u001b[38;5;28mlocals\u001b[39m(), constructor\u001b[38;5;241m=\u001b[39mgo\u001b[38;5;241m.\u001b[39mScatter)\n",
      "File \u001b[1;32m~\\anaconda3\\Lib\\site-packages\\plotly\\express\\_core.py:1990\u001b[0m, in \u001b[0;36mmake_figure\u001b[1;34m(args, constructor, trace_patch, layout_patch)\u001b[0m\n\u001b[0;32m   1987\u001b[0m layout_patch \u001b[38;5;241m=\u001b[39m layout_patch \u001b[38;5;129;01mor\u001b[39;00m {}\n\u001b[0;32m   1988\u001b[0m apply_default_cascade(args)\n\u001b[1;32m-> 1990\u001b[0m args \u001b[38;5;241m=\u001b[39m build_dataframe(args, constructor)\n\u001b[0;32m   1991\u001b[0m \u001b[38;5;28;01mif\u001b[39;00m constructor \u001b[38;5;129;01min\u001b[39;00m [go\u001b[38;5;241m.\u001b[39mTreemap, go\u001b[38;5;241m.\u001b[39mSunburst, go\u001b[38;5;241m.\u001b[39mIcicle] \u001b[38;5;129;01mand\u001b[39;00m args[\u001b[38;5;124m\"\u001b[39m\u001b[38;5;124mpath\u001b[39m\u001b[38;5;124m\"\u001b[39m] \u001b[38;5;129;01mis\u001b[39;00m \u001b[38;5;129;01mnot\u001b[39;00m \u001b[38;5;28;01mNone\u001b[39;00m:\n\u001b[0;32m   1992\u001b[0m     args \u001b[38;5;241m=\u001b[39m process_dataframe_hierarchy(args)\n",
      "File \u001b[1;32m~\\anaconda3\\Lib\\site-packages\\plotly\\express\\_core.py:1405\u001b[0m, in \u001b[0;36mbuild_dataframe\u001b[1;34m(args, constructor)\u001b[0m\n\u001b[0;32m   1402\u001b[0m     args[\u001b[38;5;124m\"\u001b[39m\u001b[38;5;124mcolor\u001b[39m\u001b[38;5;124m\"\u001b[39m] \u001b[38;5;241m=\u001b[39m \u001b[38;5;28;01mNone\u001b[39;00m\n\u001b[0;32m   1403\u001b[0m \u001b[38;5;66;03m# now that things have been prepped, we do the systematic rewriting of `args`\u001b[39;00m\n\u001b[1;32m-> 1405\u001b[0m df_output, wide_id_vars \u001b[38;5;241m=\u001b[39m process_args_into_dataframe(\n\u001b[0;32m   1406\u001b[0m     args, wide_mode, var_name, value_name\n\u001b[0;32m   1407\u001b[0m )\n\u001b[0;32m   1409\u001b[0m \u001b[38;5;66;03m# now that `df_output` exists and `args` contains only references, we complete\u001b[39;00m\n\u001b[0;32m   1410\u001b[0m \u001b[38;5;66;03m# the special-case and wide-mode handling by further rewriting args and/or mutating\u001b[39;00m\n\u001b[0;32m   1411\u001b[0m \u001b[38;5;66;03m# df_output\u001b[39;00m\n\u001b[0;32m   1413\u001b[0m count_name \u001b[38;5;241m=\u001b[39m _escape_col_name(df_output, \u001b[38;5;124m\"\u001b[39m\u001b[38;5;124mcount\u001b[39m\u001b[38;5;124m\"\u001b[39m, [var_name, value_name])\n",
      "File \u001b[1;32m~\\anaconda3\\Lib\\site-packages\\plotly\\express\\_core.py:1207\u001b[0m, in \u001b[0;36mprocess_args_into_dataframe\u001b[1;34m(args, wide_mode, var_name, value_name)\u001b[0m\n\u001b[0;32m   1205\u001b[0m         \u001b[38;5;28;01mif\u001b[39;00m argument \u001b[38;5;241m==\u001b[39m \u001b[38;5;124m\"\u001b[39m\u001b[38;5;124mindex\u001b[39m\u001b[38;5;124m\"\u001b[39m:\n\u001b[0;32m   1206\u001b[0m             err_msg \u001b[38;5;241m+\u001b[39m\u001b[38;5;241m=\u001b[39m \u001b[38;5;124m\"\u001b[39m\u001b[38;5;130;01m\\n\u001b[39;00m\u001b[38;5;124m To use the index, pass it in directly as `df.index`.\u001b[39m\u001b[38;5;124m\"\u001b[39m\n\u001b[1;32m-> 1207\u001b[0m         \u001b[38;5;28;01mraise\u001b[39;00m \u001b[38;5;167;01mValueError\u001b[39;00m(err_msg)\n\u001b[0;32m   1208\u001b[0m \u001b[38;5;28;01melif\u001b[39;00m length \u001b[38;5;129;01mand\u001b[39;00m \u001b[38;5;28mlen\u001b[39m(df_input[argument]) \u001b[38;5;241m!=\u001b[39m length:\n\u001b[0;32m   1209\u001b[0m     \u001b[38;5;28;01mraise\u001b[39;00m \u001b[38;5;167;01mValueError\u001b[39;00m(\n\u001b[0;32m   1210\u001b[0m         \u001b[38;5;124m\"\u001b[39m\u001b[38;5;124mAll arguments should have the same length. \u001b[39m\u001b[38;5;124m\"\u001b[39m\n\u001b[0;32m   1211\u001b[0m         \u001b[38;5;124m\"\u001b[39m\u001b[38;5;124mThe length of column argument `df[\u001b[39m\u001b[38;5;132;01m%s\u001b[39;00m\u001b[38;5;124m]` is \u001b[39m\u001b[38;5;132;01m%d\u001b[39;00m\u001b[38;5;124m, whereas the \u001b[39m\u001b[38;5;124m\"\u001b[39m\n\u001b[1;32m   (...)\u001b[0m\n\u001b[0;32m   1218\u001b[0m         )\n\u001b[0;32m   1219\u001b[0m     )\n",
      "\u001b[1;31mValueError\u001b[0m: Value of 'size' is not the name of a column in 'data_frame'. Expected one of ['hash_key', 'title_quer', 'link', 'published', 'source_url', 'source_title', 'category', 'year', 'year_month', 'pk', 'url_list', 'url_TLD', 'url', 'pk_p', 'title_par', 'authors', 'publish_date', 'keywords_list', 'text_len', 'valid', 'tb.sent', 'tb.noun', 'tb.word', 'tb.char', 'tb.pol', 'tb.sub', 'tb.polaj', 'tb.pos', 'tb.neg', 'pos1', 'neu1', 'neg1', 'vs.comp', 'ts.pos', 'ts.neg', 'nlp_error', 'al.pos', 'al.neg', 'word_count_f_t', 'word_combined_f_t', 'word_count_f_k', 'word_combined_f_k', 'word_count_s_t', 'word_combined_s_t', 'word_count_s_k', 'word_combined_s_k', 'word_combined_all', 'word_count_all', 'word_combined_all_sel', 'word_count_all_sel', 'tb.pol_k', 'tb.sub_k', 'tb.polaj_k', 'tb.pos_k', 'tb.neg_k', 'vs.pos', 'vs.neu', 'vs.neg', 'vs.comp_k', 'ts.neg_k', 'ts.pos_k', 'tb.class', 'vs.class', 'ts.class', 'al.pos_k', 'al.neg_k', 0, 1, 2] but received: words"
     ]
    }
   ],
   "source": [
    "df_main = openDFcsv(join2_path,join2_filename)\n",
    "mat_emb = openDFcsv(embdedding_path_raw,embdedding_filename_raw)\n",
    "mat_emb.drop([\"hash_key\"], axis=1,inplace=True)\n",
    "# linegraph(df_main)\n",
    "print(len(mat_emb))\n",
    "out_list, out_list_label = generateDirRed(mat_emb, df_main,3, norm_output=True, active_sel=[True,False,False,False])\n",
    "print(len(out_list))\n",
    "_2dList_out, _3dList_out = getRenderLists()\n",
    "for i in range(len(out_list)):\n",
    "    plt_2dList = renderAllOptions(out_list[i],True,_2dList_out,out_list_label[i])\n",
    "    # savePlotList(plt_2dList,visu_path,\"2D_\"+out_list_label[i])\n",
    "    plt_3dList = renderAllOptions(out_list[i],False,_3dList_out,out_list_label[i])\n",
    "    # savePlotList(plt_3dList,visu_path,\"3D_\"+out_list_label[i])"
   ]
  },
  {
   "cell_type": "code",
   "execution_count": null,
   "id": "1b5987ae",
   "metadata": {},
   "outputs": [],
   "source": [
    "print(len(plt_2dList))\n",
    "print(len(plt_3dList))"
   ]
  },
  {
   "cell_type": "code",
   "execution_count": null,
   "id": "2a883335",
   "metadata": {},
   "outputs": [],
   "source": []
  },
  {
   "cell_type": "code",
   "execution_count": null,
   "id": "e2f57517",
   "metadata": {},
   "outputs": [],
   "source": [
    "import ipywidgets as widgets"
   ]
  },
  {
   "cell_type": "code",
   "execution_count": null,
   "id": "57cd9afc",
   "metadata": {},
   "outputs": [],
   "source": [
    "widgets.IntSlider()"
   ]
  },
  {
   "cell_type": "code",
   "execution_count": null,
   "id": "1b379d87",
   "metadata": {},
   "outputs": [],
   "source": [
    "widgets.FloatSlider(\n",
    "    value=7.5,\n",
    "    min=0,\n",
    "    max=10.0,\n",
    "    step=0.1,\n",
    "    description='Test:',\n",
    "    disabled=False,\n",
    "    continuous_update=False,\n",
    "    orientation='vertical',\n",
    "    readout=True,\n",
    "    readout_format='.1f',\n",
    ")"
   ]
  },
  {
   "cell_type": "code",
   "execution_count": null,
   "id": "4f4d9953",
   "metadata": {},
   "outputs": [],
   "source": []
  },
  {
   "cell_type": "code",
   "execution_count": null,
   "id": "c8cf7b35",
   "metadata": {},
   "outputs": [],
   "source": []
  },
  {
   "cell_type": "code",
   "execution_count": null,
   "id": "0591a045",
   "metadata": {},
   "outputs": [],
   "source": []
  },
  {
   "cell_type": "code",
   "execution_count": null,
   "id": "7272039a",
   "metadata": {},
   "outputs": [],
   "source": []
  },
  {
   "cell_type": "code",
   "execution_count": null,
   "id": "f4a8de6b",
   "metadata": {},
   "outputs": [],
   "source": []
  },
  {
   "cell_type": "code",
   "execution_count": null,
   "id": "dddddd37",
   "metadata": {},
   "outputs": [],
   "source": []
  },
  {
   "cell_type": "code",
   "execution_count": null,
   "id": "337b1628",
   "metadata": {},
   "outputs": [],
   "source": [
    "\n"
   ]
  },
  {
   "cell_type": "code",
   "execution_count": null,
   "id": "d1a200b3",
   "metadata": {},
   "outputs": [],
   "source": []
  },
  {
   "cell_type": "code",
   "execution_count": null,
   "id": "b950fbe8",
   "metadata": {},
   "outputs": [],
   "source": [
    "from IPython.display import display\n",
    "w = widgets.IntSlider()\n",
    "display(w)"
   ]
  },
  {
   "cell_type": "code",
   "execution_count": null,
   "id": "f5c5bc03",
   "metadata": {},
   "outputs": [],
   "source": [
    "display(w)"
   ]
  },
  {
   "cell_type": "code",
   "execution_count": null,
   "id": "cd468248",
   "metadata": {},
   "outputs": [],
   "source": [
    "widgets.Text(value='Hello World!', disabled=True)"
   ]
  },
  {
   "cell_type": "code",
   "execution_count": null,
   "id": "59f95d19",
   "metadata": {},
   "outputs": [],
   "source": [
    "test = widgets.IntSlider(\n",
    "    value=7,\n",
    "    min=0,\n",
    "    max=10,\n",
    "    step=1,\n",
    "    description='Test:',\n",
    "    disabled=False,\n",
    "    continuous_update=False,\n",
    "    orientation='horizontal',\n",
    "    readout=True,\n",
    "    readout_format='d'\n",
    ")"
   ]
  },
  {
   "cell_type": "code",
   "execution_count": null,
   "id": "5f198b30",
   "metadata": {},
   "outputs": [],
   "source": [
    "display(test)"
   ]
  },
  {
   "cell_type": "code",
   "execution_count": null,
   "id": "adef325f",
   "metadata": {},
   "outputs": [],
   "source": [
    "test2 = widgets.Dropdown(\n",
    "    options=[('One', 1), ('Two', 2), ('Three', 3)],\n",
    "    value=2,\n",
    "    description='Number:',\n",
    ")"
   ]
  },
  {
   "cell_type": "code",
   "execution_count": null,
   "id": "d7e6faf0",
   "metadata": {},
   "outputs": [],
   "source": [
    "display(test2)"
   ]
  },
  {
   "cell_type": "code",
   "execution_count": null,
   "id": "3c58a9cf",
   "metadata": {},
   "outputs": [],
   "source": [
    "from ipywidgets import IntSlider\n",
    "from ipywidgets.embed import embed_minimal_html\n",
    "\n",
    "slider = IntSlider(value=40)\n",
    "embed_minimal_html('export.html', views=[slider], title='Widgets export')"
   ]
  },
  {
   "cell_type": "code",
   "execution_count": null,
   "id": "ae49b8ae",
   "metadata": {},
   "outputs": [],
   "source": [
    "import json\n",
    "\n",
    "from ipywidgets import IntSlider\n",
    "from ipywidgets.embed import embed_data\n",
    "\n",
    "s1 = IntSlider(max=200, value=100)\n",
    "s2 = IntSlider(value=40)\n",
    "data = embed_data(views=[s1, s2])\n",
    "\n",
    "html_template = \"\"\"\n",
    "<html>\n",
    "  <head>\n",
    "\n",
    "    <title>Widget export</title>\n",
    "\n",
    "    <!-- Load RequireJS, used by the IPywidgets for dependency management -->\n",
    "    <script\n",
    "      src=\"https://cdnjs.cloudflare.com/ajax/libs/require.js/2.3.4/require.min.js\"\n",
    "      integrity=\"sha256-Ae2Vz/4ePdIu6ZyI/5ZGsYnb+m0JlOmKPjt6XZ9JJkA=\"\n",
    "      crossorigin=\"anonymous\">\n",
    "    </script>\n",
    "\n",
    "    <!-- Load IPywidgets bundle for embedding. -->\n",
    "    <script\n",
    "      data-jupyter-widgets-cdn=\"https://unpkg.com/\"\n",
    "      data-jupyter-widgets-cdn-only\n",
    "      src=\"https://cdn.jsdelivr.net/npm/@jupyter-widgets/html-manager@*/dist/embed-amd.js\"\n",
    "      crossorigin=\"anonymous\">\n",
    "    </script>\n",
    "\n",
    "    <!-- The state of all the widget models on the page -->\n",
    "    <script type=\"application/vnd.jupyter.widget-state+json\">\n",
    "      {manager_state}\n",
    "    </script>\n",
    "  </head>\n",
    "\n",
    "  <body>\n",
    "\n",
    "    <h1>Widget export</h1>\n",
    "\n",
    "    <div id=\"first-slider-widget\">\n",
    "      <!-- This script tag will be replaced by the view's DOM tree -->\n",
    "      <script type=\"application/vnd.jupyter.widget-view+json\">\n",
    "        {widget_views[0]}\n",
    "      </script>\n",
    "    </div>\n",
    "\n",
    "    <hrule />\n",
    "\n",
    "    <div id=\"second-slider-widget\">\n",
    "      <!-- This script tag will be replaced by the view's DOM tree -->\n",
    "      <script type=\"application/vnd.jupyter.widget-view+json\">\n",
    "        {widget_views[1]}\n",
    "      </script>\n",
    "    </div>\n",
    "\n",
    "  </body>\n",
    "</html>\n",
    "\"\"\"\n",
    "\n",
    "manager_state = json.dumps(data['manager_state'])\n",
    "widget_views = [json.dumps(view) for view in data['view_specs']]\n",
    "rendered_template = html_template.format(manager_state=manager_state, widget_views=widget_views)\n",
    "with open('export1.html', 'w') as fp:\n",
    "    fp.write(rendered_template)"
   ]
  },
  {
   "cell_type": "code",
   "execution_count": null,
   "id": "eb971dc8",
   "metadata": {},
   "outputs": [],
   "source": [
    "from ipywidgets.embed import embed_minimal_html, dependency_state\n",
    "\n",
    "s1 = widgets.IntSlider(max=200, value=100)\n",
    "s2 = widgets.IntSlider(value=40)\n",
    "embed_minimal_html('export2.html', views=[s1, s2], state=dependency_state([s1, s2]))"
   ]
  },
  {
   "cell_type": "code",
   "execution_count": null,
   "id": "3da06f7b",
   "metadata": {},
   "outputs": [],
   "source": [
    "import plotly.io as pio\n",
    "pio.renderers"
   ]
  },
  {
   "cell_type": "code",
   "execution_count": null,
   "id": "4e6bcbf7",
   "metadata": {},
   "outputs": [],
   "source": [
    "from dash import Dash, dcc, html, Input, Output\n",
    "import plotly.graph_objects as go\n",
    "import numpy as np\n",
    "import ipywidgets as widgets\n",
    "\n",
    "app = Dash(__name__)\n",
    "\n",
    "app.layout = html.Div([\n",
    "    html.H4('Interactive plot with custom data source'),\n",
    "    dcc.Graph(id=\"graph\"),\n",
    "    html.P(\"Number of bars:\"),\n",
    "    dcc.Slider(id=\"slider\", min=2, max=10, value=4, step=1),\n",
    "])\n",
    "\n",
    "\n",
    "@app.callback(\n",
    "    Output(\"graph\", \"figure\"), \n",
    "    Input(\"slider\", \"value\"))\n",
    "def update_bar_chart(size):\n",
    "    data = np.random.normal(3, 2, size=size) # replace with your own data source\n",
    "    fig = go.Figure(\n",
    "        data=[go.Bar(y=data)],\n",
    "        layout_title_text=\"Native Plotly rendering in Dash\"\n",
    "    )\n",
    "    return fig\n",
    "\n",
    "app.run_server(debug=True)\n",
    "widgets.IntSlider()"
   ]
  },
  {
   "cell_type": "code",
   "execution_count": null,
   "id": "46d43e46",
   "metadata": {},
   "outputs": [],
   "source": [
    "from dash import Dash, html, dcc\n",
    "\n",
    "app = Dash(__name__)\n",
    "\n",
    "app.layout = html.Div([\n",
    "    html.Div(children=[\n",
    "        html.Label('Dropdown'),\n",
    "        dcc.Dropdown(['New York City', 'Montréal', 'San Francisco'], 'Montréal'),\n",
    "\n",
    "        html.Br(),\n",
    "        html.Label('Multi-Select Dropdown'),\n",
    "        dcc.Dropdown(['New York City', 'Montréal', 'San Francisco'],\n",
    "                     ['Montréal', 'San Francisco'],\n",
    "                     multi=True),\n",
    "\n",
    "        html.Br(),\n",
    "        html.Label('Radio Items'),\n",
    "        dcc.RadioItems(['New York City', 'Montréal', 'San Francisco'], 'Montréal'),\n",
    "    ], style={'padding': 10, 'flex': 1}),\n",
    "\n",
    "    html.Div(children=[\n",
    "        html.Label('Checkboxes'),\n",
    "        dcc.Checklist(['New York City', 'Montréal', 'San Francisco'],\n",
    "                      ['Montréal', 'San Francisco']\n",
    "        ),\n",
    "\n",
    "        html.Br(),\n",
    "        html.Label('Text Input'),\n",
    "        dcc.Input(value='MTL', type='text'),\n",
    "\n",
    "        html.Br(),\n",
    "        html.Label('Slider'),\n",
    "        dcc.Slider(\n",
    "            min=0,\n",
    "            max=9,\n",
    "            marks={i: f'Label {i}' if i == 1 else str(i) for i in range(1, 6)},\n",
    "            value=5,\n",
    "        ),\n",
    "    ], style={'padding': 10, 'flex': 1})\n",
    "], style={'display': 'flex', 'flexDirection': 'row'})\n",
    "\n",
    "if __name__ == '__main__':\n",
    "    app.run(debug=True)"
   ]
  },
  {
   "cell_type": "code",
   "execution_count": null,
   "id": "3bc3a6d4",
   "metadata": {},
   "outputs": [],
   "source": []
  }
 ],
 "metadata": {
  "kernelspec": {
   "display_name": "Python 3 (ipykernel)",
   "language": "python",
   "name": "python3"
  },
  "language_info": {
   "codemirror_mode": {
    "name": "ipython",
    "version": 3
   },
   "file_extension": ".py",
   "mimetype": "text/x-python",
   "name": "python",
   "nbconvert_exporter": "python",
   "pygments_lexer": "ipython3",
   "version": "3.11.5"
  }
 },
 "nbformat": 4,
 "nbformat_minor": 5
}
