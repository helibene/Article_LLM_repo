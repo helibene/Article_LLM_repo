{
 "cells": [
  {
   "cell_type": "markdown",
   "id": "e4bc96e3",
   "metadata": {},
   "source": [
    "### Imports"
   ]
  },
  {
   "cell_type": "code",
   "execution_count": null,
   "id": "77e371e1",
   "metadata": {},
   "outputs": [],
   "source": [
    "import main_var\n",
    "env = \"test_new2/\"\n",
    "mv = main_var.main_var(env=env)\n",
    "\n",
    "from article_scraping_lib import *\n",
    "from article_parsing_lib import *\n",
    "from openai_module_lib import *\n",
    "from embedding_keyword_module_lib import *\n",
    "from utils_art import *\n",
    "\n",
    "\n",
    "max_num = 10000000\n",
    "step_pct=0.005\n",
    "df = loop_scraping(2,'2000-01-01','2024-01-01',sampling_1=1,sampling_2=1,save_steps=True,save_final=True,display=True)\n",
    "# df2 =  filterQuerryDataset(df,10,3,True,True,True)\n",
    "df_querry = readArticleFileTable(index_from=0,index_to=50,save_articles=True,save_final=True,save_steps=True,display_df=True,step_pct=0.2,add_nlp=2,filtered_input_df=True)\n",
    "df_join = joinQuerryAndParse(save=True,remove_invalid=True,display=True,filtered_input_df=True)\n",
    "df_embd = mainGeneration(True,False,10,max_num,7500,1000,True,True,True,step_pct)\n",
    "emb_mat = extractEmbeddingFromFile(max_num)\n",
    "df_key = mainKeywordWF(max_num,100)\n",
    "df_final = mainJoinOut()\n"
   ]
  },
  {
   "cell_type": "code",
   "execution_count": null,
   "id": "0b2f00d2",
   "metadata": {},
   "outputs": [],
   "source": []
  },
  {
   "cell_type": "code",
   "execution_count": null,
   "id": "e4cafd68",
   "metadata": {},
   "outputs": [],
   "source": []
  },
  {
   "cell_type": "code",
   "execution_count": null,
   "id": "f3499a7c",
   "metadata": {},
   "outputs": [],
   "source": []
  },
  {
   "cell_type": "code",
   "execution_count": null,
   "id": "1ce570e4",
   "metadata": {},
   "outputs": [],
   "source": []
  },
  {
   "cell_type": "code",
   "execution_count": null,
   "id": "930f8309",
   "metadata": {
    "scrolled": true
   },
   "outputs": [],
   "source": []
  },
  {
   "cell_type": "code",
   "execution_count": null,
   "id": "9359d500",
   "metadata": {},
   "outputs": [],
   "source": []
  },
  {
   "cell_type": "code",
   "execution_count": null,
   "id": "b73e0f01",
   "metadata": {},
   "outputs": [],
   "source": []
  },
  {
   "cell_type": "code",
   "execution_count": null,
   "id": "4bd497e8",
   "metadata": {},
   "outputs": [],
   "source": []
  },
  {
   "cell_type": "code",
   "execution_count": null,
   "id": "f60ef3b8",
   "metadata": {},
   "outputs": [],
   "source": []
  },
  {
   "cell_type": "code",
   "execution_count": null,
   "id": "61741c29",
   "metadata": {},
   "outputs": [],
   "source": []
  },
  {
   "cell_type": "code",
   "execution_count": null,
   "id": "9db8524a",
   "metadata": {},
   "outputs": [],
   "source": []
  },
  {
   "cell_type": "code",
   "execution_count": null,
   "id": "3d81540d",
   "metadata": {},
   "outputs": [],
   "source": []
  },
  {
   "cell_type": "code",
   "execution_count": null,
   "id": "3fb78803",
   "metadata": {},
   "outputs": [],
   "source": [
    "\n",
    " "
   ]
  },
  {
   "cell_type": "code",
   "execution_count": null,
   "id": "a3b404e4",
   "metadata": {
    "scrolled": true
   },
   "outputs": [],
   "source": [
    "# df = openDFcsv(mv.query_path,mv.query_filename)\n",
    "# df3 = selectOnDf(df2,\"\",\"\")\n",
    "# plotDFstatisticsQuerry(df,70)\n",
    "# displayStats(df)\n",
    "# saveDFcsv(df3,mv.query_path,mv.query_filename)\n",
    "\n",
    "\n",
    "\n",
    "# df = loop_scraping(9,'1999-03-27','2024-03-19',sampling_1=5,sampling_2=5,save_steps=True,save_final=True,display=True)\n",
    "# plotDFstatisticsQuerry(df,70)\n",
    "# displayStats(df)\n",
    "\n",
    "# df = openDFcsv(mv.query_path,mv.query_filename)\n",
    "# df2 =  filterQuerryDataset(df,150,10,True,True,True)\n",
    "# plotDFstatisticsQuerry(df2,70,True)\n",
    "# displayStats(df2)\n",
    "\n",
    "# df = openDFcsv(mv.query_path,mv.query_filename)\n",
    "df_querry = readArticleFileTable(index_from=0,index_to=99999999999,save_articles=True,save_final=True,save_steps=True,display_df=True,step_pct=0.005,add_nlp=2,filtered_input_df=True)\n",
    "# df_join = joinQuerryAndParse(save=True,remove_invalid=True,display=True,filtered_input_df=True)\n",
    "# df_embd = mainGeneration(True,False,10,99999999,7500,9999,True,True,True,0.1)\n",
    "# emb_mat = extractEmbeddingFromFile(999999999)\n",
    "# df_key = mainKeywordWF(99999999999,100)\n",
    "# df_final = mainJoinOut()"
   ]
  },
  {
   "cell_type": "code",
   "execution_count": null,
   "id": "17793f7b",
   "metadata": {},
   "outputs": [],
   "source": []
  },
  {
   "cell_type": "code",
   "execution_count": null,
   "id": "1edba156",
   "metadata": {},
   "outputs": [],
   "source": []
  }
 ],
 "metadata": {
  "kernelspec": {
   "display_name": "Python 3 (ipykernel)",
   "language": "python",
   "name": "python3"
  },
  "language_info": {
   "codemirror_mode": {
    "name": "ipython",
    "version": 3
   },
   "file_extension": ".py",
   "mimetype": "text/x-python",
   "name": "python",
   "nbconvert_exporter": "python",
   "pygments_lexer": "ipython3",
   "version": "3.11.5"
  }
 },
 "nbformat": 4,
 "nbformat_minor": 5
}
