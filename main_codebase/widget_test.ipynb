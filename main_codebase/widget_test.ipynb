{
 "cells": [
  {
   "cell_type": "code",
   "execution_count": 12,
   "id": "55825f11",
   "metadata": {},
   "outputs": [],
   "source": [
    "import main_var\n",
    "env = \"test_new/\"\n",
    "mv = main_var.main_var(env=env)\n",
    "\n",
    "from visualization_module_lib import *\n",
    "from utils_art import *\n",
    "import pandas as pd\n",
    "\n",
    "join2_path=mv.join2_path\n",
    "embdedding_path_raw=mv.embdedding_path_raw\n",
    "visu_path = mv.visu_path\n",
    "\n",
    "join2_filename=mv.join2_filename\n",
    "embdedding_filename_raw=mv.embdedding_filename_raw\n",
    "visu_filename = mv.visu_filename"
   ]
  },
  {
   "cell_type": "code",
   "execution_count": 19,
   "id": "08ec5694",
   "metadata": {},
   "outputs": [
    {
     "name": "stdout",
     "output_type": "stream",
     "text": [
      "(20986, 25)\n",
      "(30576, 25)\n",
      "(51562, 25)\n"
     ]
    }
   ],
   "source": [
    "df1 = openDFcsv(\"C:/Users/User/OneDrive/Desktop/Article_LLM/main_files/1_2_scarp_main/.main/temp3/\",\"1_scarp_file_20986\")\n",
    "df2 = openDFcsv(\"C:/Users/User/OneDrive/Desktop/Article_LLM/main_files/1_2_scarp_main/.main/temp3/\",\"2_scarp_file_30576\")\n",
    "print(df1.shape)\n",
    "print(df2.shape)\n",
    "df_out = pd.concat([df1,df2])\n",
    "print(df_out.shape)"
   ]
  },
  {
   "cell_type": "code",
   "execution_count": null,
   "id": "13d44243",
   "metadata": {},
   "outputs": [],
   "source": [
    "df_main = openDFcsv(join2_path,join2_filename)\n",
    "mat_emb = openDFcsv(embdedding_path_raw,embdedding_filename_raw)\n",
    "mat_emb.drop([\"hash_key\"], axis=1,inplace=True)\n",
    "# linegraph(df_main)\n",
    "print(len(mat_emb))\n",
    "out_list, out_list_label = generateDirRed(mat_emb, df_main,3, norm_output=True, active_sel=[True,False,False,False])\n",
    "print(type(out_list))\n",
    "print(type(out_list[0]))\n",
    "print(out_list[0])\n",
    "# _2dList_out, _3dList_out = getRenderLists()\n",
    "# for i in range(len(out_list)):\n",
    "#     plt_2dList = renderAllOptions(out_list[i],True,_2dList_out,out_list_label[i])\n",
    "#     # savePlotList(plt_2dList,visu_path,\"2D_\"+out_list_label[i])\n",
    "#     plt_3dList = renderAllOptions(out_list[i],False,_3dList_out,out_list_label[i])\n",
    "#     # savePlotList(plt_3dList,visu_path,\"3D_\"+out_list_label[i])"
   ]
  },
  {
   "cell_type": "code",
   "execution_count": null,
   "id": "c7932ae7",
   "metadata": {},
   "outputs": [],
   "source": [
    "print(len(plt_2dList))\n",
    "print(len(plt_3dList))"
   ]
  },
  {
   "cell_type": "code",
   "execution_count": null,
   "id": "bfdc2147",
   "metadata": {},
   "outputs": [],
   "source": []
  },
  {
   "cell_type": "code",
   "execution_count": null,
   "id": "e2f57517",
   "metadata": {},
   "outputs": [],
   "source": [
    "import ipywidgets as widgets"
   ]
  },
  {
   "cell_type": "code",
   "execution_count": null,
   "id": "57cd9afc",
   "metadata": {},
   "outputs": [],
   "source": [
    "widgets.IntSlider()"
   ]
  },
  {
   "cell_type": "code",
   "execution_count": null,
   "id": "1b379d87",
   "metadata": {},
   "outputs": [],
   "source": [
    "widgets.FloatSlider(\n",
    "    value=7.5,\n",
    "    min=0,\n",
    "    max=10.0,\n",
    "    step=0.1,\n",
    "    description='Test:',\n",
    "    disabled=False,\n",
    "    continuous_update=False,\n",
    "    orientation='vertical',\n",
    "    readout=True,\n",
    "    readout_format='.1f',\n",
    ")"
   ]
  },
  {
   "cell_type": "code",
   "execution_count": null,
   "id": "4f4d9953",
   "metadata": {},
   "outputs": [],
   "source": []
  },
  {
   "cell_type": "code",
   "execution_count": null,
   "id": "c8cf7b35",
   "metadata": {},
   "outputs": [],
   "source": []
  },
  {
   "cell_type": "code",
   "execution_count": null,
   "id": "0591a045",
   "metadata": {},
   "outputs": [],
   "source": []
  },
  {
   "cell_type": "code",
   "execution_count": null,
   "id": "7272039a",
   "metadata": {},
   "outputs": [],
   "source": []
  },
  {
   "cell_type": "code",
   "execution_count": null,
   "id": "f4a8de6b",
   "metadata": {},
   "outputs": [],
   "source": []
  },
  {
   "cell_type": "code",
   "execution_count": null,
   "id": "dddddd37",
   "metadata": {},
   "outputs": [],
   "source": []
  },
  {
   "cell_type": "code",
   "execution_count": null,
   "id": "337b1628",
   "metadata": {},
   "outputs": [],
   "source": [
    "\n"
   ]
  },
  {
   "cell_type": "code",
   "execution_count": null,
   "id": "d1a200b3",
   "metadata": {},
   "outputs": [],
   "source": []
  },
  {
   "cell_type": "code",
   "execution_count": null,
   "id": "b950fbe8",
   "metadata": {},
   "outputs": [],
   "source": [
    "from IPython.display import display\n",
    "w = widgets.IntSlider()\n",
    "display(w)"
   ]
  },
  {
   "cell_type": "code",
   "execution_count": null,
   "id": "f5c5bc03",
   "metadata": {},
   "outputs": [],
   "source": [
    "display(w)"
   ]
  },
  {
   "cell_type": "code",
   "execution_count": null,
   "id": "cd468248",
   "metadata": {},
   "outputs": [],
   "source": [
    "widgets.Text(value='Hello World!', disabled=True)"
   ]
  },
  {
   "cell_type": "code",
   "execution_count": null,
   "id": "59f95d19",
   "metadata": {},
   "outputs": [],
   "source": [
    "test = widgets.IntSlider(\n",
    "    value=7,\n",
    "    min=0,\n",
    "    max=10,\n",
    "    step=1,\n",
    "    description='Test:',\n",
    "    disabled=False,\n",
    "    continuous_update=False,\n",
    "    orientation='horizontal',\n",
    "    readout=True,\n",
    "    readout_format='d'\n",
    ")"
   ]
  },
  {
   "cell_type": "code",
   "execution_count": null,
   "id": "5f198b30",
   "metadata": {},
   "outputs": [],
   "source": [
    "display(test)"
   ]
  },
  {
   "cell_type": "code",
   "execution_count": null,
   "id": "adef325f",
   "metadata": {},
   "outputs": [],
   "source": [
    "test2 = widgets.Dropdown(\n",
    "    options=[('One', 1), ('Two', 2), ('Three', 3)],\n",
    "    value=2,\n",
    "    description='Number:',\n",
    ")"
   ]
  },
  {
   "cell_type": "code",
   "execution_count": null,
   "id": "d7e6faf0",
   "metadata": {},
   "outputs": [],
   "source": [
    "display(test2)"
   ]
  },
  {
   "cell_type": "code",
   "execution_count": null,
   "id": "3c58a9cf",
   "metadata": {},
   "outputs": [],
   "source": [
    "from ipywidgets import IntSlider\n",
    "from ipywidgets.embed import embed_minimal_html\n",
    "\n",
    "slider = IntSlider(value=40)\n",
    "embed_minimal_html('export.html', views=[slider], title='Widgets export')"
   ]
  },
  {
   "cell_type": "code",
   "execution_count": null,
   "id": "ae49b8ae",
   "metadata": {},
   "outputs": [],
   "source": [
    "import json\n",
    "\n",
    "from ipywidgets import IntSlider\n",
    "from ipywidgets.embed import embed_data\n",
    "\n",
    "s1 = IntSlider(max=200, value=100)\n",
    "s2 = IntSlider(value=40)\n",
    "data = embed_data(views=[s1, s2])\n",
    "\n",
    "html_template = \"\"\"\n",
    "<html>\n",
    "  <head>\n",
    "\n",
    "    <title>Widget export</title>\n",
    "\n",
    "    <!-- Load RequireJS, used by the IPywidgets for dependency management -->\n",
    "    <script\n",
    "      src=\"https://cdnjs.cloudflare.com/ajax/libs/require.js/2.3.4/require.min.js\"\n",
    "      integrity=\"sha256-Ae2Vz/4ePdIu6ZyI/5ZGsYnb+m0JlOmKPjt6XZ9JJkA=\"\n",
    "      crossorigin=\"anonymous\">\n",
    "    </script>\n",
    "\n",
    "    <!-- Load IPywidgets bundle for embedding. -->\n",
    "    <script\n",
    "      data-jupyter-widgets-cdn=\"https://unpkg.com/\"\n",
    "      data-jupyter-widgets-cdn-only\n",
    "      src=\"https://cdn.jsdelivr.net/npm/@jupyter-widgets/html-manager@*/dist/embed-amd.js\"\n",
    "      crossorigin=\"anonymous\">\n",
    "    </script>\n",
    "\n",
    "    <!-- The state of all the widget models on the page -->\n",
    "    <script type=\"application/vnd.jupyter.widget-state+json\">\n",
    "      {manager_state}\n",
    "    </script>\n",
    "  </head>\n",
    "\n",
    "  <body>\n",
    "\n",
    "    <h1>Widget export</h1>\n",
    "\n",
    "    <div id=\"first-slider-widget\">\n",
    "      <!-- This script tag will be replaced by the view's DOM tree -->\n",
    "      <script type=\"application/vnd.jupyter.widget-view+json\">\n",
    "        {widget_views[0]}\n",
    "      </script>\n",
    "    </div>\n",
    "\n",
    "    <hrule />\n",
    "\n",
    "    <div id=\"second-slider-widget\">\n",
    "      <!-- This script tag will be replaced by the view's DOM tree -->\n",
    "      <script type=\"application/vnd.jupyter.widget-view+json\">\n",
    "        {widget_views[1]}\n",
    "      </script>\n",
    "    </div>\n",
    "\n",
    "  </body>\n",
    "</html>\n",
    "\"\"\"\n",
    "\n",
    "manager_state = json.dumps(data['manager_state'])\n",
    "widget_views = [json.dumps(view) for view in data['view_specs']]\n",
    "rendered_template = html_template.format(manager_state=manager_state, widget_views=widget_views)\n",
    "with open('export1.html', 'w') as fp:\n",
    "    fp.write(rendered_template)"
   ]
  },
  {
   "cell_type": "code",
   "execution_count": null,
   "id": "eb971dc8",
   "metadata": {},
   "outputs": [],
   "source": [
    "from ipywidgets.embed import embed_minimal_html, dependency_state\n",
    "\n",
    "s1 = widgets.IntSlider(max=200, value=100)\n",
    "s2 = widgets.IntSlider(value=40)\n",
    "embed_minimal_html('export2.html', views=[s1, s2], state=dependency_state([s1, s2]))"
   ]
  },
  {
   "cell_type": "code",
   "execution_count": null,
   "id": "3da06f7b",
   "metadata": {},
   "outputs": [],
   "source": [
    "import plotly.io as pio\n",
    "pio.renderers"
   ]
  },
  {
   "cell_type": "code",
   "execution_count": null,
   "id": "4e6bcbf7",
   "metadata": {},
   "outputs": [],
   "source": [
    "from dash import Dash, dcc, html, Input, Output\n",
    "import plotly.graph_objects as go\n",
    "import numpy as np\n",
    "import ipywidgets as widgets\n",
    "\n",
    "app = Dash(__name__)\n",
    "\n",
    "app.layout = html.Div([\n",
    "    html.H4('Interactive plot with custom data source'),\n",
    "    dcc.Graph(id=\"graph\"),\n",
    "    html.P(\"Number of bars:\"),\n",
    "    dcc.Slider(id=\"slider\", min=2, max=10, value=4, step=1),\n",
    "])\n",
    "\n",
    "\n",
    "@app.callback(\n",
    "    Output(\"graph\", \"figure\"), \n",
    "    Input(\"slider\", \"value\"))\n",
    "def update_bar_chart(size):\n",
    "    data = np.random.normal(3, 2, size=size) # replace with your own data source\n",
    "    fig = go.Figure(\n",
    "        data=[go.Bar(y=data)],\n",
    "        layout_title_text=\"Native Plotly rendering in Dash\"\n",
    "    )\n",
    "    return fig\n",
    "\n",
    "app.run_server(debug=True)\n",
    "widgets.IntSlider()"
   ]
  },
  {
   "cell_type": "code",
   "execution_count": null,
   "id": "46d43e46",
   "metadata": {},
   "outputs": [],
   "source": [
    "from dash import Dash, html, dcc\n",
    "\n",
    "app = Dash(__name__)\n",
    "\n",
    "app.layout = html.Div([\n",
    "    html.Div(children=[\n",
    "        html.Label('Dropdown'),\n",
    "        dcc.Dropdown(['New York City', 'Montréal', 'San Francisco'], 'Montréal'),\n",
    "\n",
    "        html.Br(),\n",
    "        html.Label('Multi-Select Dropdown'),\n",
    "        dcc.Dropdown(['New York City', 'Montréal', 'San Francisco'],\n",
    "                     ['Montréal', 'San Francisco'],\n",
    "                     multi=True),\n",
    "\n",
    "        html.Br(),\n",
    "        html.Label('Radio Items'),\n",
    "        dcc.RadioItems(['New York City', 'Montréal', 'San Francisco'], 'Montréal'),\n",
    "    ], style={'padding': 10, 'flex': 1}),\n",
    "\n",
    "    html.Div(children=[\n",
    "        html.Label('Checkboxes'),\n",
    "        dcc.Checklist(['New York City', 'Montréal', 'San Francisco'],\n",
    "                      ['Montréal', 'San Francisco']\n",
    "        ),\n",
    "\n",
    "        html.Br(),\n",
    "        html.Label('Text Input'),\n",
    "        dcc.Input(value='MTL', type='text'),\n",
    "\n",
    "        html.Br(),\n",
    "        html.Label('Slider'),\n",
    "        dcc.Slider(\n",
    "            min=0,\n",
    "            max=9,\n",
    "            marks={i: f'Label {i}' if i == 1 else str(i) for i in range(1, 6)},\n",
    "            value=5,\n",
    "        ),\n",
    "    ], style={'padding': 10, 'flex': 1})\n",
    "], style={'display': 'flex', 'flexDirection': 'row'})\n",
    "\n",
    "if __name__ == '__main__':\n",
    "    app.run(debug=True)"
   ]
  },
  {
   "cell_type": "markdown",
   "id": "4f4f37fd",
   "metadata": {},
   "source": [
    "di = {\"lol\":1}\n",
    "d2 = {\"lol_x\":3}\n",
    "d3 = di.add(d2)\n",
    "print(d3)"
   ]
  },
  {
   "cell_type": "code",
   "execution_count": null,
   "id": "ab34b1f2",
   "metadata": {},
   "outputs": [],
   "source": [
    "from transformers import logging\n",
    "logging.set_verbosity_error()\n",
    "from transformers import AutoModelForSequenceClassification\n",
    "from transformers import TFAutoModelForSequenceClassification\n",
    "from transformers import AutoTokenizer, AutoConfig\n",
    "import numpy as np\n",
    "from scipy.special import softmax\n",
    "# Preprocess text (username and link placeholders)\n",
    "def preprocess(text):\n",
    "    new_text = []\n",
    "    for t in text.split(\" \"):\n",
    "        t = '@user' if t.startswith('@') and len(t) > 1 else t\n",
    "        t = 'http' if t.startswith('http') else t\n",
    "        new_text.append(t)\n",
    "    return \" \".join(new_text)\n",
    "MODEL = f\"cardiffnlp/twitter-roberta-base-sentiment-latest\"\n",
    "tokenizer = AutoTokenizer.from_pretrained(MODEL)\n",
    "config = AutoConfig.from_pretrained(MODEL)\n",
    "# PT\n",
    "model = AutoModelForSequenceClassification.from_pretrained(MODEL)\n",
    "#model.save_pretrained(MODEL)\n",
    "text = \"Learn from global scholars, explore international programs, and discover scope of global options available to our faculty and staff.\"\n",
    "text = preprocess(text)\n",
    "encoded_input = tokenizer(text, return_tensors='pt')\n",
    "output = model(**encoded_input)\n",
    "scores = output[0][0].detach().numpy()\n",
    "print(scores[0])\n",
    "scores = softmax(scores)\n",
    "# # TF\n",
    "# model = TFAutoModelForSequenceClassification.from_pretrained(MODEL)\n",
    "# model.save_pretrained(MODEL)\n",
    "# text = \"Covid cases are increasing fast!\"\n",
    "# encoded_input = tokenizer(text, return_tensors='tf')\n",
    "# output = model(encoded_input)\n",
    "# scores = output[0][0].numpy()\n",
    "# scores = softmax(scores)\n",
    "# Print labels and scores\n",
    "print(scores)\n",
    "ranking = np.argsort(scores)\n",
    "ranking = ranking[::-1]\n",
    "for i in range(scores.shape[0]):\n",
    "    l = config.id2label[ranking[i]]\n",
    "    s = scores[ranking[i]]\n",
    "    print(f\"{i+1}) {l} {np.round(float(s), 4)}\")"
   ]
  },
  {
   "cell_type": "code",
   "execution_count": null,
   "id": "1d99a90c",
   "metadata": {},
   "outputs": [],
   "source": [
    "from scipy.special import softmax\n",
    "scores = softmax([1,0,-1])\n",
    "print(scores)"
   ]
  },
  {
   "cell_type": "code",
   "execution_count": null,
   "id": "f6f17ecd",
   "metadata": {},
   "outputs": [],
   "source": [
    "print(scores[0]+scores[1]+scores[2])"
   ]
  },
  {
   "cell_type": "code",
   "execution_count": null,
   "id": "7b87699c",
   "metadata": {},
   "outputs": [],
   "source": [
    "from textblob import TextBlob\n",
    "from textblob.sentiments import NaiveBayesAnalyzer\n",
    "from textblob.sentiments import PatternAnalyzer"
   ]
  },
  {
   "cell_type": "code",
   "execution_count": null,
   "id": "5ba5e4dd",
   "metadata": {},
   "outputs": [],
   "source": [
    "text_test = \"\"\"Alexey Navalny once represented an alternative future for Russia: an optimistic, forward-looking place, free of the one-man rule of Russian President Vladimir Putin.\n",
    "With the death of the opposition leader in a prison north of the Arctic Circle, Russia’s bleak political landscape is now many shades darker.\n",
    "It would be hard to overstate how profoundly Navalny symbolized Putin’s relentless drive to erase the last remnants of political opposition from Russia. During his many years of activism, Navalny and his supporters saw their protest rallies shut down by riot police; their offices raided; and countless arrests that landed activists in jail, or forced out of the country.\n",
    "Navalny himself paid an extraordinarily high price for his activism. Under constant surveillance by Putin’s security services, Navalny survived a near-lethal poisoning by the nerve agent Novichok, yet defiantly returned to Russia instead of remaining in comfortable exile. He was immediately arrested on his return to Moscow.\n",
    "What followed was a parody of criminal justice, as Russian prosecutors heaped on charges against Navalny, who continued to rail against Putin. In one court appearance by video link, a gaunt Navalny – emaciated by a hunger strike – heaped scorn on the president, saying, “I would like to say that your king is naked, and more than one little boy is shouting about it – it is now millions of people who are already shouting about it. It is quite obvious. Twenty years of incompetent rule have come to this: there is a crown sliding from his ears,” Navalny said.\n",
    "“Your naked king wants to rule until the end, he doesn’t care about the country, he is clung to power and wants to rule indefinitely.”\n",
    "But even during a brutal tour of Russia’s penal system, Navalny maintained his composure – and his extraordinary sense of humor. In a post on Telegram in January, he joked about the ghastly music of the pro-war pop-star Shaman being blared over prison loudspeakers at the IK-3 penal colony in Kharp in the Yamal-Nenets region.\n",
    "“Imagine the picture: Yamalo-Nenets Autonomous Okrug,” he wrote. “Polar night. In the barracks for punishment in a special regime colony, A. Navalny, sentenced to 19 years in prison, whom Kremlin propaganda has been rinsing for years for participating in Russian protests, has to do exercises to the song ‘I am Russian,’ which is played for him as educational work for the purpose of correction.\n",
    "“To be honest, I’m still not sure that I correctly understand what post-irony and meta-irony are. But if this isn’t it, then what is it?”\n",
    "More touchingly, Navalny posted a photo of himself with his wife Yulia on Valentine’s Day, his last post on Telegram.\n",
    "“Baby, everything is like in a song with you: between us there are cities, the take-off lights of airfields, blue snowstorms and thousands of kilometers,” he wrote. “But I feel that you are near every second, and I love you more and more.”\n",
    "Navalny’s death comes as Putin, who has been in power since New Year’s Eve 1999, heads for a fifth term in office. The March presidential election will be an act of political theater: Boris Nadezhdin, the sole candidate opposed to Putin’s war on Ukraine, has been barred from running, and the vote will send a message to Russians and to the world: The Russian people are behind Putin, and behind the war on Ukraine. There is no room for giving air to Navalny on state media in the run-up to the election carnival.\n",
    "The opposition leader’s death also marks the end of an era for Russia. Navalny had emerged as the most prominent leader of the Russian opposition following the assassination of outspoken Putin critic Boris Nemtsov in 2015, in plain view of the Kremlin. That killing also shook Russian society profoundly, but it was a very different time. At the time of his murder, Nemtsov and his team were investigating the deployment of Russian troops to the Donbas region of eastern Ukraine, something the Russian government officially denied.\n",
    "Now that war is in the open, following the full-scale invasion of Ukraine in February 2022. And Russia has introduced draconian new laws that make it illegal to criticize the military. The massive anti-corruption protests that Navalny once managed to mobilize before the invasion now seem unlikely to reprise in Putin’s lifetime. The investigative articles and videos Navalny and his team once published online – reaching millions of Russians – face ever-more stifling digital censorship.\n",
    "The Kremlin’s response to the death of Navalny, then, will be telling. Putin famously refused to utter Navalny’s name, hinting at the deep unease about the legitimacy Navalny commanded as opposition leader.\n",
    "Asked in a 2017 press conference about why his government was afraid of competition from Navalny, Putin again refused to utter Navalny’s name, dancing around the matter by referring to “the figures you mentioned” and “those you named.” And he made it clear that he saw Russia’s democratic opposition as an existential threat. In his warped retelling, Putin said Navalny was the equivalent of former Georgian President Mikheil Saakashvili – or the equivalent of Ukrainians who rallied in Kyiv’s Maidan Square to oppose Ukraine’s pro-Russian president, who fled the country in early 2014.\n",
    "“About the figures you mentioned,” he said. “A question about Ukraine was already asked. Do you want dozens of people like Saakashvili running around here? Those you named are a Russian version of Saakashvilis. Do you want such Saakashvilis to destabilise your country? Do you want us to live from one Maidan to the next? To survive attempted coups? We have been through this already. Do you want all this to return?”\n",
    "Navalny’s response, again, showed his potent sense of humor. “To my collection of ‘words used not to say Navalny’ is added ‘those you named,’” he joked on Twitter.\n",
    "When police arrived it was determined the man had “multiple firearms” inside, with officers at the scene describing him as “dangerous” and “refusing to come out.”\n",
    "After about three hours gunfire erupted and two officers dropped.\n",
    "When Finseth tried to approach to rescue them, he was also gunned down.\n",
    "About an hour later another shot was heard from inside the house and it was learned the suspect had taken his own life, reports said.\n",
    "“We have a caller calling from inside saying the dad is down,” dispatchers said around 6:55 a.m., according to the Tribune.\n",
    "“He is not breathing. He is in the bedroom … He just shot himself in the head,” they said.\n",
    "The family was removed safely from the home shortly after, according to CBS.\n",
    "Throughout Sunday, hundreds of police officers stood a vigil outside Hennepin Healthcare in Minneapolis where the victims’ bodies were taken.\n",
    "“We must never take for granted the bravery and sacrifices our first responders make each and every day,” said Minnesota Gov. Tim Walz in a statement.\n",
    "“Today, the families of these public servants received the call they knew was possible but hoped would never come. My heart is with those grieving families — the State of Minnesota stands ready to support in any way we can. This is a tragic loss for our state.”\n",
    "The governor ordered flags flown at half mast Monday.\n",
    "Elmstrand had served with the Burnsville Police Department since 2017, Ruge since 2020, and Finseth had served with the city since 2019.\"\"\""
   ]
  },
  {
   "cell_type": "code",
   "execution_count": null,
   "id": "98c839e9",
   "metadata": {},
   "outputs": [],
   "source": [
    "textblob = TextBlob(text_test)\n",
    "sentence_list = textblob.sentences\n",
    "word_list = textblob.words\n",
    "print(len(sentence_list))\n",
    "print(len(word_list))"
   ]
  },
  {
   "cell_type": "code",
   "execution_count": null,
   "id": "8990465f",
   "metadata": {},
   "outputs": [],
   "source": []
  }
 ],
 "metadata": {
  "kernelspec": {
   "display_name": "Python 3 (ipykernel)",
   "language": "python",
   "name": "python3"
  },
  "language_info": {
   "codemirror_mode": {
    "name": "ipython",
    "version": 3
   },
   "file_extension": ".py",
   "mimetype": "text/x-python",
   "name": "python",
   "nbconvert_exporter": "python",
   "pygments_lexer": "ipython3",
   "version": "3.11.5"
  }
 },
 "nbformat": 4,
 "nbformat_minor": 5
}
