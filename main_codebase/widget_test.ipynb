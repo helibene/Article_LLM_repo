{
 "cells": [
  {
   "cell_type": "code",
   "execution_count": 1,
   "id": "0af9dc89",
   "metadata": {},
   "outputs": [
    {
     "name": "stdout",
     "output_type": "stream",
     "text": [
      "imported 'utils_art'\n"
     ]
    }
   ],
   "source": [
    "import main_var\n",
    "env = \"arc/\"\n",
    "mv = main_var.main_var(env=env)\n",
    "\n",
    "from visualization_module_lib import *\n",
    "from utils_art import *"
   ]
  },
  {
   "cell_type": "code",
   "execution_count": 3,
   "id": "62af8ac1",
   "metadata": {},
   "outputs": [
    {
     "name": "stdout",
     "output_type": "stream",
     "text": [
      "1\n"
     ]
    },
    {
     "ename": "TypeError",
     "evalue": "unsupported operand type(s) for +: 'NoneType' and 'str'",
     "output_type": "error",
     "traceback": [
      "\u001b[1;31m---------------------------------------------------------------------------\u001b[0m",
      "\u001b[1;31mTypeError\u001b[0m                                 Traceback (most recent call last)",
      "Cell \u001b[1;32mIn[3], line 9\u001b[0m\n\u001b[0;32m      7\u001b[0m _2dList_out, _3dList_out \u001b[38;5;241m=\u001b[39m getRenderLists()\n\u001b[0;32m      8\u001b[0m \u001b[38;5;28;01mfor\u001b[39;00m i \u001b[38;5;129;01min\u001b[39;00m \u001b[38;5;28mrange\u001b[39m(\u001b[38;5;28mlen\u001b[39m(out_list)):\n\u001b[1;32m----> 9\u001b[0m     plt_2dList \u001b[38;5;241m=\u001b[39m renderAllOptions(out_list[i],\u001b[38;5;28;01mTrue\u001b[39;00m,_2dList_out,out_list_label[i])\n\u001b[0;32m     10\u001b[0m     plt_3dList \u001b[38;5;241m=\u001b[39m renderAllOptions(out_list[i],\u001b[38;5;28;01mFalse\u001b[39;00m,_3dList_out,out_list_label[i])\n",
      "File \u001b[1;32m~\\OneDrive\\Desktop\\Article_LLM\\main_codebase\\visualization_module_lib.py:140\u001b[0m, in \u001b[0;36mrenderAllOptions\u001b[1;34m(df, BD, confList, label)\u001b[0m\n\u001b[0;32m    138\u001b[0m main_conf \u001b[38;5;241m=\u001b[39m createdefconfdict()\u001b[38;5;241m|\u001b[39mconf\n\u001b[0;32m    139\u001b[0m \u001b[38;5;28;01mif\u001b[39;00m label \u001b[38;5;241m!=\u001b[39m \u001b[38;5;124m\"\u001b[39m\u001b[38;5;124m\"\u001b[39m :\n\u001b[1;32m--> 140\u001b[0m     main_conf[\u001b[38;5;124m'\u001b[39m\u001b[38;5;124mtitle\u001b[39m\u001b[38;5;124m'\u001b[39m] \u001b[38;5;241m=\u001b[39m main_conf[\u001b[38;5;124m'\u001b[39m\u001b[38;5;124mtitle\u001b[39m\u001b[38;5;124m'\u001b[39m] \u001b[38;5;241m+\u001b[39m \u001b[38;5;124m\"\u001b[39m\u001b[38;5;124m  -  \u001b[39m\u001b[38;5;124m\"\u001b[39m \u001b[38;5;241m+\u001b[39m label\n\u001b[0;32m    141\u001b[0m \u001b[38;5;28;01mif\u001b[39;00m (BD) :\n\u001b[0;32m    142\u001b[0m     plt \u001b[38;5;241m=\u001b[39m plot2D(df,main_conf)\n",
      "\u001b[1;31mTypeError\u001b[0m: unsupported operand type(s) for +: 'NoneType' and 'str'"
     ]
    }
   ],
   "source": [
    "df_main = openDFcsv(mv.join2_path,mv.join2_filename)\n",
    "mat_emb = openDFcsv(mv.embdedding_path_raw,mv.embdedding_filename_raw)\n",
    "mat_emb.drop([\"hash_key\"], axis=1,inplace=True)\n",
    "# linegraph(df_main)\n",
    "out_list, out_list_label = generateDirRed(mat_emb, df_main,3, norm_output=True, active_sel=[True,False,False,False])\n",
    "print(len(out_list))\n",
    "_2dList_out, _3dList_out = getRenderLists()\n",
    "for i in range(len(out_list)):\n",
    "    plt_2dList = renderAllOptions(out_list[i],True,_2dList_out,out_list_label[i])\n",
    "    plt_3dList = renderAllOptions(out_list[i],False,_3dList_out,out_list_label[i])"
   ]
  },
  {
   "cell_type": "code",
   "execution_count": null,
   "id": "0876f968",
   "metadata": {},
   "outputs": [],
   "source": []
  },
  {
   "cell_type": "code",
   "execution_count": null,
   "id": "a27f77bb",
   "metadata": {},
   "outputs": [],
   "source": []
  },
  {
   "cell_type": "code",
   "execution_count": null,
   "id": "e2f57517",
   "metadata": {},
   "outputs": [],
   "source": [
    "import article_scraping_lib\n",
    "from article_scraping_lib import *\n",
    "from article_parsing_lib import *"
   ]
  },
  {
   "cell_type": "code",
   "execution_count": null,
   "id": "57cd9afc",
   "metadata": {},
   "outputs": [],
   "source": [
    "article_scraping_lib.env = \"test\""
   ]
  },
  {
   "cell_type": "code",
   "execution_count": null,
   "id": "1b379d87",
   "metadata": {},
   "outputs": [],
   "source": [
    "print(article_scraping_lib.path_parse_stat)"
   ]
  },
  {
   "cell_type": "code",
   "execution_count": null,
   "id": "4f4d9953",
   "metadata": {},
   "outputs": [],
   "source": []
  },
  {
   "cell_type": "code",
   "execution_count": null,
   "id": "c8cf7b35",
   "metadata": {},
   "outputs": [],
   "source": []
  },
  {
   "cell_type": "code",
   "execution_count": null,
   "id": "0591a045",
   "metadata": {},
   "outputs": [],
   "source": []
  },
  {
   "cell_type": "code",
   "execution_count": null,
   "id": "7272039a",
   "metadata": {},
   "outputs": [],
   "source": []
  },
  {
   "cell_type": "code",
   "execution_count": null,
   "id": "f4a8de6b",
   "metadata": {},
   "outputs": [],
   "source": []
  },
  {
   "cell_type": "code",
   "execution_count": null,
   "id": "dddddd37",
   "metadata": {},
   "outputs": [],
   "source": []
  },
  {
   "cell_type": "code",
   "execution_count": null,
   "id": "337b1628",
   "metadata": {},
   "outputs": [],
   "source": [
    "\n"
   ]
  },
  {
   "cell_type": "code",
   "execution_count": null,
   "id": "d1a200b3",
   "metadata": {},
   "outputs": [],
   "source": [
    "widgets.IntSlider()"
   ]
  },
  {
   "cell_type": "code",
   "execution_count": null,
   "id": "b950fbe8",
   "metadata": {},
   "outputs": [],
   "source": [
    "from IPython.display import display\n",
    "w = widgets.IntSlider()\n",
    "display(w)"
   ]
  },
  {
   "cell_type": "code",
   "execution_count": null,
   "id": "f5c5bc03",
   "metadata": {},
   "outputs": [],
   "source": [
    "display(w)"
   ]
  },
  {
   "cell_type": "code",
   "execution_count": null,
   "id": "cd468248",
   "metadata": {},
   "outputs": [],
   "source": [
    "widgets.Text(value='Hello World!', disabled=True)"
   ]
  },
  {
   "cell_type": "code",
   "execution_count": null,
   "id": "59f95d19",
   "metadata": {},
   "outputs": [],
   "source": [
    "test = widgets.IntSlider(\n",
    "    value=7,\n",
    "    min=0,\n",
    "    max=10,\n",
    "    step=1,\n",
    "    description='Test:',\n",
    "    disabled=False,\n",
    "    continuous_update=False,\n",
    "    orientation='horizontal',\n",
    "    readout=True,\n",
    "    readout_format='d'\n",
    ")"
   ]
  },
  {
   "cell_type": "code",
   "execution_count": null,
   "id": "5f198b30",
   "metadata": {},
   "outputs": [],
   "source": [
    "display(test)"
   ]
  },
  {
   "cell_type": "code",
   "execution_count": null,
   "id": "adef325f",
   "metadata": {},
   "outputs": [],
   "source": [
    "test2 = widgets.Dropdown(\n",
    "    options=[('One', 1), ('Two', 2), ('Three', 3)],\n",
    "    value=2,\n",
    "    description='Number:',\n",
    ")"
   ]
  },
  {
   "cell_type": "code",
   "execution_count": null,
   "id": "d7e6faf0",
   "metadata": {},
   "outputs": [],
   "source": [
    "display(test2)"
   ]
  },
  {
   "cell_type": "code",
   "execution_count": null,
   "id": "3c58a9cf",
   "metadata": {},
   "outputs": [],
   "source": [
    "from ipywidgets import IntSlider\n",
    "from ipywidgets.embed import embed_minimal_html\n",
    "\n",
    "slider = IntSlider(value=40)\n",
    "embed_minimal_html('export.html', views=[slider], title='Widgets export')"
   ]
  },
  {
   "cell_type": "code",
   "execution_count": null,
   "id": "ae49b8ae",
   "metadata": {},
   "outputs": [],
   "source": [
    "import json\n",
    "\n",
    "from ipywidgets import IntSlider\n",
    "from ipywidgets.embed import embed_data\n",
    "\n",
    "s1 = IntSlider(max=200, value=100)\n",
    "s2 = IntSlider(value=40)\n",
    "data = embed_data(views=[s1, s2])\n",
    "\n",
    "html_template = \"\"\"\n",
    "<html>\n",
    "  <head>\n",
    "\n",
    "    <title>Widget export</title>\n",
    "\n",
    "    <!-- Load RequireJS, used by the IPywidgets for dependency management -->\n",
    "    <script\n",
    "      src=\"https://cdnjs.cloudflare.com/ajax/libs/require.js/2.3.4/require.min.js\"\n",
    "      integrity=\"sha256-Ae2Vz/4ePdIu6ZyI/5ZGsYnb+m0JlOmKPjt6XZ9JJkA=\"\n",
    "      crossorigin=\"anonymous\">\n",
    "    </script>\n",
    "\n",
    "    <!-- Load IPywidgets bundle for embedding. -->\n",
    "    <script\n",
    "      data-jupyter-widgets-cdn=\"https://unpkg.com/\"\n",
    "      data-jupyter-widgets-cdn-only\n",
    "      src=\"https://cdn.jsdelivr.net/npm/@jupyter-widgets/html-manager@*/dist/embed-amd.js\"\n",
    "      crossorigin=\"anonymous\">\n",
    "    </script>\n",
    "\n",
    "    <!-- The state of all the widget models on the page -->\n",
    "    <script type=\"application/vnd.jupyter.widget-state+json\">\n",
    "      {manager_state}\n",
    "    </script>\n",
    "  </head>\n",
    "\n",
    "  <body>\n",
    "\n",
    "    <h1>Widget export</h1>\n",
    "\n",
    "    <div id=\"first-slider-widget\">\n",
    "      <!-- This script tag will be replaced by the view's DOM tree -->\n",
    "      <script type=\"application/vnd.jupyter.widget-view+json\">\n",
    "        {widget_views[0]}\n",
    "      </script>\n",
    "    </div>\n",
    "\n",
    "    <hrule />\n",
    "\n",
    "    <div id=\"second-slider-widget\">\n",
    "      <!-- This script tag will be replaced by the view's DOM tree -->\n",
    "      <script type=\"application/vnd.jupyter.widget-view+json\">\n",
    "        {widget_views[1]}\n",
    "      </script>\n",
    "    </div>\n",
    "\n",
    "  </body>\n",
    "</html>\n",
    "\"\"\"\n",
    "\n",
    "manager_state = json.dumps(data['manager_state'])\n",
    "widget_views = [json.dumps(view) for view in data['view_specs']]\n",
    "rendered_template = html_template.format(manager_state=manager_state, widget_views=widget_views)\n",
    "with open('export.html', 'w') as fp:\n",
    "    fp.write(rendered_template)"
   ]
  },
  {
   "cell_type": "code",
   "execution_count": null,
   "id": "eb971dc8",
   "metadata": {},
   "outputs": [],
   "source": [
    "from ipywidgets.embed import embed_minimal_html, dependency_state\n",
    "\n",
    "s1 = IntSlider(max=200, value=100)\n",
    "s2 = IntSlider(value=40)\n",
    "embed_minimal_html('export.html', views=[s1, s2], state=dependency_state([s1, s2]))"
   ]
  },
  {
   "cell_type": "code",
   "execution_count": null,
   "id": "3da06f7b",
   "metadata": {},
   "outputs": [],
   "source": [
    "import plotly.io as pio\n",
    "pio.renderers"
   ]
  },
  {
   "cell_type": "code",
   "execution_count": null,
   "id": "4e6bcbf7",
   "metadata": {},
   "outputs": [],
   "source": [
    "from dash import Dash, dcc, html, Input, Output\n",
    "import plotly.graph_objects as go\n",
    "import numpy as np\n",
    "import ipywidgets as widgets\n",
    "\n",
    "app = Dash(__name__)\n",
    "\n",
    "app.layout = html.Div([\n",
    "    html.H4('Interactive plot with custom data source'),\n",
    "    dcc.Graph(id=\"graph\"),\n",
    "    html.P(\"Number of bars:\"),\n",
    "    dcc.Slider(id=\"slider\", min=2, max=10, value=4, step=1),\n",
    "])\n",
    "\n",
    "\n",
    "@app.callback(\n",
    "    Output(\"graph\", \"figure\"), \n",
    "    Input(\"slider\", \"value\"))\n",
    "def update_bar_chart(size):\n",
    "    data = np.random.normal(3, 2, size=size) # replace with your own data source\n",
    "    fig = go.Figure(\n",
    "        data=[go.Bar(y=data)],\n",
    "        layout_title_text=\"Native Plotly rendering in Dash\"\n",
    "    )\n",
    "    return fig\n",
    "\n",
    "app.run_server(debug=True)\n",
    "widgets.IntSlider()"
   ]
  },
  {
   "cell_type": "code",
   "execution_count": null,
   "id": "46d43e46",
   "metadata": {},
   "outputs": [],
   "source": [
    "from dash import Dash, html, dcc\n",
    "\n",
    "app = Dash(__name__)\n",
    "\n",
    "app.layout = html.Div([\n",
    "    html.Div(children=[\n",
    "        html.Label('Dropdown'),\n",
    "        dcc.Dropdown(['New York City', 'Montréal', 'San Francisco'], 'Montréal'),\n",
    "\n",
    "        html.Br(),\n",
    "        html.Label('Multi-Select Dropdown'),\n",
    "        dcc.Dropdown(['New York City', 'Montréal', 'San Francisco'],\n",
    "                     ['Montréal', 'San Francisco'],\n",
    "                     multi=True),\n",
    "\n",
    "        html.Br(),\n",
    "        html.Label('Radio Items'),\n",
    "        dcc.RadioItems(['New York City', 'Montréal', 'San Francisco'], 'Montréal'),\n",
    "    ], style={'padding': 10, 'flex': 1}),\n",
    "\n",
    "    html.Div(children=[\n",
    "        html.Label('Checkboxes'),\n",
    "        dcc.Checklist(['New York City', 'Montréal', 'San Francisco'],\n",
    "                      ['Montréal', 'San Francisco']\n",
    "        ),\n",
    "\n",
    "        html.Br(),\n",
    "        html.Label('Text Input'),\n",
    "        dcc.Input(value='MTL', type='text'),\n",
    "\n",
    "        html.Br(),\n",
    "        html.Label('Slider'),\n",
    "        dcc.Slider(\n",
    "            min=0,\n",
    "            max=9,\n",
    "            marks={i: f'Label {i}' if i == 1 else str(i) for i in range(1, 6)},\n",
    "            value=5,\n",
    "        ),\n",
    "    ], style={'padding': 10, 'flex': 1})\n",
    "], style={'display': 'flex', 'flexDirection': 'row'})\n",
    "\n",
    "if __name__ == '__main__':\n",
    "    app.run(debug=True)"
   ]
  },
  {
   "cell_type": "code",
   "execution_count": null,
   "id": "166e29b2",
   "metadata": {},
   "outputs": [],
   "source": []
  }
 ],
 "metadata": {
  "kernelspec": {
   "display_name": "Python 3 (ipykernel)",
   "language": "python",
   "name": "python3"
  },
  "language_info": {
   "codemirror_mode": {
    "name": "ipython",
    "version": 3
   },
   "file_extension": ".py",
   "mimetype": "text/x-python",
   "name": "python",
   "nbconvert_exporter": "python",
   "pygments_lexer": "ipython3",
   "version": "3.11.5"
  }
 },
 "nbformat": 4,
 "nbformat_minor": 5
}
