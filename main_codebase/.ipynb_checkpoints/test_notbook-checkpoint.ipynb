{
 "cells": [
  {
   "cell_type": "code",
   "execution_count": null,
   "id": "935ce3b8",
   "metadata": {},
   "outputs": [],
   "source": [
    "from article_scraping_lib import *\n",
    "from utils_art import *\n",
    "import article_scraping_lib\n",
    "import pandas as pd"
   ]
  },
  {
   "cell_type": "code",
   "execution_count": null,
   "id": "415aa9e0",
   "metadata": {
    "scrolled": true
   },
   "outputs": [],
   "source": [
    "df = getStandardDf(article_scraping_lib._STANDARD_SCRAPPING_FIELDS)\n",
    "df2, test = fullWorkflow(gn,df,True)\n",
    "display(df2)\n",
    "print(test)\n",
    "print(df2.dtypes)"
   ]
  },
  {
   "cell_type": "code",
   "execution_count": null,
   "id": "d0534226",
   "metadata": {},
   "outputs": [],
   "source": [
    "from textblob import TextBlob\n",
    "test_text = \"This IS expected if you are initializing RobertaForSequenceClassification from the checkpoint of a model trained on another task or with another architecture (initializing a BertForSequenceClassification model from a BertForPreTraining model). This IS NOT expected if you are initializing RobertaForSequenceClassification from the checkpoint of a model that you expect to be exactly identical (initializing a BertForSequenceClassification model from a BertForSequenceClassification model).\"\n",
    "textblob = TextBlob(test_text)\n",
    "sentences_list = textblob.sentences\n",
    "print(len(sentences_list))\n",
    "print(sentences_list)\n",
    "print(len(sentences_list[0].words))\n"
   ]
  },
  {
   "cell_type": "code",
   "execution_count": null,
   "id": "b1cd63c1",
   "metadata": {},
   "outputs": [],
   "source": [
    "Members = {\"John\": \"Male\", \"Kat\": \"Female\", \"Doe\": \"Female\",\"Clinton\": \"Male\"}\n",
    "\n",
    "del Members[\"lol\"]\n",
    "print(Members)"
   ]
  },
  {
   "cell_type": "code",
   "execution_count": null,
   "id": "24230340",
   "metadata": {},
   "outputs": [],
   "source": []
  }
 ],
 "metadata": {
  "kernelspec": {
   "display_name": "Python 3 (ipykernel)",
   "language": "python",
   "name": "python3"
  },
  "language_info": {
   "codemirror_mode": {
    "name": "ipython",
    "version": 3
   },
   "file_extension": ".py",
   "mimetype": "text/x-python",
   "name": "python",
   "nbconvert_exporter": "python",
   "pygments_lexer": "ipython3",
   "version": "3.11.5"
  }
 },
 "nbformat": 4,
 "nbformat_minor": 5
}
