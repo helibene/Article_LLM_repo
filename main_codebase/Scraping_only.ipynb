{
 "cells": [
  {
   "cell_type": "code",
   "execution_count": null,
   "id": "eb425d04",
   "metadata": {},
   "outputs": [],
   "source": [
    "import main_var\n",
    "mv = main_var.main_var()\n",
    "\n",
    "from article_scraping_lib import *\n",
    "from article_parsing_lib import *\n",
    "from openai_module_lib import *\n",
    "from embedding_keyword_module_lib import *\n",
    "from visualization_module_lib import *\n",
    "from dimension_reduc_lib import *\n",
    "from aggregation_module_lib import *\n",
    "from utils_art import *\n",
    "\n",
    "_ENTRY_NUMBER = 1000000\n",
    "_STEP_PCT = 0.0005"
   ]
  },
  {
   "cell_type": "code",
   "execution_count": null,
   "id": "e0569f11",
   "metadata": {
    "scrolled": true
   },
   "outputs": [],
   "source": [
    "# df_scrap = openDFcsv(mv.scarp_path,mv.scarp_filename) #26860 # 37796 #26872\n",
    "df_scrap = readArticleFileTable(index_from=0,\n",
    "                          index_to=_ENTRY_NUMBER,\n",
    "                          save_articles=True,\n",
    "                          save_final=True,\n",
    "                          save_steps=True,\n",
    "                          display_df=True,\n",
    "                          step_pct=_STEP_PCT,\n",
    "                          add_nlp=2,\n",
    "                          filtered_input_df=True)"
   ]
  },
  {
   "cell_type": "code",
   "execution_count": null,
   "id": "d6310fd7",
   "metadata": {},
   "outputs": [],
   "source": []
  },
  {
   "cell_type": "code",
   "execution_count": null,
   "id": "50bfaf79",
   "metadata": {},
   "outputs": [],
   "source": []
  }
 ],
 "metadata": {
  "kernelspec": {
   "display_name": "Python 3 (ipykernel)",
   "language": "python",
   "name": "python3"
  },
  "language_info": {
   "codemirror_mode": {
    "name": "ipython",
    "version": 3
   },
   "file_extension": ".py",
   "mimetype": "text/x-python",
   "name": "python",
   "nbconvert_exporter": "python",
   "pygments_lexer": "ipython3",
   "version": "3.11.5"
  }
 },
 "nbformat": 4,
 "nbformat_minor": 5
}
