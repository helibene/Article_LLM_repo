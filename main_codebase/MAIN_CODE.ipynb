{
 "cells": [
  {
   "cell_type": "markdown",
   "id": "e4bc96e3",
   "metadata": {},
   "source": [
    "### Imports"
   ]
  },
  {
   "cell_type": "code",
   "execution_count": null,
   "id": "970b5d5c",
   "metadata": {},
   "outputs": [],
   "source": [
    "import main_var\n",
    "mv = main_var.main_var()\n",
    "\n",
    "from scrap_lib import *\n",
    "from pars_lib import *\n",
    "from openai_module_lib import *\n",
    "from embedding_keyword_module_lib import *\n",
    "from visualization_module_lib import *\n",
    "from dimension_reduc_lib import *\n",
    "from agg_lib import *\n",
    "from utils_art import *"
   ]
  },
  {
   "cell_type": "code",
   "execution_count": 1,
   "id": "049d7546",
   "metadata": {},
   "outputs": [],
   "source": [
    "_ENTRY_NUMBER = 300\n",
    "_STEP_PCT = 0.3"
   ]
  },
  {
   "cell_type": "markdown",
   "id": "8fdf7c17",
   "metadata": {},
   "source": [
    "# Querring, Scraping and saving articles\n",
    "### Querring of articles `(1_1_query)`"
   ]
  },
  {
   "cell_type": "code",
   "execution_count": null,
   "id": "1c6ff60d",
   "metadata": {},
   "outputs": [],
   "source": [
    "from scrap_lib import *\n",
    "# df_query = openDFcsv(mv.query_path,mv.query_filename)\n",
    "df_query = loop_scraping(number_topics=2,\n",
    "                   startDate='2000-01-01',\n",
    "                   endDate='2004-12-31',\n",
    "                   sampling_1=1,\n",
    "                   sampling_2=1,\n",
    "                   save_steps=True,\n",
    "                   save_final=True,\n",
    "                   display=True)"
   ]
  },
  {
   "cell_type": "markdown",
   "id": "35572c10",
   "metadata": {},
   "source": [
    "##### Display Statistics"
   ]
  },
  {
   "cell_type": "code",
   "execution_count": null,
   "id": "e6bce882",
   "metadata": {
    "scrolled": true
   },
   "outputs": [],
   "source": [
    "plotDFstatisticsQuerry(df_query,100,False)\n",
    "displayStats(df_query)"
   ]
  },
  {
   "cell_type": "markdown",
   "id": "311179fc",
   "metadata": {},
   "source": [
    "##### Filter articles with a source that is too/not enought scrapped and source/category/date"
   ]
  },
  {
   "cell_type": "code",
   "execution_count": null,
   "id": "f3499a7c",
   "metadata": {},
   "outputs": [],
   "source": [
    "# df = openDFcsv(mv.query_path,mv.query_filename)\n",
    "categroy_l = [\"WORLD\",\"NATION\",\"BUSINESS\",\"TECHNOLOGY\"]\n",
    "source_l = [\"Newsweek\",\"Yahoo Finance\",\"ESPN\",\"Fox News\",\"World Health Organization (WHO)\",\"Pew Research Center\",\"The New York Times\",\"Nature.com\",\"Tax Foundation\",\"Union of Concerned Scientists\"]\n",
    "\n",
    "df_query_filter = filterQuerryDataset(thd_high=200,thd_low=50,display_stats=True,display_end_stats=True,save=True)\n",
    "plotDFstatisticsQuerry(df_query_filter,50,True)\n",
    "displayStats(df_query_filter)\n",
    "\n",
    "##df_query_filter = selectOnDf(df_query_filter,date_start=\"2010-01-01\", date_end=\"2024-01-01\", categroy_list=categroy_l, source_list=source_l)\n",
    "# plotDFstatisticsQuerry(df_query_filter)\n",
    "# displayStats(df_query_filter)\n",
    "##saveDFcsv(df_query_filter,mv.query_path,\"query_file_filtered\")"
   ]
  },
  {
   "cell_type": "markdown",
   "id": "ea35c437",
   "metadata": {},
   "source": [
    "### Scrap articles from the web based on the query file `(1_2_scarp & 1_3_article)`"
   ]
  },
  {
   "cell_type": "code",
   "execution_count": null,
   "id": "1ce570e4",
   "metadata": {},
   "outputs": [],
   "source": [
    "from pars_lib import *\n",
    "# df_scrap = openDFcsv(mv.scarp_path,mv.scarp_filename) ##(1) 20995  (2) 26860  (3) 18283  (sum all valid 59905) last hash 69843\n",
    "df_scrap = readArticleFileTable(index_from=0,# 25088  133454\n",
    "                          index_to=_ENTRY_NUMBER,\n",
    "                          save_articles=True,\n",
    "                          save_final=True,\n",
    "                          save_steps=True,\n",
    "                          display_data=True,\n",
    "                          step_pct=_STEP_PCT,\n",
    "                          add_nlp=2,\n",
    "                          filtered_input_df=True)"
   ]
  },
  {
   "cell_type": "markdown",
   "id": "1d38814a",
   "metadata": {},
   "source": [
    "### Join the two results `(1_4_join)`"
   ]
  },
  {
   "cell_type": "code",
   "execution_count": null,
   "id": "930f8309",
   "metadata": {
    "scrolled": true
   },
   "outputs": [],
   "source": [
    "from agg_lib import *\n",
    "# df_join1 = openDFcsv(mv.join1_path,mv.join1_filename)\n",
    "df_join1 = joinQuerryAndParse(save=True,\n",
    "                        remove_invalid=True,\n",
    "                        display=True,\n",
    "                        filtered_input_df=True,\n",
    "                        union_df=None)"
   ]
  },
  {
   "cell_type": "markdown",
   "id": "9885b297",
   "metadata": {},
   "source": [
    "# Generation of Embedding and Keyword data\n",
    "### Embedding with OpenAI API `(2_1_embdedding)`"
   ]
  },
  {
   "cell_type": "code",
   "execution_count": null,
   "id": "9359d500",
   "metadata": {},
   "outputs": [],
   "source": [
    "from openai_module_lib import *\n",
    "# df_embdedding = openDFcsv(mv.embdedding_path,mv.embdedding_filename)\n",
    "df_embdedding = mainGeneration(input_data=\"art\",\n",
    "                     algo_type=\"emb\",\n",
    "                     dimension=100,\n",
    "                     max_prompt=_ENTRY_NUMBER,\n",
    "                     token_max_emb=7500,\n",
    "                     cara_max_emb=10000,\n",
    "                     save_final=True,\n",
    "                     save_steps=True,          \n",
    "                     display_df_var=True,\n",
    "                     display_steps=True,\n",
    "                     step_pct=_STEP_PCT)"
   ]
  },
  {
   "cell_type": "markdown",
   "id": "c8c7a058",
   "metadata": {},
   "source": [
    "##### Extract embedding from file `(2_1_embdedding_raw)`"
   ]
  },
  {
   "cell_type": "code",
   "execution_count": null,
   "id": "b73e0f01",
   "metadata": {},
   "outputs": [],
   "source": [
    "from embedding_keyword_module_lib import *\n",
    "emb_mat = extractEmbeddingFromFile(_ENTRY_NUMBER,True)"
   ]
  },
  {
   "cell_type": "markdown",
   "id": "de2b2aff",
   "metadata": {},
   "source": [
    "##### Use dime,tion reduction on emneded data"
   ]
  },
  {
   "cell_type": "code",
   "execution_count": null,
   "id": "fc1ae0cc",
   "metadata": {},
   "outputs": [],
   "source": [
    "from dimension_reduc_lib import *\n",
    "df_embdedding2 = generateDimReducedDF(n_components=3,\n",
    "                                          norm_output=True,\n",
    "                                      active_sel=[False,True,True,True])"
   ]
  },
  {
   "cell_type": "markdown",
   "id": "f8c4f5bf",
   "metadata": {},
   "source": [
    "### Keyword extraction and NLP analysis `(2_2_keyword)`"
   ]
  },
  {
   "cell_type": "code",
   "execution_count": null,
   "id": "f60ef3b8",
   "metadata": {},
   "outputs": [],
   "source": [
    "from embedding_keyword_module_lib import *\n",
    "# df = openDFcsv(mv.keyword_path,mv.keyword_filename)\n",
    "df_keyword = mainKeywordWF(entry_limit=_ENTRY_NUMBER,\n",
    "              common_word_max=3000,\n",
    "              add_nlp_stats=True,\n",
    "              nlp_source_col=\"word_combined_all\")"
   ]
  },
  {
   "cell_type": "code",
   "execution_count": null,
   "id": "6fdfc3f9",
   "metadata": {},
   "outputs": [],
   "source": []
  },
  {
   "cell_type": "markdown",
   "id": "38528914",
   "metadata": {},
   "source": [
    "# Final join and visualization\n",
    "### Joining Quering/Scraping/Embedding/Keywords `(3_1_join)`"
   ]
  },
  {
   "cell_type": "code",
   "execution_count": null,
   "id": "364bb6ca",
   "metadata": {},
   "outputs": [],
   "source": [
    "from agg_lib import *\n",
    "# df_join2 = openDFcsv(mv.join2_path,mv.join2_filename)\n",
    "joinAllDF(save=True,\n",
    "         union_df=None)"
   ]
  },
  {
   "cell_type": "markdown",
   "id": "9b82894f",
   "metadata": {},
   "source": [
    "### Visualisation `(3_2_visu)`"
   ]
  },
  {
   "cell_type": "code",
   "execution_count": null,
   "id": "9d2f9116",
   "metadata": {},
   "outputs": [],
   "source": [
    "df_main = openDFcsv(mv.join2_path,mv.join2_filename)\n",
    "calculateStatsNLP(df_main)\n",
    "# out_list, out_list_label = selectAlgoDfList(df_main,3, norm_output=True, active_sel=[True,False,False,False])\n",
    "# _2dList_out, _3dList_out = getRenderLists()\n",
    "# for i in range(len(out_list)):\n",
    "#     plt_2dList = renderAllOptions(out_list[i],True,_2dList_out,out_list_label[i])\n",
    "#     savePlotList(plt_2dList,mv.visu_path,\"2D_\"+out_list_label[i])\n",
    "#     plt_3dList = renderAllOptions(out_list[i],False,_3dList_out,out_list_label[i])\n",
    "#     savePlotList(plt_3dList,mv.visu_path,\"3D_\"+out_list_label[i])"
   ]
  },
  {
   "cell_type": "code",
   "execution_count": null,
   "id": "9f53de49",
   "metadata": {},
   "outputs": [],
   "source": []
  },
  {
   "cell_type": "code",
   "execution_count": null,
   "id": "61741c29",
   "metadata": {},
   "outputs": [],
   "source": [
    "# df_join1 = openDFcsv(mv.join1_path,mv.join1_filename)\n",
    "# df_embdedding = openDFcsv(mv.embdedding_path,mv.embdedding_filename)\n",
    "# df = openDFcsv(mv.keyword_path,mv.keyword_filename)\n",
    "\n",
    "# df = openDFcsv(mv.join2_path,mv.join2_filename)\n",
    "#df_gen = generateDimReducedDF(3,True,[True,True,True,True])\n"
   ]
  },
  {
   "cell_type": "code",
   "execution_count": null,
   "id": "937ac442",
   "metadata": {},
   "outputs": [],
   "source": []
  },
  {
   "cell_type": "code",
   "execution_count": null,
   "id": "7b84184c",
   "metadata": {},
   "outputs": [],
   "source": []
  },
  {
   "cell_type": "code",
   "execution_count": null,
   "id": "28242dab",
   "metadata": {},
   "outputs": [],
   "source": []
  },
  {
   "cell_type": "code",
   "execution_count": null,
   "id": "4adeebe1",
   "metadata": {},
   "outputs": [],
   "source": []
  },
  {
   "cell_type": "code",
   "execution_count": null,
   "id": "711e2bbf",
   "metadata": {},
   "outputs": [],
   "source": []
  },
  {
   "cell_type": "code",
   "execution_count": null,
   "id": "45181ac8",
   "metadata": {},
   "outputs": [],
   "source": []
  },
  {
   "cell_type": "code",
   "execution_count": null,
   "id": "d7d8e445",
   "metadata": {},
   "outputs": [],
   "source": []
  },
  {
   "cell_type": "code",
   "execution_count": null,
   "id": "1b6b7d92",
   "metadata": {},
   "outputs": [],
   "source": []
  },
  {
   "cell_type": "code",
   "execution_count": null,
   "id": "c3dc2f90",
   "metadata": {},
   "outputs": [],
   "source": []
  },
  {
   "cell_type": "code",
   "execution_count": null,
   "id": "17489d9c",
   "metadata": {},
   "outputs": [],
   "source": []
  },
  {
   "cell_type": "code",
   "execution_count": null,
   "id": "7881ef59",
   "metadata": {},
   "outputs": [],
   "source": [
    "# df = openDFcsv(mv.join2_path,mv.join2_filename)\n",
    "# val1 = len(list(df.keys()))\n",
    "# print(val1)\n",
    "# rename_dict = {\"hash_key\":\"Primary Key\", \"title_quer\":\"Main Title\",\"link\":\"Google Link\",\"published\":\"Date Publication\",\"source_url\":\"Real Link\",\"source_title\":\"Name of the source\",\"category\":\"Main Category\",\"year\":\"Year\",\"year_month\":\"Year & Month\", \"url_TLD\":\"url_extention\",\"keywords_list\":\"List Of Keywords\",\"tb.sent\":\"Number of sentences\",\"tb.noun\":\"Number of Nouns\",\"tb.word\":\"Number of Words\",\"tb.char\":\"Number of Character\",\"tb.pol\":\"Polarity\",\"tb.sub\":\"Subjectivity\",\"tb.polaj\":\"Polatity beetween 1-0\",\"tb.pos\":\"Positivity_1\",\"tb.neg\":\"Negativity_1\",\"vs.pos\":\"Positivity_2\",\"vs.neg\":\"Negativity_2\",\"ts.pos\":\"Positivity_3\",\"ts.neg\":\"Negativity_3\",\"al.pos\":\"Positivity_all\",\"al.neg\":\"Negativity_all\"}\n",
    "# val2 = len(list(rename_dict.keys()))\n",
    "# print(val2)\n",
    "# # print(len(list(rename_dict.keys())))\n",
    "# # print(len(list(rename_dict.values())))\n",
    "# df = openDFcsv(mv.join2_path,mv.join2_filename)\n",
    "# df.rename(columns=rename_dict, inplace=True)\n",
    "# val3 = len(list(df.keys()))\n",
    "# print(val3)\n",
    "\n",
    "# col_list = [\"category\",\"source_title\",\"year_month\",\"url_TLD\",\"year\"]\n",
    "# df_list_len = calculateStatsColList(df,col_list,\"len\",display_df=True)\n",
    "# df_list_npl = calculateStatsColList(df,col_list,\"nlp\",display_df=True,display_stats=False) \n",
    "\n",
    "# # df = openDFcsv(mv.join1_path,mv.join1_filename)\n",
    "# # genrateKeywordExtract(df, 9641,500,\"keywords_list\")\n",
    "# #df = mainKhttp://localhost:8888/notebooks/OneDrive/Desktop/Article_LLM/main_codebase/MAIN_CODE.ipynb#eywordWF(9641,1000)\n",
    "\n",
    "# # df = openDFcsv(mv.query_path,mv.query_filename)\n",
    "# # df3 = selectOnDf(df2,\"\",\"\")\n",
    "# # plotDFstatisticsQuerry(df,70)\n",
    "# # displayStats(df)\n",
    "# # saveDFcsv(df3,mv.query_path,mv.query_filename)\n",
    "\n",
    "\n",
    "\n",
    "# # df = loop_scraping(9,'1999-03-27','2024-03-19',sampling_1=5,sampling_2=5,save_steps=True,save_final=True,display=True)\n",
    "# # plotDFstatisticsQuerry(df,70)\n",
    "# # displayStats(df)\n",
    "\n",
    "# # df = openDFcsv(mv.query_path,mv.query_filename)\n",
    "# # df2 =  filterQuerryDataset(df,150,10,True,True,True)\n",
    "# # plotDFstatisticsQuerry(df2,70,True)\n",
    "# # displayStats(df2)\n",
    "\n",
    "# # df = openDFcsv(mv.query_path,mv.query_filename)\n",
    "# df_querry = readArticleFileTable(index_from=0,index_to=200,save_articles=False,save_final=True,save_steps=True,display_df=True,step_pct=0.01,add_nlp=2,filtered_input_df=True)\n",
    "# # df_join = joinQuerryAndParse(save=True,remove_invalid=True,display=True,filtered_input_df=True)# df_embd = mainGeneration(True,False,100,99999999,7500,9999,True,True,True,0.005)\n",
    "# # emb_mat = extractEmbeddingFromFile(9999999999)\n",
    "# # df_key = mainKeywordWF(99999999999999,1000)\n",
    "# # df_final = mainJoinOut()\n",
    "\n",
    "# # df = openDFcsv(mv.query_path,mv.query_filename)\n",
    "# # df3 = selectOnDf(df2,\"\",\"\")\n",
    "# # plotDFstatisticsQuerry(df,70)\n",
    "# # displayStats(df)\n",
    "# # saveDFcsv(df3,mv.query_path,mv.query_filename)\n",
    "\n",
    "\n",
    "# max_num = 10000000\n",
    "# step_pct=0.005\n",
    "# df = loop_scraping(9,'2000-01-01','2024-01-01',sampling_1=5,sampling_2=5,save_steps=True,save_final=True,display=True)\n",
    "# df2 =  filterQuerryDataset(df,150,10,True,True,True)\n",
    "# df_querry = readArticleFileTable(index_from=0,index_to=max_num,save_articles=True,save_final=True,save_steps=True,display_df=True,step_pct=step_pct,add_nlp=2,filtered_input_df=True)\n",
    "# df_join = joinQuerryAndParse(save=True,remove_invalid=True,display=True,filtered_input_df=True)\n",
    "# df_embd = mainGeneration(True,False,10,max_num,7500,1000,True,True,True,step_pct)\n",
    "# emb_mat = extractEmbeddingFromFile(max_num)\n",
    "# df_key = mainKeywordWF(max_num,100)\n",
    "# df_final = mainJoinOut()\n",
    "# df = loop_scraping(9,'2000-01-01','2024-01-01',sampling_1=1,sampling_2=1,save_steps=True,save_final=True,display=True)\n",
    "# df = openDFcsv(mv.join1_path,mv.join1_filename)\n",
    "# # col_list = [\"category\"] #,\"url_TLD\" #,\"source_title\",\"year_month\",\n",
    "# # col_list = [\"published\"]\n",
    "# col_list = [\"category\",\"year\",\"source_title\",\"year_month\"]#\n",
    "# df_list1 = calculateStatsColList(df,col_list,\"len\",display_df=True)\n",
    "# df_list2 = calculateStatsColList(df,col_list,\"nlp\",display_df=True,display_stats=True) #,out_raw=False\n",
    "# import matplotlib.pyplot as plt\n",
    "# for i in range(len(col_list)) :\n",
    "#     col_agg = col_list[i]\n",
    "#     table = df_list2[i]\n",
    "#     table.plot(kind='bar')\n",
    "#     plot = df_list[2].plot.barh(y='polarity_per_count',use_index=True, legend=True, fontsize= 8, title=\"test\") #, figsize=(5, 5) #,ax=axes[0],ay=axes[0], ylabel=\"\"\n",
    "# # fig, axes = plt.subplots(nrows=1, ncols=1, figsize=(5, 5))\n",
    "# # df_list[0].ix[5].plot(kind='bar'); plt.axhline(0, color='k')\n",
    "#     import plotly.express as px\n",
    "\n",
    "# fig = px.line(df_list2[1], x=df_list2[1].index, y=\"count\") #, color='country'\n",
    "# fig.show()\n",
    "# fig = px.line(df_list2[1], x=df_list2[1].index, y=\"polarity_per_count\") #, color='country'\n",
    "# fig.show()\n",
    "# fig = px.line(df_list2[1], x=df_list2[1].index, y=\"positivity_per_count\") #, color='country'\n",
    "# fig.show()\n",
    "# fig = px.line(df_list2[1], x=df_list2[1].index, y=\"negativity_per_count\") #, color='country'\n",
    "# fig.show()\n",
    "\n",
    "# from dash import Dash, dcc, html, Input, Output\n",
    "# import plotly.express as px\n",
    "\n",
    "# app = Dash(__name__)\n",
    "\n",
    "\n",
    "# app.layout = html.Div([\n",
    "#     html.H4('Life expentancy progression of countries per continents'),\n",
    "#     dcc.Graph(id=\"graph\"),\n",
    "#     dcc.Checklist(\n",
    "#         id=\"checklist\",\n",
    "#         options=[\"Asia\", \"Europe\", \"Africa\",\"Americas\",\"Oceania\"],\n",
    "#         value=[\"Americas\", \"Oceania\"],\n",
    "#         inline=True\n",
    "#     ),\n",
    "# ])\n",
    "\n",
    "\n",
    "# @app.callback(\n",
    "#     Output(\"graph\", \"figure\"), \n",
    "#     Input(\"checklist\", \"value\"))\n",
    "# def update_line_chart(continents):\n",
    "#     df = px.data.gapminder() # replace with your own data source\n",
    "#     mask = df.continent.isin(continents)\n",
    "#     fig = px.line(df[mask], \n",
    "#         x=\"year\", y=\"lifeExp\", color='country')\n",
    "#     return fig\n",
    "\n",
    "\n",
    "# app.run_server(debug=True)\n",
    "\n",
    "# d1 = {\"d1\":1}\n",
    "# d2 = {\"d2\":2}\n",
    "# d3 = d1|d2\n",
    "# print(d3)"
   ]
  },
  {
   "cell_type": "code",
   "execution_count": null,
   "id": "9db8524a",
   "metadata": {},
   "outputs": [],
   "source": []
  },
  {
   "cell_type": "code",
   "execution_count": null,
   "id": "3d81540d",
   "metadata": {},
   "outputs": [],
   "source": []
  },
  {
   "cell_type": "code",
   "execution_count": null,
   "id": "3fb78803",
   "metadata": {},
   "outputs": [],
   "source": []
  },
  {
   "cell_type": "code",
   "execution_count": null,
   "id": "a3b404e4",
   "metadata": {
    "scrolled": false
   },
   "outputs": [],
   "source": []
  },
  {
   "cell_type": "code",
   "execution_count": null,
   "id": "17793f7b",
   "metadata": {
    "scrolled": true
   },
   "outputs": [],
   "source": []
  },
  {
   "cell_type": "code",
   "execution_count": null,
   "id": "c2b7947a",
   "metadata": {},
   "outputs": [],
   "source": []
  },
  {
   "cell_type": "code",
   "execution_count": null,
   "id": "14d3c8a5",
   "metadata": {},
   "outputs": [],
   "source": []
  },
  {
   "cell_type": "code",
   "execution_count": null,
   "id": "96c2e732",
   "metadata": {},
   "outputs": [],
   "source": []
  },
  {
   "cell_type": "code",
   "execution_count": null,
   "id": "8954795a",
   "metadata": {},
   "outputs": [],
   "source": []
  },
  {
   "cell_type": "code",
   "execution_count": null,
   "id": "0ab35c81",
   "metadata": {},
   "outputs": [],
   "source": []
  },
  {
   "cell_type": "code",
   "execution_count": null,
   "id": "c2989239",
   "metadata": {},
   "outputs": [],
   "source": []
  },
  {
   "cell_type": "code",
   "execution_count": null,
   "id": "e165ee00",
   "metadata": {},
   "outputs": [],
   "source": []
  },
  {
   "cell_type": "code",
   "execution_count": null,
   "id": "6abf92d9",
   "metadata": {},
   "outputs": [],
   "source": []
  }
 ],
 "metadata": {
  "kernelspec": {
   "display_name": "Python 3 (ipykernel)",
   "language": "python",
   "name": "python3"
  },
  "language_info": {
   "codemirror_mode": {
    "name": "ipython",
    "version": 3
   },
   "file_extension": ".py",
   "mimetype": "text/x-python",
   "name": "python",
   "nbconvert_exporter": "python",
   "pygments_lexer": "ipython3",
   "version": "3.11.5"
  }
 },
 "nbformat": 4,
 "nbformat_minor": 5
}
