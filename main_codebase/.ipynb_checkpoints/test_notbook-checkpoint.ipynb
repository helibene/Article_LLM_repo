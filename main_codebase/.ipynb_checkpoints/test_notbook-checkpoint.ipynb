{
 "cells": [
  {
   "cell_type": "code",
   "execution_count": 1,
   "id": "935ce3b8",
   "metadata": {
    "scrolled": true
   },
   "outputs": [
    {
     "name": "stdout",
     "output_type": "stream",
     "text": [
      "IMPORT : main_var\n",
      "IMPORT : utils_art\n",
      "IMPORT : dimension_reduc \n",
      "[{'x': '0_tsne', 'y': '1_tsne', 'z': None, 'c': None, 'size': 'tb.sent', 'hover_name': None, 'custom_data': None, 'browser': True, 'facet_row': None, 'facet_col': None, 'facet_row_spacing': None, 'facet_col_spacing': None, 'log_x': False, 'log_y': False, 'log_z': False, 'render_mode': 'browser', 'size_max': None, 'opacity': 0.9, 'text_auto': True, 'plot_type': 'scatter', 'trendline': 'ols', 'color': 'category', 'title': 'Scatter 0_tsne', 'animation_frame': 'year'}]\n",
      "{'data_frame':      year       category    tb.pol    tb.sub    tb.pos    tb.neg    vs.pos  \\\n",
      "0    2010       BUSINESS  0.098986  0.359144  0.750112  0.249888  0.085581   \n",
      "1    2010  ENTERTAINMENT  0.073521  0.473528  0.737196  0.262804  0.139706   \n",
      "2    2010         HEALTH  0.080721  0.354699  0.745205  0.254795  0.086134   \n",
      "3    2010         NATION  0.089961  0.355450  0.749301  0.250699  0.094879   \n",
      "4    2010        SCIENCE  0.089189  0.364639  0.731327  0.268673  0.076250   \n",
      "..    ...            ...       ...       ...       ...       ...       ...   \n",
      "121  2023        SCIENCE  0.111363  0.358499  0.791786  0.208214  0.101148   \n",
      "122  2023         SPORTS  0.096673  0.361468  0.702961  0.297039  0.090983   \n",
      "123  2023     TECHNOLOGY  0.101148  0.378539  0.806714  0.193286  0.104987   \n",
      "124  2023            TOP  0.140467  0.355328  0.731343  0.268657  0.104105   \n",
      "125  2023          WORLD  0.083323  0.347575  0.808655  0.191345  0.097170   \n",
      "\n",
      "       vs.neu    vs.neg   vs.comp  ...  count_len  tb.char_ps  tb.noun_ps  \\\n",
      "0    0.873725  0.040699  0.157774  ...      837.0  125.011876    2.977224   \n",
      "1    0.823313  0.036977  0.301480  ...      854.0  112.028455    2.708594   \n",
      "2    0.853190  0.060670  0.095147  ...     1000.0  128.866080    3.018082   \n",
      "3    0.854363  0.050754  0.146070  ...      726.0  129.531429    3.103420   \n",
      "4    0.889132  0.034619  0.148315  ...     1212.0  140.483483    3.146347   \n",
      "..        ...       ...       ...  ...        ...         ...         ...   \n",
      "121  0.877321  0.021533  0.291172  ...      580.0  136.765194    3.492684   \n",
      "122  0.878797  0.030221  0.224308  ...      769.0  136.081479    3.606021   \n",
      "123  0.864688  0.030324  0.260566  ...      646.0  146.421546    3.582133   \n",
      "124  0.866873  0.029017  0.251705  ...      640.0  127.752079    3.557256   \n",
      "125  0.849648  0.053175  0.154917  ...     1022.0  143.236046    3.608897   \n",
      "\n",
      "     tb.word_ps  tb.char_pw   tb.char_pa  tb.sent_pa  tb.noun_pa   tb.word_pa  \\\n",
      "0     21.014650    5.948796  3823.093190   30.581840   91.048984   642.666667   \n",
      "1     19.882139    5.634628  3213.275176   28.682670   77.689696   570.272834   \n",
      "2     21.056805    6.119926  4682.349000   36.335000  109.662000   765.099000   \n",
      "3     22.377233    5.788536  6201.986226   47.880165  148.592287  1071.425620   \n",
      "4     23.118493    6.076671  4094.768977   29.147690   91.708746   673.850660   \n",
      "..          ...         ...          ...         ...         ...          ...   \n",
      "121   21.874212    6.252348  6510.494828   47.603448  166.263793  1041.287931   \n",
      "122   23.402190    5.814904  5883.533160   43.235371  155.907672  1011.802341   \n",
      "123   23.118378    6.333556  5853.235294   39.975232  143.196594   924.162539   \n",
      "124   21.715370    5.883026  6601.389063   51.673437  183.815625  1122.107812   \n",
      "125   22.968398    6.236223  5406.109589   37.742661  136.209393   866.888454   \n",
      "\n",
      "     count_equal  \n",
      "0           True  \n",
      "1           True  \n",
      "2           True  \n",
      "3           True  \n",
      "4           True  \n",
      "..           ...  \n",
      "121         True  \n",
      "122         True  \n",
      "123         True  \n",
      "124         True  \n",
      "125         True  \n",
      "\n",
      "[126 rows x 87 columns], 'color': 'category', 'height': None, 'width': None, 'template': None, 'title': 'Scatter 0_tsne', 'labels': None, 'hover_name': None, 'hover_data': None, 'custom_data': None, 'color_discrete_sequence': None, 'color_discrete_map': None, 'x': '0_tsne', 'y': '1_tsne', 'log_x': False, 'log_y': False, 'range_x': None, 'range_y': None, 'error_x': None, 'error_x_minus': None, 'error_y': None, 'error_y_minus': None, 'facet_row': None, 'facet_col': None, 'facet_col_wrap': 0, 'facet_row_spacing': None, 'facet_col_spacing': None, 'symbol': None, 'size': 'tb.sent', 'text': None, 'animation_frame': 'year', 'animation_group': None, 'category_orders': None, 'orientation': None, 'color_continuous_scale': None, 'range_color': None, 'color_continuous_midpoint': None, 'symbol_sequence': None, 'symbol_map': None, 'opacity': 0.9, 'size_max': None, 'marginal_x': None, 'marginal_y': None, 'marginal': None, 'trendline': 'ols', 'trendline_options': None, 'trendline_color_override': None, 'trendline_scope': None, 'render_mode': 'browser', 'z': None, 'log_z': False, 'range_z': None, 'error_z': None, 'error_z_minus': None, 'names': None, 'values': None, 'hole': None, 'pattern_shape_sequence': None, 'pattern_shape_map': None, 'base': None, 'pattern_shape': None, 'barmode': None, 'text_auto': True, 'line_dash': None, 'line_group': None, 'line_dash_sequence': None, 'line_dash_map': None, 'line_close': None, 'line_shape': None, 'barnorm': None, 'markers': None, 'groupnorm': None, 'parents': None, 'path': None, 'ids': None, 'branchvalues': None, 'maxdepth': None, 'a': None, 'b': None, 'c': None, 'dimensions': None, 'browser': True, 'xtitle': None, 'ytitle': None, 'ztitle': None, 'histnorm': None, 'histfunc': None, 'cumulative': None, 'nbins': 0, 'direction': 'clockwise', 'start_angle': 90, 'range_r': None, 'range_theta': None, 'log_r': None, 'plot_type': 'scatter'}\n"
     ]
    }
   ],
   "source": [
    "import main_var\n",
    "mv = main_var.main_var()\n",
    "from dimension_reduc_lib import calculateStatsColList\n",
    "from visualization_module_lib import *\n",
    "from utils_art import *\n",
    "\n",
    "# from scrap_lib import *\n",
    "# from pars_lib import *\n",
    "# from openai_module_lib import *\n",
    "# from embedding_keyword_module_lib import *\n",
    "# from dimension_reduc_lib import *\n",
    "# from agg_lib import *\n",
    "\n",
    "\n",
    "_ENTRY_NUMBER = 1000000\n",
    "_STEP_PCT = 0.01\n",
    "graph_folder = \"graphs/\"\n",
    "\n",
    "# # ============= PX plots\n",
    "# df_main = openDFcsv(mv.visu_path,\"visu_file_['year', 'category']\")\n",
    "# df_main.head()\n",
    "# # df_main = openDFcsv(mv.join2_path,mv.join2_filename)\n",
    "# _2dList_out, _3dList_out = getRenderLists()\n",
    "# print(_2dList_out)\n",
    "# plt_2dList = renderAllOptions(df_main,_2dList_out)\n",
    "# plt_3dList = renderAllOptions(df_main,_3dList_out)\n",
    "# savePlotList(plt_2dList,mv.visu_path,\"2D_xxx\")\n",
    "# savePlotList(plt_3dList,mv.visu_path,\"3D_xxx\")\n",
    "\n",
    "# ============= Keywords\n",
    "# df_main = openDFcsv(mv.join2_path,mv.join2_filename)\n",
    "# display(df_main.head(3))\n",
    "# print(df_main.shape)\n",
    "# #df_main[\"word_combined_all\"].str.split(expand=True)\n",
    "# df_group = df_main[[\"category\",\"word_combined_all\"]].groupby(\"category\").sum()\n",
    "# df_group[\"wca_save\"]=df_group[\"word_combined_all\"]\n",
    "# df_group[\"len\"] = df_group[\"word_combined_all\"].str.len()\n",
    "# print(df_group.shape)\n",
    "# display(df_group)\n",
    "# out = df_group[\"word_combined_all\"].str.split(expand=True)\n",
    "# out = out.reset_index()\n",
    "# print(out.shape)\n",
    "# display(out)\n",
    "# out2 = out.pivot()#index='foo',, values='baz' columns='category'\n",
    "# print(out2.shape)\n",
    "# display(out2)\n",
    "\n",
    "# ============= MAT Plots\n",
    "df_main = openDFcsv(mv.join2_path,mv.join2_filename)\n",
    "#agg_list = [\"category\",\"year\",\"source_title\",[\"year\",\"category\"],[\"year\",\"source_title\"]]#,[\"year\",\"category\"],[\"year\",\"source_title\"]]\n",
    "agg_list = [\"year_month\",[\"year_month\",\"category\"],[\"year_month\",\"source_title\"],\"tb.class\",\"vs.class\",\"ts.class\"]#[\"year\",\"category\"],[\"year\",\"source_title\"]]#,[\"year\",\"category\"],[\"year\",\"source_title\"]]\n",
    "#field_list = [False,True,False,True,True]#,[\"year\",\"category\"],[\"year\",\"source_title\"]\n",
    "df_list=calculateStatsColList(df_main,agg_list,display_df=True,display_stats=True,out_raw=False,save=True)\n",
    "# count = 0\n",
    "# for agg in agg_list :\n",
    "#     df_main = openDFcsv(mv.visu_path,mv.visu_filename+\"_\"+str(agg))\n",
    "#     if type(agg)!=type([]) :\n",
    "#         fig = displayCatStats(df_main,agg,display_col_bar=field_list[count])##\n",
    "#         fig.savefig(mv.visu_path+graph_folder+mv.visu_filename+\"_\"+agg+\".png\")\n",
    "#     else :\n",
    "#         filter_list = list(set(df_main[agg[1]].tolist()))\n",
    "#         print(filter_list)\n",
    "#         for filter_val in filter_list :\n",
    "#             fig = displayCatStats(df_main,agg,agg[1],filter_val,display_col_bar=field_list[count])##\n",
    "#             fig.savefig(mv.visu_path+graph_folder+mv.visu_filename+\"_\"+str(agg)+\"_\"+str(filter_val)+\".png\")\n",
    "#     count = count +1"
   ]
  },
  {
   "cell_type": "code",
   "execution_count": null,
   "id": "60db8a24",
   "metadata": {},
   "outputs": [],
   "source": [
    "import main_var\n",
    "mv = main_var.main_var()\n",
    "\n",
    "# from scrap_lib import *\n",
    "# from pars_lib import *\n",
    "# from openai_module_lib import *\n",
    "# from embedding_keyword_module_lib import *\n",
    "from visualization_module_lib import *\n",
    "# from dimension_reduc_lib import *\n",
    "# from agg_lib import *\n",
    "from utils_art import *\n",
    "\n",
    "_ENTRY_NUMBER = 1000000\n",
    "_STEP_PCT = 0.01\n",
    "\n",
    "df_main = openDFcsv(mv.join2_path,mv.join2_filename)\n",
    "_2dList_out, _3dList_out = getRenderLists()\n",
    "plt_2dList = renderAllOptions(df_main,_2dList_out)\n",
    "plt_3dList = renderAllOptions(df_main,_3dList_out)"
   ]
  },
  {
   "cell_type": "code",
   "execution_count": null,
   "id": "2a25bc7c",
   "metadata": {},
   "outputs": [],
   "source": [
    "df_main = openDFcsv(mv.join2_path,mv.join2_filename)\n",
    "#out_list, out_list_label = selectAlgoDfList(df_main,3, norm_output=True, active_sel=[True,True,True,False])\n",
    "_2dList_out, _3dList_out = getRenderLists()\n",
    "#for i in range(len(_2dList_out)):\n",
    "plt_2dList = renderAllOptions(df_main,True,_2dList_out,\"\")\n",
    "savePlotList(plt_2dList,mv.visu_path,\"2D_\"+\"\")\n",
    "plt_3dList = renderAllOptions(df_main,False,_3dList_out,\"\")\n",
    "savePlotList(plt_3dList,mv.visu_path,\"3D_\"+\"\")\n",
    "# _2dList_out, _3dList_out = getRenderLists(False,False,True,True)\n",
    "# plt_2dList = renderAllOptions(df_main,True,_2dList_out,\"\")\n",
    "# savePlotList(plt_2dList,mv.visu_path,\"2D_xxx\")\n",
    "# plt_3dList = renderAllOptions(df_main,False,_2dList_out,\"\")\n",
    "# savePlotList(plt_3dList,mv.visu_path,\"3D_xxx\")"
   ]
  },
  {
   "cell_type": "code",
   "execution_count": null,
   "id": "415aa9e0",
   "metadata": {
    "scrolled": true
   },
   "outputs": [],
   "source": [
    "df_embdedding = openDFxlsx(\"C:/Users/User/OneDrive/Desktop/Article_LLM/main_files/0_1_bin/\",\"code_conf_excel.xlsx\",\"prompts\",\"\")\n",
    "df_embdedding = mainGeneration(articleTRUEquestionFALSE=False,\n",
    "                     completionTRUEembeddingFALSE=True,\n",
    "                     dimension=100,\n",
    "                     max_prompt=_ENTRY_NUMBER,\n",
    "                     token_max_emb=7500,\n",
    "                     cara_max_emb=10000,\n",
    "                     save_final=True,\n",
    "                     display_df_var=True,\n",
    "                     save_steps=True,\n",
    "                     step_pct=_STEP_PCT)"
   ]
  },
  {
   "cell_type": "code",
   "execution_count": null,
   "id": "d0534226",
   "metadata": {},
   "outputs": [],
   "source": [
    "# df_embdedding = openDFcsv(mv.embdedding_path,mv.embdedding_filename)\n",
    "df_embdedding = mainGeneration(articleTRUEquestionFALSE=True,\n",
    "                     completionTRUEembeddingFALSE=False,\n",
    "                     dimension=100,\n",
    "                     max_prompt=_ENTRY_NUMBER,\n",
    "                     token_max_emb=7500,\n",
    "                     cara_max_emb=10000,\n",
    "                     save_final=True,\n",
    "                     display_df_var=True,\n",
    "                     save_steps=True,\n",
    "                     step_pct=_STEP_PCT)"
   ]
  },
  {
   "cell_type": "code",
   "execution_count": null,
   "id": "b1cd63c1",
   "metadata": {},
   "outputs": [],
   "source": [
    "emb_mat = extractEmbeddingFromFile(_ENTRY_NUMBER,True)"
   ]
  },
  {
   "cell_type": "code",
   "execution_count": null,
   "id": "24230340",
   "metadata": {},
   "outputs": [],
   "source": [
    "df_embdedding2 = generateDimReducedDF(n_components=3,\n",
    "                                          norm_output=True,\n",
    "                                      active_sel=[True,True,True,False])"
   ]
  },
  {
   "cell_type": "markdown",
   "id": "82ea887b",
   "metadata": {},
   "source": [
    "### Keyword extraction and NLP analysis `(2_2_keyword)`"
   ]
  },
  {
   "cell_type": "markdown",
   "id": "a40df786",
   "metadata": {},
   "source": [
    "<div class=\"alert alert-block alert-info\">\n",
    "### Keyword extraction and NLP analysis `(2_2_keyword)`\n",
    "</div>"
   ]
  },
  {
   "cell_type": "markdown",
   "id": "d7592088",
   "metadata": {},
   "source": [
    "***\n",
    "hello"
   ]
  },
  {
   "cell_type": "markdown",
   "id": "e50bff76",
   "metadata": {},
   "source": [
    "# Final join and visualization\n",
    "### Joining Quering/Scraping/Embedding/Keywords `(3_1_join)`"
   ]
  },
  {
   "cell_type": "code",
   "execution_count": null,
   "id": "5d103788",
   "metadata": {},
   "outputs": [],
   "source": [
    "val = [{\"test\":\"lol\"}]*False+[{\"test2\":\"lol2\"}]*True\n",
    "print(val)"
   ]
  },
  {
   "cell_type": "code",
   "execution_count": null,
   "id": "6b9d3805",
   "metadata": {},
   "outputs": [],
   "source": [
    "import main_var\n",
    "mv = main_var.main_var()\n",
    "from dimension_reduc_lib import calculateStatsNLP\n",
    "from utils_art import *\n",
    "df_main = openDFcsv(mv.join2_path,mv.join2_filename)\n",
    "print(df_main.shape)\n",
    "df=calculateStatsNLP(df_main,\"category\")\n",
    "# calculateStatsNLP(df_main,\"year_month\")\n",
    "# calculateStatsNLP(df_main,\"year\")\n",
    "# df=calculateStatsNLP(df_main,\"source_title\",sort_by_groupping=False)\n",
    "print(list(df.columns))"
   ]
  },
  {
   "cell_type": "code",
   "execution_count": null,
   "id": "fa743cf3",
   "metadata": {},
   "outputs": [],
   "source": []
  }
 ],
 "metadata": {
  "kernelspec": {
   "display_name": "Python 3 (ipykernel)",
   "language": "python",
   "name": "python3"
  },
  "language_info": {
   "codemirror_mode": {
    "name": "ipython",
    "version": 3
   },
   "file_extension": ".py",
   "mimetype": "text/x-python",
   "name": "python",
   "nbconvert_exporter": "python",
   "pygments_lexer": "ipython3",
   "version": "3.11.5"
  }
 },
 "nbformat": 4,
 "nbformat_minor": 5
}
