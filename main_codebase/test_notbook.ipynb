{
 "cells": [
  {
   "cell_type": "code",
   "execution_count": null,
   "id": "935ce3b8",
   "metadata": {},
   "outputs": [],
   "source": [
    "import main_var\n",
    "mv = main_var.main_var()\n",
    "\n",
    "from article_scraping_lib import *\n",
    "from article_parsing_lib import *\n",
    "from openai_module_lib import *\n",
    "from embedding_keyword_module_lib import *\n",
    "from visualization_module_lib import *\n",
    "from dimension_reduc_lib import *\n",
    "from aggregation_module_lib import *\n",
    "from utils_art import *"
   ]
  },
  {
   "cell_type": "code",
   "execution_count": null,
   "id": "415aa9e0",
   "metadata": {
    "scrolled": true
   },
   "outputs": [],
   "source": [
    "df_embdedding = openDFxlsx(\"C:/Users/User/OneDrive/Desktop/Article_LLM/main_files/0_1_bin/\",\"code_conf_excel.xlsx\",\"prompts\",\"\")\n",
    "df_embdedding = mainGeneration(articleTRUEquestionFALSE=False,\n",
    "                     completionTRUEembeddingFALSE=True,\n",
    "                     dimension=100,\n",
    "                     max_prompt=_ENTRY_NUMBER,\n",
    "                     token_max_emb=7500,\n",
    "                     cara_max_emb=10000,\n",
    "                     save_final=True,\n",
    "                     display_df_var=True,\n",
    "                     save_steps=True,\n",
    "                     step_pct=_STEP_PCT)"
   ]
  },
  {
   "cell_type": "code",
   "execution_count": null,
   "id": "d0534226",
   "metadata": {},
   "outputs": [],
   "source": []
  },
  {
   "cell_type": "code",
   "execution_count": null,
   "id": "b1cd63c1",
   "metadata": {},
   "outputs": [],
   "source": []
  },
  {
   "cell_type": "code",
   "execution_count": null,
   "id": "24230340",
   "metadata": {},
   "outputs": [],
   "source": []
  }
 ],
 "metadata": {
  "kernelspec": {
   "display_name": "Python 3 (ipykernel)",
   "language": "python",
   "name": "python3"
  },
  "language_info": {
   "codemirror_mode": {
    "name": "ipython",
    "version": 3
   },
   "file_extension": ".py",
   "mimetype": "text/x-python",
   "name": "python",
   "nbconvert_exporter": "python",
   "pygments_lexer": "ipython3",
   "version": "3.11.5"
  }
 },
 "nbformat": 4,
 "nbformat_minor": 5
}
